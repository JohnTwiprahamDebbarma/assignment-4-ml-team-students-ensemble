{
  "nbformat": 4,
  "nbformat_minor": 0,
  "metadata": {
    "colab": {
      "provenance": [],
      "gpuType": "T4"
    },
    "kernelspec": {
      "name": "python3",
      "display_name": "Python 3"
    },
    "language_info": {
      "name": "python"
    },
    "accelerator": "GPU"
  },
  "cells": [
    {
      "cell_type": "code",
      "source": [
        "import shutil\n",
        "shutil.unpack_archive('/content/AfricanElephantvsKangaroo.zip', 'FinalDS')"
      ],
      "metadata": {
        "id": "ooT0DFDabG_S"
      },
      "execution_count": 18,
      "outputs": []
    },
    {
      "cell_type": "code",
      "execution_count": 19,
      "metadata": {
        "id": "C8pCFAGpTTp9",
        "colab": {
          "base_uri": "https://localhost:8080/"
        },
        "outputId": "bee159aa-c1c4-4a75-d340-babc1d30d7ea"
      },
      "outputs": [
        {
          "output_type": "stream",
          "name": "stdout",
          "text": [
            "Epoch [1/5] - Loss: 2.9230 - Accuracy: 54.38%\n",
            "Epoch [2/5] - Loss: 1.6450 - Accuracy: 41.25%\n",
            "Epoch [3/5] - Loss: 0.8359 - Accuracy: 48.75%\n",
            "Epoch [4/5] - Loss: 0.7663 - Accuracy: 41.25%\n",
            "Epoch [5/5] - Loss: 0.7100 - Accuracy: 45.62%\n",
            "Time taken: 17.533326625823975 seconds\n"
          ]
        }
      ],
      "source": [
        "import torch\n",
        "import torch.nn as nn\n",
        "import torch.optim as optim\n",
        "import torchvision.transforms as transforms\n",
        "from torchvision.datasets import ImageFolder\n",
        "from torch.utils.data import DataLoader\n",
        "from torchvision.models import vgg16\n",
        "import time\n",
        "\n",
        "time_start = time.time()\n",
        "\n",
        "# Define the VGG-16 model\n",
        "class VGG16Binary(nn.Module):\n",
        "    def __init__(self, num_classes=2):\n",
        "        super(VGG16Binary, self).__init__()\n",
        "        self.vgg16 = vgg16(pretrained=True)\n",
        "        self.vgg16.classifier[6] = nn.Linear(4096, num_classes)\n",
        "\n",
        "    def forward(self, x):\n",
        "        return self.vgg16(x)\n",
        "\n",
        "# Load the dataset from the zip file\n",
        "data_transform = transforms.Compose([\n",
        "    transforms.Resize((224, 224)),\n",
        "    transforms.ToTensor(),\n",
        "])\n",
        "\n",
        "dataset = ImageFolder(root='/content/FinalDS/AfricanElephantvsKangaroo/Train', transform=data_transform)\n",
        "dataloader = DataLoader(dataset, batch_size=32, shuffle=True)\n",
        "\n",
        "# Initialize the model\n",
        "device = torch.device('cuda' if torch.cuda.is_available() else 'cpu')\n",
        "model = VGG16Binary(num_classes=2).to(device)\n",
        "\n",
        "# Define loss function and optimizer\n",
        "criterion = nn.CrossEntropyLoss()\n",
        "optimizer = optim.Adam(model.parameters(), lr=0.001)\n",
        "\n",
        "# Training loop\n",
        "num_epochs = 5\n",
        "for epoch in range(num_epochs):\n",
        "    model.train()\n",
        "    total_correct = 0\n",
        "    total_samples = 0\n",
        "\n",
        "    for images, labels in dataloader:\n",
        "        images, labels = images.to(device), labels.to(device)\n",
        "        optimizer.zero_grad()\n",
        "        outputs = model(images)\n",
        "        loss = criterion(outputs, labels)\n",
        "        loss.backward()\n",
        "        optimizer.step()\n",
        "\n",
        "        # Compute accuracy for this batch\n",
        "        _, predicted_class = torch.max(outputs, 1)\n",
        "        total_correct += (predicted_class == labels).sum().item()\n",
        "        total_samples += labels.size(0)\n",
        "\n",
        "    # Calculate accuracy for the epoch\n",
        "    epoch_accuracy = 100 * total_correct / total_samples\n",
        "\n",
        "    print(f\"Epoch [{epoch+1}/{num_epochs}] - Loss: {loss.item():.4f} - Accuracy: {epoch_accuracy:.2f}%\")\n",
        "\n",
        "\n",
        "# End Time\n",
        "time_end = time.time()\n",
        "\n",
        "# Print time taken\n",
        "print(f'Time taken: {time_end - time_start} seconds')\n"
      ]
    },
    {
      "cell_type": "code",
      "source": [
        "\n",
        "test_dataset = ImageFolder(root='/content/FinalDS/AfricanElephantvsKangaroo/Test', transform=data_transform)\n",
        "test_dataloader = DataLoader(test_dataset, batch_size=32, shuffle=True)\n"
      ],
      "metadata": {
        "id": "qGpNix22bqbr"
      },
      "execution_count": 22,
      "outputs": []
    },
    {
      "cell_type": "code",
      "source": [
        "# Assuming you have a test dataloader (test_dataloader) and a trained model (model)\n",
        "model.eval()  # Set the model to evaluation mode\n",
        "\n",
        "total_correct = 0\n",
        "total_samples = 0\n",
        "\n",
        "with torch.no_grad():\n",
        "    for images, labels in test_dataloader:\n",
        "        images, labels = images.to(device), labels.to(device)\n",
        "        outputs = model(images)\n",
        "        _, predicted_class = torch.max(outputs, 1)\n",
        "        total_correct += (predicted_class == labels).sum().item()\n",
        "        total_samples += labels.size(0)\n",
        "\n",
        "test_accuracy = 100 * total_correct / total_samples\n",
        "print(f\"Test Accuracy: {test_accuracy:.2f}%\")\n"
      ],
      "metadata": {
        "colab": {
          "base_uri": "https://localhost:8080/"
        },
        "id": "SdObZtmic2y3",
        "outputId": "d3b01adf-461f-4ad7-f769-aeb0a18f447d"
      },
      "execution_count": 23,
      "outputs": [
        {
          "output_type": "stream",
          "name": "stdout",
          "text": [
            "Test Accuracy: 50.00%\n"
          ]
        }
      ]
    },
    {
      "cell_type": "code",
      "source": [],
      "metadata": {
        "id": "w5eZH4QwdPGm"
      },
      "execution_count": 14,
      "outputs": []
    }
  ]
}