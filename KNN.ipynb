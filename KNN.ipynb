{
 "cells": [
  {
   "cell_type": "code",
   "execution_count": 1,
   "metadata": {},
   "outputs": [],
   "source": [
    "import numpy as np\n",
    "import pandas as pd\n",
    "from scipy import stats\n",
    "import matplotlib.pyplot as plt\n",
    "%matplotlib inline\n",
    "%config InlineBackend.figure_format = 'retina'"
   ]
  },
  {
   "cell_type": "code",
   "execution_count": 2,
   "metadata": {},
   "outputs": [],
   "source": [
    "def get_data(n=100, d=2, seed=0):\n",
    "\tnp.random.seed(seed)\n",
    "\tX = np.random.randn(n, d)\n",
    "\tY = np.random.randint(0, d, n)\n",
    "\treturn X, Y"
   ]
  },
  {
   "cell_type": "code",
   "execution_count": 3,
   "metadata": {},
   "outputs": [],
   "source": [
    "class KNN():\n",
    "    class Node():\n",
    "        def __init__(self, median=None, split_dim=None, left=None, right=None, points=None):\n",
    "            self.median = median\n",
    "            self.split_dim = split_dim\n",
    "            self.left = left\n",
    "            self.right = right\n",
    "            self.points = points\n",
    "            self.is_leaf = points is not None\n",
    "            \n",
    "        def __repr__(self):\n",
    "            return f\"Node(median={self.median}, split_dim={self.split_dim}, points={self.points}, is_leaf={self.is_leaf})\"\n",
    "\n",
    "    class KDTree():\n",
    "        def __init__(self, X, Y, max_depth=3):\n",
    "            self.X = X\n",
    "            self.Y = Y\n",
    "            self.root = None\n",
    "            self.max_depth = max_depth\n",
    "            self.split_dims = np.random.permutation(X.shape[1])\n",
    "            self.dims = X.shape[1]\n",
    "\n",
    "        def build_tree(self, X, Y, max_depth):\n",
    "            if len(X) == 0:\n",
    "                return None\n",
    "            if max_depth == 0 or len(X) == 1:\n",
    "                return KNN.Node(points = (X, Y))\n",
    "            split_dim = self.split_dims[max_depth % self.dims]\n",
    "            median = np.median(X[:, split_dim])\n",
    "            left = X[:, split_dim] < median\n",
    "            right = X[:, split_dim] >= median\n",
    "\n",
    "            return KNN.Node(median, split_dim, self.build_tree(X[left], Y[left], max_depth - 1), self.build_tree(X[right], Y[right], max_depth - 1))\n",
    "        \n",
    "        def query(self, x, k):\n",
    "            x_vals, best = self.query_recursive(self.root, x, k)\n",
    "            return x_vals, best\n",
    "        \n",
    "        def query_recursive(self, node, x, k):\n",
    "            if node.is_leaf:\n",
    "                dist = np.linalg.norm(node.points[0] - x, axis=1)\n",
    "                idx = np.argsort(dist, axis=0)\n",
    "                if len(idx) > k:\n",
    "                    idx = idx[:k]\n",
    "                best = sorted([(dist[i], node.points[1][i]) for i in idx])\n",
    "                x_vals = node.points[0][idx]\n",
    "                \n",
    "                return x_vals, best\n",
    "            if x[node.split_dim] < node.median:\n",
    "                x_vals, best = self.query_recursive(node.left, x, k)\n",
    "            else:\n",
    "                x_vals, best = self.query_recursive(node.right, x, k)\n",
    "                \n",
    "            return x_vals, best\n",
    "        \n",
    "        def visualize(self, nearest_points, query_pt):\n",
    "            fig,ax = plt.subplots(figsize=(5, 5))\n",
    "            ax.scatter(self.X[:, 0], self.X[:, 1], s=100)\n",
    "            ax.set_xlabel('X1')\n",
    "            ax.set_ylabel('X2')\n",
    "            ax.grid(True, which='both', axis='both', linestyle='--', linewidth=1, alpha=0.5)\n",
    "            ax.set_xticks(np.arange(min(self.X[:, 0]), max(self.X[:, 0])+1, 1))\n",
    "            ax.set_yticks(np.arange(min(self.X[:, 1]), max(self.X[:, 1])+1, 1))\n",
    "            for point in nearest_points:\n",
    "                ax.plot([query_pt[0], point[0]], [query_pt[1], point[1]], 'r--', linewidth=1)\n",
    "                ax.scatter(point[0], point[1], color='orange', s=100)\n",
    "            ax.scatter(query_pt[0], query_pt[1], color='red', s=100)\n",
    "            self.plot_tree(self.root,ax)\n",
    "            \n",
    "        def plot_tree(self,node,ax, prev_split_dim=[], prev_median=[], prev_split_direction=[],first=True):\n",
    "            if node.is_leaf:\n",
    "                return\n",
    "            \n",
    "            split_dim = node.split_dim\n",
    "            median = node.median\n",
    "            all_prev_split_dim,all_prev_median = prev_split_dim,prev_median\n",
    "            split_direction = prev_split_direction\n",
    "            if split_dim==0:\n",
    "                max_limit = self.X[:,0].max()\n",
    "                min_limit = self.X[:,0].min()\n",
    "                for sd in range(len(all_prev_split_dim)):\n",
    "                    if all_prev_split_dim[sd]==1:\n",
    "                        if split_direction[sd]=='left':\n",
    "                            if max_limit>=all_prev_median[sd]:\n",
    "                                max_limit = all_prev_median[sd]\n",
    "                        else:\n",
    "                            if min_limit<=all_prev_median[sd]:\n",
    "                                min_limit = all_prev_median[sd]\n",
    "                if first:\n",
    "                    max_limit += 1\n",
    "                y_values = np.linspace(min_limit,max_limit,10)\n",
    "                ax.plot([median]*len(y_values),y_values, linestyle=\"--\", linewidth=1,color='green')\n",
    "            else:\n",
    "                max_limit = self.X[:,1].max()\n",
    "                min_limit = self.X[:,1].min()\n",
    "                for sd in range(len(all_prev_split_dim)):\n",
    "                    if all_prev_split_dim[sd]==0:\n",
    "                        if split_direction[sd]=='left':\n",
    "                            if max_limit>=all_prev_median[sd]:\n",
    "                                max_limit = all_prev_median[sd]\n",
    "                        else:\n",
    "                            if min_limit<=all_prev_median[sd]:\n",
    "                                min_limit = all_prev_median[sd]\n",
    "                if first:\n",
    "                    max_limit += 1\n",
    "                x_values = np.linspace(min_limit,max_limit,10)\n",
    "                ax.plot(x_values,[median]*len(x_values), linestyle=\"--\", linewidth=1,color='green')\n",
    "            if node.left is not None:\n",
    "            \tself.plot_tree(node.left,ax, prev_split_dim+[split_dim], prev_median+[median], prev_split_direction+[\"left\"],first=False)\n",
    "            if node.right is not None:\n",
    "                self.plot_tree(node.right,ax, prev_split_dim+[split_dim], prev_median+[median], prev_split_direction+[\"right\"],first=False)\n",
    "\n",
    "    class LSH():\n",
    "        def __init__(self, X, Y, p=2, l=1, k=3):\n",
    "            self.X = X\n",
    "            self.Y = Y\n",
    "            self.p = p\n",
    "            self.l = l\n",
    "            self.k = k\n",
    "            self.hashes = {}\n",
    "            self.tables = []\n",
    "            self.build_tables()\n",
    "            \n",
    "        def build_tables(self):\n",
    "            R = np.random.randn(self.p, self.X.shape[1] + 1)\n",
    "            self.tables = R\n",
    "            x_aug = np.concatenate((np.ones((self.X.shape[0], 1)), self.X), axis=1)\n",
    "            signs = np.sign(np.dot(R, x_aug.T)).T.astype(int)\n",
    "            unique_hashes = np.unique(signs, axis=0)\n",
    "            for hash in unique_hashes:\n",
    "                self.hashes[tuple(hash.tolist())] = (self.X[np.all(signs == hash, axis=1)], self.Y[np.all(signs == hash, axis=1)])\n",
    "        \n",
    "        def query(self, x, k):\n",
    "            x_aug = np.concatenate(([1], x)).reshape(1, -1)\n",
    "            hash = np.sign(np.dot(self.tables, x_aug.T)).T.astype(int).reshape(-1)\n",
    "            x_vals, y_vals = self.hashes[tuple(hash.tolist())]\n",
    "            dist = np.linalg.norm(x_vals - x, axis=1)\n",
    "            idx = np.argsort(dist, axis=0)\n",
    "            if len(idx) > k:\n",
    "                idx = idx[:k]\n",
    "            return x_vals[idx], y_vals[idx]\n",
    "        \n",
    "        def visualize(self, nearest_points, query_pt):\n",
    "            fig,ax = plt.subplots(figsize=(5, 5))\n",
    "            ax.scatter(self.X[:, 0], self.X[:, 1], s=100)\n",
    "            ax.set_xlabel('X1')\n",
    "            ax.set_ylabel('X2')\n",
    "            ax.grid(True, which='both', axis='both', linestyle='--', linewidth=1, alpha=0.5)\n",
    "            x1_min, x1_max = self.X[:, 0].min(), self.X[:, 0].max()\n",
    "            ax.set_xticks(np.arange(min(self.X[:, 0]), max(self.X[:, 0])+1, 1))\n",
    "            # ax.set_yticks(np.arange(min(self.X[:, 1]), max(self.X[:, 1])+1, 1))\n",
    "            for point in nearest_points:\n",
    "                ax.plot([query_pt[0], point[0]], [query_pt[1], point[1]], 'r--', linewidth=1)\n",
    "                ax.scatter(point[0], point[1], color='orange', s=100)\n",
    "            for i in range(len(self.tables)):\n",
    "                plane = self.tables[i]\n",
    "                x1 = np.array([x1_min, x1_max])\n",
    "                x2 = (-plane[0] - plane[1] * x1) / plane[2]\n",
    "                ax.plot(x1, x2, linestyle=\"--\", linewidth=1, color='green')\n",
    "            ax.scatter(query_pt[0], query_pt[1], color='red', s=100)\n",
    "            # maximum y height for the plot is 1\n",
    "            ax.set_ylim(-2.25, 2.25)\n",
    "            plt.show()\n",
    "        \n",
    "    def __init__(self, k=3, method=\"knn\", max_depth=3, p=2, l=3):\n",
    "        self.k = k\n",
    "        self.method = method\n",
    "        self.max_depth = max_depth\n",
    "        self.p = p\n",
    "        self.l = l\n",
    "        \n",
    "    def fit_knn(self):\n",
    "        pass\n",
    "\n",
    "    def fit_kd_tree(self):\n",
    "        self.tree = self.KDTree(self.X, self.Y, self.max_depth)\n",
    "        self.tree.root = self.tree.build_tree(self.X, self.Y, self.max_depth)\n",
    "\n",
    "    def fit_lsh(self):\n",
    "        self.lsh = self.LSH(self.X, self.Y, self.p, self.l, self.k)\n",
    "        \n",
    "    def pred_knn(self, x, nearest_neighbors=False):\n",
    "        dist = np.linalg.norm(self.X - x, axis=1)\n",
    "        idx = np.argsort(dist, axis=0)[:self.k]\n",
    "        if nearest_neighbors:\n",
    "            return self.X[idx]\n",
    "        return stats.mode(self.Y[idx], axis=0).mode\n",
    "\n",
    "    def pred_kd_tree(self, x, nearest_neighbors=False):\n",
    "        x_vals, points = self.tree.query(x, self.k)\n",
    "        if nearest_neighbors:\n",
    "            return x_vals\n",
    "        preds = np.array(points)[:, 1]\n",
    "        return stats.mode(preds, axis=0).mode\n",
    "    \n",
    "    def pred_lsh(self, X, nearest_neighbors=False):\n",
    "        x_vals, points = self.lsh.query(X, self.k)\n",
    "        if nearest_neighbors:\n",
    "            return x_vals\n",
    "        preds = np.array(points)\n",
    "        return stats.mode(preds, axis=0).mode\n",
    "        \n",
    "    fit_funcs = {\"knn\": fit_knn, \"kd_tree\": fit_kd_tree, \"lsh\": fit_lsh}\n",
    "    pred_funcs = {\"knn\": pred_knn, \"kd_tree\": pred_kd_tree, \"lsh\": pred_lsh}\n",
    "\n",
    "    def fit(self, X, Y):\n",
    "        self.X = X\n",
    "        self.Y = Y\n",
    "        self.fit_funcs[self.method](self)\n",
    "\n",
    "    def predict(self, x, nearest_neighbors=False):\n",
    "        return self.pred_funcs[self.method](self, x, nearest_neighbors)\n",
    "    \n",
    "    def plot_dataset(self, nearest_points, query_pt):\n",
    "        fig, ax = plt.subplots(figsize=(5, 5))\n",
    "        ax.scatter(self.X[:, 0], self.X[:, 1], s=100)\n",
    "        ax.set_xlabel('X1')\n",
    "        ax.set_ylabel('X2')\n",
    "        ax.grid(True, which='both', axis='both', linestyle='--', linewidth=1, alpha=0.5)\n",
    "        ax.set_xticks(np.arange(min(self.X[:, 0]), max(self.X[:, 0])+1, 1))\n",
    "        ax.set_yticks(np.arange(min(self.X[:, 1]), max(self.X[:, 1])+1, 1))\n",
    "        for point in nearest_points:\n",
    "            ax.plot([query_pt[0], point[0]], [query_pt[1], point[1]], 'r--', linewidth=1)\n",
    "            ax.scatter(point[0], point[1], color='orange', s=100)\n",
    "        ax.scatter(query_pt[0], query_pt[1], color='red', s=100)\n",
    "        plt.show()\n",
    "        \n",
    "    \n",
    "    def visualize(self, query_pt):\n",
    "        nearest_points = self.predict(query_pt, nearest_neighbors=True)\n",
    "        if self.method == \"kd_tree\":\n",
    "            self.tree.visualize(nearest_points, query_pt)\n",
    "        if self.method == \"knn\":\n",
    "            self.plot_dataset(nearest_points, query_pt)\n",
    "        if self.method == \"lsh\":\n",
    "            self.lsh.visualize(nearest_points, query_pt)\n",
    "            "
   ]
  },
  {
   "cell_type": "code",
   "execution_count": 4,
   "metadata": {},
   "outputs": [],
   "source": [
    "X, Y = get_data(n=25, d=2, seed=5)\n",
    "x_test = np.random.randn(2)"
   ]
  },
  {
   "cell_type": "code",
   "execution_count": 5,
   "metadata": {},
   "outputs": [
    {
     "data": {
      "image/png": "[encoded data removed]",
      "text/plain": [
       "<Figure size 640x480 with 1 Axes>"
      ]
     },
     "metadata": {
      "image/png": {
       "height": 413,
       "width": 559
      }
     },
     "output_type": "display_data"
    }
   ],
   "source": [
    "# plot data\n",
    "plt.scatter(X[:, 0], X[:, 1], c=Y, cmap='viridis')\n",
    "plt.show()"
   ]
  },
  {
   "cell_type": "code",
   "execution_count": 6,
   "metadata": {},
   "outputs": [
    {
     "name": "stdout",
     "output_type": "stream",
     "text": [
      "[ 0.44122749 -0.33087015] 0\n",
      "[ 2.43077119 -0.25209213] 0\n",
      "[0.10960984 1.58248112] 0\n",
      "[-0.9092324  -0.59163666] 1\n",
      "[ 0.18760323 -0.32986996] 0\n",
      "[-1.19276461 -0.20487651] 1\n",
      "[-0.35882895  0.6034716 ] 1\n",
      "[-1.66478853 -0.70017904] 1\n",
      "[1.15139101 1.85733101] 0\n",
      "[-1.51117956  0.64484751] 0\n",
      "[-0.98060789 -0.85685315] 1\n",
      "[-0.87187918 -0.42250793] 1\n",
      "[0.99643983 0.71242127] 0\n",
      "[ 0.05914424 -0.36331088] 0\n",
      "[ 0.00328884 -0.10593044] 0\n",
      "[ 0.79305332 -0.63157163] 1\n",
      "[-0.00619491 -0.10106761] 0\n",
      "[-0.05230815  0.24921766] 1\n",
      "[0.19766009 1.33484857] 0\n",
      "[-0.08687561  1.56153229] 0\n",
      "[-0.30585302 -0.47773142] 0\n",
      "[0.10073819 0.35543847] 1\n",
      "[0.26961241 1.29196338] 0\n",
      "[1.13934298 0.4944404 ] 0\n",
      "[-0.33633626 -0.10061435] 0\n"
     ]
    }
   ],
   "source": [
    "knn = KNN(k=3, method=\"knn\")\n",
    "knn.fit(X, Y)\n",
    "for x in X:\n",
    "\tprint(x, knn.predict([x]))"
   ]
  },
  {
   "cell_type": "code",
   "execution_count": 7,
   "metadata": {},
   "outputs": [
    {
     "data": {
      "image/png": "[encoded data removed]",
      "text/plain": [
       "<Figure size 500x500 with 1 Axes>"
      ]
     },
     "metadata": {
      "image/png": {
       "height": 448,
       "width": 488
      }
     },
     "output_type": "display_data"
    }
   ],
   "source": [
    "# plot data\n",
    "knn.visualize(x_test)"
   ]
  },
  {
   "cell_type": "code",
   "execution_count": 8,
   "metadata": {},
   "outputs": [
    {
     "name": "stdout",
     "output_type": "stream",
     "text": [
      "[ 0.44122749 -0.33087015] 0.0\n",
      "[ 2.43077119 -0.25209213] 1.0\n",
      "[0.10960984 1.58248112] 0.0\n",
      "[-0.9092324  -0.59163666] 1.0\n",
      "[ 0.18760323 -0.32986996] 0.0\n",
      "[-1.19276461 -0.20487651] 1.0\n",
      "[-0.35882895  0.6034716 ] 1.0\n",
      "[-1.66478853 -0.70017904] 1.0\n",
      "[1.15139101 1.85733101] 0.0\n",
      "[-1.51117956  0.64484751] 0.0\n",
      "[-0.98060789 -0.85685315] 1.0\n",
      "[-0.87187918 -0.42250793] 1.0\n",
      "[0.99643983 0.71242127] 0.0\n",
      "[ 0.05914424 -0.36331088] 0.0\n",
      "[ 0.00328884 -0.10593044] 0.0\n",
      "[ 0.79305332 -0.63157163] 1.0\n",
      "[-0.00619491 -0.10106761] 1.0\n",
      "[-0.05230815  0.24921766] 1.0\n",
      "[0.19766009 1.33484857] 0.0\n",
      "[-0.08687561  1.56153229] 0.0\n",
      "[-0.30585302 -0.47773142] 1.0\n",
      "[0.10073819 0.35543847] 0.0\n",
      "[0.26961241 1.29196338] 0.0\n",
      "[1.13934298 0.4944404 ] 0.0\n",
      "[-0.33633626 -0.10061435] 1.0\n"
     ]
    }
   ],
   "source": [
    "kdtree = KNN(k=3, method=\"kd_tree\", max_depth=2)\n",
    "kdtree.fit(X, Y)\n",
    "for x in X:\n",
    "\tprint(x, kdtree.predict(x))"
   ]
  },
  {
   "cell_type": "code",
   "execution_count": 9,
   "metadata": {},
   "outputs": [
    {
     "data": {
      "image/png": "[encoded data removed]",
      "text/plain": [
       "<Figure size 500x500 with 1 Axes>"
      ]
     },
     "metadata": {
      "image/png": {
       "height": 448,
       "width": 488
      }
     },
     "output_type": "display_data"
    }
   ],
   "source": [
    "# plot kd tree\n",
    "kdtree.visualize(x_test)"
   ]
  },
  {
   "cell_type": "code",
   "execution_count": 10,
   "metadata": {},
   "outputs": [
    {
     "name": "stdout",
     "output_type": "stream",
     "text": [
      "[ 0.44122749 -0.33087015] 1\n",
      "[ 2.43077119 -0.25209213] 0\n",
      "[0.10960984 1.58248112] 0\n",
      "[-0.9092324  -0.59163666] 1\n",
      "[ 0.18760323 -0.32986996] 0\n",
      "[-1.19276461 -0.20487651] 1\n",
      "[-0.35882895  0.6034716 ] 1\n",
      "[-1.66478853 -0.70017904] 1\n",
      "[1.15139101 1.85733101] 1\n",
      "[-1.51117956  0.64484751] 0\n",
      "[-0.98060789 -0.85685315] 1\n",
      "[-0.87187918 -0.42250793] 1\n",
      "[0.99643983 0.71242127] 0\n",
      "[ 0.05914424 -0.36331088] 0\n",
      "[ 0.00328884 -0.10593044] 0\n",
      "[ 0.79305332 -0.63157163] 1\n",
      "[-0.00619491 -0.10106761] 0\n",
      "[-0.05230815  0.24921766] 1\n",
      "[0.19766009 1.33484857] 0\n",
      "[-0.08687561  1.56153229] 0\n",
      "[-0.30585302 -0.47773142] 0\n",
      "[0.10073819 0.35543847] 1\n",
      "[0.26961241 1.29196338] 0\n",
      "[1.13934298 0.4944404 ] 0\n",
      "[-0.33633626 -0.10061435] 0\n"
     ]
    }
   ],
   "source": [
    "lsh = KNN(k=3, method=\"lsh\", p=2, l=1)\n",
    "lsh.fit(X, Y)\n",
    "for x in X:\n",
    "\tprint(x, lsh.predict(x))"
   ]
  },
  {
   "cell_type": "code",
   "execution_count": 11,
   "metadata": {},
   "outputs": [
    {
     "data": {
      "image/png": "[encoded data removed]",
      "text/plain": [
       "<Figure size 500x500 with 1 Axes>"
      ]
     },
     "metadata": {
      "image/png": {
       "height": 448,
       "width": 470
      }
     },
     "output_type": "display_data"
    }
   ],
   "source": [
    "# plot lsh\n",
    "lsh.visualize(x_test)"
   ]
  },
  {
   "cell_type": "markdown",
   "metadata": {},
   "source": [
    "# ---------------------------"
   ]
  },
  {
   "cell_type": "code",
   "execution_count": 12,
   "metadata": {},
   "outputs": [],
   "source": [
    "from time import time\n",
    "import sys"
   ]
  },
  {
   "cell_type": "code",
   "execution_count": 13,
   "metadata": {},
   "outputs": [],
   "source": [
    "def test_method(method, n=100, d=2):\n",
    "    X, Y = get_data(n=n, d=d)\n",
    "    \n",
    "    knn = KNN(k=3, method=method)\n",
    "    \n",
    "    fitting_time = 0\n",
    "    start = time()\n",
    "    knn.fit(X, Y)\n",
    "    end = time()\n",
    "    fitting_time = end - start\n",
    "    \n",
    "    pred_time = 0\n",
    "    start = time()\n",
    "    for x in X:\n",
    "        knn.predict(x)\n",
    "    end = time()\n",
    "    pred_time = end - start\n",
    "    \n",
    "    memory = sys.getsizeof(knn)\n",
    "    \n",
    "    return fitting_time, pred_time, memory"
   ]
  },
  {
   "cell_type": "code",
   "execution_count": null,
   "metadata": {},
   "outputs": [],
   "source": [
    "for method in [\"knn\", \"kd_tree\", \"lsh\"]:\n",
    "    fitting_times = []\n",
    "    pred_times = []\n",
    "    memories = []\n",
    "    \n",
    "    for run in range(100):\n",
    "        fitting_time, pred_time, memory = test_method(method, n=1000, d=100)\n",
    "        fitting_times.append(fitting_time)\n",
    "        pred_times.append(pred_time)\n",
    "        memories.append(memory)\n",
    "        \n",
    "    print(f\"Method: {method}\")\n",
    "    print(f\"Fitting time: {np.mean(fitting_times):.4f}\")\n",
    "    print(f\"Prediction time: {np.mean(pred_times):.4f}\")\n",
    "    print(f\"Memory: {np.mean(memories):.4f}\")"
   ]
  },
  {
   "cell_type": "markdown",
   "metadata": {},
   "source": [
    "# W & B"
   ]
  },
  {
   "cell_type": "code",
   "execution_count": 14,
   "metadata": {},
   "outputs": [],
   "source": [
    "import wandb"
   ]
  },
  {
   "cell_type": "code",
   "execution_count": 15,
   "metadata": {},
   "outputs": [],
   "source": [
    "ns = [10, 100, 1000, 1000]\n",
    "ds = [2, 10, 100, 1000]\n",
    "methods = [\"knn\", \"kd_tree\", \"lsh\"]"
   ]
  },
  {
   "cell_type": "code",
   "execution_count": 16,
   "metadata": {},
   "outputs": [
    {
     "name": "stderr",
     "output_type": "stream",
     "text": [
      "Failed to detect the name of this notebook, you can set it manually with the WANDB_NOTEBOOK_NAME environment variable to enable code saving.\n",
      "\u001b[34m\u001b[1mwandb\u001b[0m: Currently logged in as: \u001b[33mkhush24shah\u001b[0m. Use \u001b[1m`wandb login --relogin`\u001b[0m to force relogin\n"
     ]
    },
    {
     "data": {
      "text/html": [
       "Tracking run with wandb version 0.16.6"
      ],
      "text/plain": [
       "<IPython.core.display.HTML object>"
      ]
     },
     "metadata": {},
     "output_type": "display_data"
    },
    {
     "data": {
      "text/html": [
       "Run data is saved locally in <code>/Users/khush24shah/Desktop/Main/IITGN/SEM - 2/ML/assignment-4-ml-team-students-ensemble/wandb/run-20240415_195047-kt67w5kg</code>"
      ],
      "text/plain": [
       "<IPython.core.display.HTML object>"
      ]
     },
     "metadata": {},
     "output_type": "display_data"
    },
    {
     "data": {
      "text/html": [
       "Syncing run <strong><a href='https://wandb.ai/khush24shah/Assignment%204/runs/kt67w5kg' target=\"_blank\">knn_n10_d2</a></strong> to <a href='https://wandb.ai/khush24shah/Assignment%204' target=\"_blank\">Weights & Biases</a> (<a href='https://wandb.me/run' target=\"_blank\">docs</a>)<br/>"
      ],
      "text/plain": [
       "<IPython.core.display.HTML object>"
      ]
     },
     "metadata": {},
     "output_type": "display_data"
    },
    {
     "data": {
      "text/html": [
       " View project at <a href='https://wandb.ai/khush24shah/Assignment%204' target=\"_blank\">https://wandb.ai/khush24shah/Assignment%204</a>"
      ],
      "text/plain": [
       "<IPython.core.display.HTML object>"
      ]
     },
     "metadata": {},
     "output_type": "display_data"
    },
    {
     "data": {
      "text/html": [
       " View run at <a href='https://wandb.ai/khush24shah/Assignment%204/runs/kt67w5kg' target=\"_blank\">https://wandb.ai/khush24shah/Assignment%204/runs/kt67w5kg</a>"
      ],
      "text/plain": [
       "<IPython.core.display.HTML object>"
      ]
     },
     "metadata": {},
     "output_type": "display_data"
    },
    {
     "data": {
      "application/vnd.jupyter.widget-view+json": {
       "model_id": "9cc8bde5765842819d4be2d7578b6a2e",
       "version_major": 2,
       "version_minor": 0
      },
      "text/plain": [
       "VBox(children=(Label(value='0.001 MB of 0.033 MB uploaded\\r'), FloatProgress(value=0.030411397837157406, max=1…"
      ]
     },
     "metadata": {},
     "output_type": "display_data"
    },
    {
     "data": {
      "text/html": [
       "<style>\n",
       "    table.wandb td:nth-child(1) { padding: 0 10px; text-align: left ; width: auto;} td:nth-child(2) {text-align: left ; width: 100%}\n",
       "    .wandb-row { display: flex; flex-direction: row; flex-wrap: wrap; justify-content: flex-start; width: 100% }\n",
       "    .wandb-col { display: flex; flex-direction: column; flex-basis: 100%; flex: 1; padding: 10px; }\n",
       "    </style>\n",
       "<div class=\"wandb-row\"><div class=\"wandb-col\"><h3>Run history:</h3><br/><table class=\"wandb\"><tr><td>d</td><td>▁</td></tr><tr><td>fitting_time</td><td>▁</td></tr><tr><td>memory</td><td>▁</td></tr><tr><td>n</td><td>▁</td></tr><tr><td>pred_time</td><td>▁</td></tr></table><br/></div><div class=\"wandb-col\"><h3>Run summary:</h3><br/><table class=\"wandb\"><tr><td>d</td><td>2</td></tr><tr><td>fitting_time</td><td>0.0</td></tr><tr><td>memory</td><td>56.0</td></tr><tr><td>method</td><td>knn</td></tr><tr><td>n</td><td>10</td></tr><tr><td>pred_time</td><td>0.00103</td></tr></table><br/></div></div>"
      ],
      "text/plain": [
       "<IPython.core.display.HTML object>"
      ]
     },
     "metadata": {},
     "output_type": "display_data"
    },
    {
     "data": {
      "text/html": [
       " View run <strong style=\"color:#cdcd00\">knn_n10_d2</strong> at: <a href='https://wandb.ai/khush24shah/Assignment%204/runs/kt67w5kg' target=\"_blank\">https://wandb.ai/khush24shah/Assignment%204/runs/kt67w5kg</a><br/> View project at: <a href='https://wandb.ai/khush24shah/Assignment%204' target=\"_blank\">https://wandb.ai/khush24shah/Assignment%204</a><br/>Synced 5 W&B file(s), 0 media file(s), 0 artifact file(s) and 0 other file(s)"
      ],
      "text/plain": [
       "<IPython.core.display.HTML object>"
      ]
     },
     "metadata": {},
     "output_type": "display_data"
    },
    {
     "data": {
      "text/html": [
       "Find logs at: <code>./wandb/run-20240415_195047-kt67w5kg/logs</code>"
      ],
      "text/plain": [
       "<IPython.core.display.HTML object>"
      ]
     },
     "metadata": {},
     "output_type": "display_data"
    },
    {
     "data": {
      "application/vnd.jupyter.widget-view+json": {
       "model_id": "7d665743c1d5489f81b888408abe000b",
       "version_major": 2,
       "version_minor": 0
      },
      "text/plain": [
       "VBox(children=(Label(value='Waiting for wandb.init()...\\r'), FloatProgress(value=0.011146383332864692, max=1.0…"
      ]
     },
     "metadata": {},
     "output_type": "display_data"
    },
    {
     "data": {
      "text/html": [
       "Tracking run with wandb version 0.16.6"
      ],
      "text/plain": [
       "<IPython.core.display.HTML object>"
      ]
     },
     "metadata": {},
     "output_type": "display_data"
    },
    {
     "data": {
      "text/html": [
       "Run data is saved locally in <code>/Users/khush24shah/Desktop/Main/IITGN/SEM - 2/ML/assignment-4-ml-team-students-ensemble/wandb/run-20240415_195102-d93gnqrr</code>"
      ],
      "text/plain": [
       "<IPython.core.display.HTML object>"
      ]
     },
     "metadata": {},
     "output_type": "display_data"
    },
    {
     "data": {
      "text/html": [
       "Syncing run <strong><a href='https://wandb.ai/khush24shah/Assignment%204/runs/d93gnqrr' target=\"_blank\">knn_n10_d10</a></strong> to <a href='https://wandb.ai/khush24shah/Assignment%204' target=\"_blank\">Weights & Biases</a> (<a href='https://wandb.me/run' target=\"_blank\">docs</a>)<br/>"
      ],
      "text/plain": [
       "<IPython.core.display.HTML object>"
      ]
     },
     "metadata": {},
     "output_type": "display_data"
    },
    {
     "data": {
      "text/html": [
       " View project at <a href='https://wandb.ai/khush24shah/Assignment%204' target=\"_blank\">https://wandb.ai/khush24shah/Assignment%204</a>"
      ],
      "text/plain": [
       "<IPython.core.display.HTML object>"
      ]
     },
     "metadata": {},
     "output_type": "display_data"
    },
    {
     "data": {
      "text/html": [
       " View run at <a href='https://wandb.ai/khush24shah/Assignment%204/runs/d93gnqrr' target=\"_blank\">https://wandb.ai/khush24shah/Assignment%204/runs/d93gnqrr</a>"
      ],
      "text/plain": [
       "<IPython.core.display.HTML object>"
      ]
     },
     "metadata": {},
     "output_type": "display_data"
    },
    {
     "data": {
      "application/vnd.jupyter.widget-view+json": {
       "model_id": "be692504564e4d349d48cb7dcb989578",
       "version_major": 2,
       "version_minor": 0
      },
      "text/plain": [
       "VBox(children=(Label(value='0.001 MB of 0.033 MB uploaded\\r'), FloatProgress(value=0.03043565319374124, max=1.…"
      ]
     },
     "metadata": {},
     "output_type": "display_data"
    },
    {
     "data": {
      "text/html": [
       "<style>\n",
       "    table.wandb td:nth-child(1) { padding: 0 10px; text-align: left ; width: auto;} td:nth-child(2) {text-align: left ; width: 100%}\n",
       "    .wandb-row { display: flex; flex-direction: row; flex-wrap: wrap; justify-content: flex-start; width: 100% }\n",
       "    .wandb-col { display: flex; flex-direction: column; flex-basis: 100%; flex: 1; padding: 10px; }\n",
       "    </style>\n",
       "<div class=\"wandb-row\"><div class=\"wandb-col\"><h3>Run history:</h3><br/><table class=\"wandb\"><tr><td>d</td><td>▁</td></tr><tr><td>fitting_time</td><td>▁</td></tr><tr><td>memory</td><td>▁</td></tr><tr><td>n</td><td>▁</td></tr><tr><td>pred_time</td><td>▁</td></tr></table><br/></div><div class=\"wandb-col\"><h3>Run summary:</h3><br/><table class=\"wandb\"><tr><td>d</td><td>10</td></tr><tr><td>fitting_time</td><td>0.0</td></tr><tr><td>memory</td><td>56.0</td></tr><tr><td>method</td><td>knn</td></tr><tr><td>n</td><td>10</td></tr><tr><td>pred_time</td><td>0.00099</td></tr></table><br/></div></div>"
      ],
      "text/plain": [
       "<IPython.core.display.HTML object>"
      ]
     },
     "metadata": {},
     "output_type": "display_data"
    },
    {
     "data": {
      "text/html": [
       " View run <strong style=\"color:#cdcd00\">knn_n10_d10</strong> at: <a href='https://wandb.ai/khush24shah/Assignment%204/runs/d93gnqrr' target=\"_blank\">https://wandb.ai/khush24shah/Assignment%204/runs/d93gnqrr</a><br/> View project at: <a href='https://wandb.ai/khush24shah/Assignment%204' target=\"_blank\">https://wandb.ai/khush24shah/Assignment%204</a><br/>Synced 5 W&B file(s), 0 media file(s), 0 artifact file(s) and 0 other file(s)"
      ],
      "text/plain": [
       "<IPython.core.display.HTML object>"
      ]
     },
     "metadata": {},
     "output_type": "display_data"
    },
    {
     "data": {
      "text/html": [
       "Find logs at: <code>./wandb/run-20240415_195102-d93gnqrr/logs</code>"
      ],
      "text/plain": [
       "<IPython.core.display.HTML object>"
      ]
     },
     "metadata": {},
     "output_type": "display_data"
    },
    {
     "data": {
      "application/vnd.jupyter.widget-view+json": {
       "model_id": "46ebaced30ff4e94ab2d65d362098f92",
       "version_major": 2,
       "version_minor": 0
      },
      "text/plain": [
       "VBox(children=(Label(value='Waiting for wandb.init()...\\r'), FloatProgress(value=0.011167209255897129, max=1.0…"
      ]
     },
     "metadata": {},
     "output_type": "display_data"
    },
    {
     "data": {
      "text/html": [
       "Tracking run with wandb version 0.16.6"
      ],
      "text/plain": [
       "<IPython.core.display.HTML object>"
      ]
     },
     "metadata": {},
     "output_type": "display_data"
    },
    {
     "data": {
      "text/html": [
       "Run data is saved locally in <code>/Users/khush24shah/Desktop/Main/IITGN/SEM - 2/ML/assignment-4-ml-team-students-ensemble/wandb/run-20240415_195117-8uatdlou</code>"
      ],
      "text/plain": [
       "<IPython.core.display.HTML object>"
      ]
     },
     "metadata": {},
     "output_type": "display_data"
    },
    {
     "data": {
      "text/html": [
       "Syncing run <strong><a href='https://wandb.ai/khush24shah/Assignment%204/runs/8uatdlou' target=\"_blank\">knn_n10_d100</a></strong> to <a href='https://wandb.ai/khush24shah/Assignment%204' target=\"_blank\">Weights & Biases</a> (<a href='https://wandb.me/run' target=\"_blank\">docs</a>)<br/>"
      ],
      "text/plain": [
       "<IPython.core.display.HTML object>"
      ]
     },
     "metadata": {},
     "output_type": "display_data"
    },
    {
     "data": {
      "text/html": [
       " View project at <a href='https://wandb.ai/khush24shah/Assignment%204' target=\"_blank\">https://wandb.ai/khush24shah/Assignment%204</a>"
      ],
      "text/plain": [
       "<IPython.core.display.HTML object>"
      ]
     },
     "metadata": {},
     "output_type": "display_data"
    },
    {
     "data": {
      "text/html": [
       " View run at <a href='https://wandb.ai/khush24shah/Assignment%204/runs/8uatdlou' target=\"_blank\">https://wandb.ai/khush24shah/Assignment%204/runs/8uatdlou</a>"
      ],
      "text/plain": [
       "<IPython.core.display.HTML object>"
      ]
     },
     "metadata": {},
     "output_type": "display_data"
    },
    {
     "data": {
      "application/vnd.jupyter.widget-view+json": {
       "model_id": "9b66b1e53fc14f0d9bacac7e2236dd1f",
       "version_major": 2,
       "version_minor": 0
      },
      "text/plain": [
       "VBox(children=(Label(value='0.001 MB of 0.033 MB uploaded\\r'), FloatProgress(value=0.03040878793946849, max=1.…"
      ]
     },
     "metadata": {},
     "output_type": "display_data"
    },
    {
     "data": {
      "text/html": [
       "<style>\n",
       "    table.wandb td:nth-child(1) { padding: 0 10px; text-align: left ; width: auto;} td:nth-child(2) {text-align: left ; width: 100%}\n",
       "    .wandb-row { display: flex; flex-direction: row; flex-wrap: wrap; justify-content: flex-start; width: 100% }\n",
       "    .wandb-col { display: flex; flex-direction: column; flex-basis: 100%; flex: 1; padding: 10px; }\n",
       "    </style>\n",
       "<div class=\"wandb-row\"><div class=\"wandb-col\"><h3>Run history:</h3><br/><table class=\"wandb\"><tr><td>d</td><td>▁</td></tr><tr><td>fitting_time</td><td>▁</td></tr><tr><td>memory</td><td>▁</td></tr><tr><td>n</td><td>▁</td></tr><tr><td>pred_time</td><td>▁</td></tr></table><br/></div><div class=\"wandb-col\"><h3>Run summary:</h3><br/><table class=\"wandb\"><tr><td>d</td><td>100</td></tr><tr><td>fitting_time</td><td>0.0</td></tr><tr><td>memory</td><td>56.0</td></tr><tr><td>method</td><td>knn</td></tr><tr><td>n</td><td>10</td></tr><tr><td>pred_time</td><td>0.00103</td></tr></table><br/></div></div>"
      ],
      "text/plain": [
       "<IPython.core.display.HTML object>"
      ]
     },
     "metadata": {},
     "output_type": "display_data"
    },
    {
     "data": {
      "text/html": [
       " View run <strong style=\"color:#cdcd00\">knn_n10_d100</strong> at: <a href='https://wandb.ai/khush24shah/Assignment%204/runs/8uatdlou' target=\"_blank\">https://wandb.ai/khush24shah/Assignment%204/runs/8uatdlou</a><br/> View project at: <a href='https://wandb.ai/khush24shah/Assignment%204' target=\"_blank\">https://wandb.ai/khush24shah/Assignment%204</a><br/>Synced 5 W&B file(s), 0 media file(s), 0 artifact file(s) and 0 other file(s)"
      ],
      "text/plain": [
       "<IPython.core.display.HTML object>"
      ]
     },
     "metadata": {},
     "output_type": "display_data"
    },
    {
     "data": {
      "text/html": [
       "Find logs at: <code>./wandb/run-20240415_195117-8uatdlou/logs</code>"
      ],
      "text/plain": [
       "<IPython.core.display.HTML object>"
      ]
     },
     "metadata": {},
     "output_type": "display_data"
    },
    {
     "data": {
      "application/vnd.jupyter.widget-view+json": {
       "model_id": "7f723483fedf498fb2025f10bf257278",
       "version_major": 2,
       "version_minor": 0
      },
      "text/plain": [
       "VBox(children=(Label(value='Waiting for wandb.init()...\\r'), FloatProgress(value=0.011160688422387465, max=1.0…"
      ]
     },
     "metadata": {},
     "output_type": "display_data"
    },
    {
     "data": {
      "text/html": [
       "Tracking run with wandb version 0.16.6"
      ],
      "text/plain": [
       "<IPython.core.display.HTML object>"
      ]
     },
     "metadata": {},
     "output_type": "display_data"
    },
    {
     "data": {
      "text/html": [
       "Run data is saved locally in <code>/Users/khush24shah/Desktop/Main/IITGN/SEM - 2/ML/assignment-4-ml-team-students-ensemble/wandb/run-20240415_195131-9946xlfl</code>"
      ],
      "text/plain": [
       "<IPython.core.display.HTML object>"
      ]
     },
     "metadata": {},
     "output_type": "display_data"
    },
    {
     "data": {
      "text/html": [
       "Syncing run <strong><a href='https://wandb.ai/khush24shah/Assignment%204/runs/9946xlfl' target=\"_blank\">knn_n10_d1000</a></strong> to <a href='https://wandb.ai/khush24shah/Assignment%204' target=\"_blank\">Weights & Biases</a> (<a href='https://wandb.me/run' target=\"_blank\">docs</a>)<br/>"
      ],
      "text/plain": [
       "<IPython.core.display.HTML object>"
      ]
     },
     "metadata": {},
     "output_type": "display_data"
    },
    {
     "data": {
      "text/html": [
       " View project at <a href='https://wandb.ai/khush24shah/Assignment%204' target=\"_blank\">https://wandb.ai/khush24shah/Assignment%204</a>"
      ],
      "text/plain": [
       "<IPython.core.display.HTML object>"
      ]
     },
     "metadata": {},
     "output_type": "display_data"
    },
    {
     "data": {
      "text/html": [
       " View run at <a href='https://wandb.ai/khush24shah/Assignment%204/runs/9946xlfl' target=\"_blank\">https://wandb.ai/khush24shah/Assignment%204/runs/9946xlfl</a>"
      ],
      "text/plain": [
       "<IPython.core.display.HTML object>"
      ]
     },
     "metadata": {},
     "output_type": "display_data"
    },
    {
     "data": {
      "application/vnd.jupyter.widget-view+json": {
       "model_id": "72d07d127c7d44bdb925917256208abb",
       "version_major": 2,
       "version_minor": 0
      },
      "text/plain": [
       "VBox(children=(Label(value='0.001 MB of 0.033 MB uploaded\\r'), FloatProgress(value=0.03037931231763831, max=1.…"
      ]
     },
     "metadata": {},
     "output_type": "display_data"
    },
    {
     "data": {
      "text/html": [
       "<style>\n",
       "    table.wandb td:nth-child(1) { padding: 0 10px; text-align: left ; width: auto;} td:nth-child(2) {text-align: left ; width: 100%}\n",
       "    .wandb-row { display: flex; flex-direction: row; flex-wrap: wrap; justify-content: flex-start; width: 100% }\n",
       "    .wandb-col { display: flex; flex-direction: column; flex-basis: 100%; flex: 1; padding: 10px; }\n",
       "    </style>\n",
       "<div class=\"wandb-row\"><div class=\"wandb-col\"><h3>Run history:</h3><br/><table class=\"wandb\"><tr><td>d</td><td>▁</td></tr><tr><td>fitting_time</td><td>▁</td></tr><tr><td>memory</td><td>▁</td></tr><tr><td>n</td><td>▁</td></tr><tr><td>pred_time</td><td>▁</td></tr></table><br/></div><div class=\"wandb-col\"><h3>Run summary:</h3><br/><table class=\"wandb\"><tr><td>d</td><td>1000</td></tr><tr><td>fitting_time</td><td>0.0</td></tr><tr><td>memory</td><td>56.0</td></tr><tr><td>method</td><td>knn</td></tr><tr><td>n</td><td>10</td></tr><tr><td>pred_time</td><td>0.0011</td></tr></table><br/></div></div>"
      ],
      "text/plain": [
       "<IPython.core.display.HTML object>"
      ]
     },
     "metadata": {},
     "output_type": "display_data"
    },
    {
     "data": {
      "text/html": [
       " View run <strong style=\"color:#cdcd00\">knn_n10_d1000</strong> at: <a href='https://wandb.ai/khush24shah/Assignment%204/runs/9946xlfl' target=\"_blank\">https://wandb.ai/khush24shah/Assignment%204/runs/9946xlfl</a><br/> View project at: <a href='https://wandb.ai/khush24shah/Assignment%204' target=\"_blank\">https://wandb.ai/khush24shah/Assignment%204</a><br/>Synced 5 W&B file(s), 0 media file(s), 0 artifact file(s) and 0 other file(s)"
      ],
      "text/plain": [
       "<IPython.core.display.HTML object>"
      ]
     },
     "metadata": {},
     "output_type": "display_data"
    },
    {
     "data": {
      "text/html": [
       "Find logs at: <code>./wandb/run-20240415_195131-9946xlfl/logs</code>"
      ],
      "text/plain": [
       "<IPython.core.display.HTML object>"
      ]
     },
     "metadata": {},
     "output_type": "display_data"
    },
    {
     "data": {
      "application/vnd.jupyter.widget-view+json": {
       "model_id": "7d297b88fb684583ada69a34a880cfbd",
       "version_major": 2,
       "version_minor": 0
      },
      "text/plain": [
       "VBox(children=(Label(value='Waiting for wandb.init()...\\r'), FloatProgress(value=0.011155690277357482, max=1.0…"
      ]
     },
     "metadata": {},
     "output_type": "display_data"
    },
    {
     "data": {
      "text/html": [
       "Tracking run with wandb version 0.16.6"
      ],
      "text/plain": [
       "<IPython.core.display.HTML object>"
      ]
     },
     "metadata": {},
     "output_type": "display_data"
    },
    {
     "data": {
      "text/html": [
       "Run data is saved locally in <code>/Users/khush24shah/Desktop/Main/IITGN/SEM - 2/ML/assignment-4-ml-team-students-ensemble/wandb/run-20240415_195146-6u01zn4w</code>"
      ],
      "text/plain": [
       "<IPython.core.display.HTML object>"
      ]
     },
     "metadata": {},
     "output_type": "display_data"
    },
    {
     "data": {
      "text/html": [
       "Syncing run <strong><a href='https://wandb.ai/khush24shah/Assignment%204/runs/6u01zn4w' target=\"_blank\">knn_n100_d2</a></strong> to <a href='https://wandb.ai/khush24shah/Assignment%204' target=\"_blank\">Weights & Biases</a> (<a href='https://wandb.me/run' target=\"_blank\">docs</a>)<br/>"
      ],
      "text/plain": [
       "<IPython.core.display.HTML object>"
      ]
     },
     "metadata": {},
     "output_type": "display_data"
    },
    {
     "data": {
      "text/html": [
       " View project at <a href='https://wandb.ai/khush24shah/Assignment%204' target=\"_blank\">https://wandb.ai/khush24shah/Assignment%204</a>"
      ],
      "text/plain": [
       "<IPython.core.display.HTML object>"
      ]
     },
     "metadata": {},
     "output_type": "display_data"
    },
    {
     "data": {
      "text/html": [
       " View run at <a href='https://wandb.ai/khush24shah/Assignment%204/runs/6u01zn4w' target=\"_blank\">https://wandb.ai/khush24shah/Assignment%204/runs/6u01zn4w</a>"
      ],
      "text/plain": [
       "<IPython.core.display.HTML object>"
      ]
     },
     "metadata": {},
     "output_type": "display_data"
    },
    {
     "data": {
      "application/vnd.jupyter.widget-view+json": {
       "model_id": "75772f436cdd42039229ec6753321ee7",
       "version_major": 2,
       "version_minor": 0
      },
      "text/plain": [
       "VBox(children=(Label(value='0.001 MB of 0.033 MB uploaded\\r'), FloatProgress(value=0.030413138017853055, max=1…"
      ]
     },
     "metadata": {},
     "output_type": "display_data"
    },
    {
     "data": {
      "text/html": [
       "<style>\n",
       "    table.wandb td:nth-child(1) { padding: 0 10px; text-align: left ; width: auto;} td:nth-child(2) {text-align: left ; width: 100%}\n",
       "    .wandb-row { display: flex; flex-direction: row; flex-wrap: wrap; justify-content: flex-start; width: 100% }\n",
       "    .wandb-col { display: flex; flex-direction: column; flex-basis: 100%; flex: 1; padding: 10px; }\n",
       "    </style>\n",
       "<div class=\"wandb-row\"><div class=\"wandb-col\"><h3>Run history:</h3><br/><table class=\"wandb\"><tr><td>d</td><td>▁</td></tr><tr><td>fitting_time</td><td>▁</td></tr><tr><td>memory</td><td>▁</td></tr><tr><td>n</td><td>▁</td></tr><tr><td>pred_time</td><td>▁</td></tr></table><br/></div><div class=\"wandb-col\"><h3>Run summary:</h3><br/><table class=\"wandb\"><tr><td>d</td><td>2</td></tr><tr><td>fitting_time</td><td>0.0</td></tr><tr><td>memory</td><td>56.0</td></tr><tr><td>method</td><td>knn</td></tr><tr><td>n</td><td>100</td></tr><tr><td>pred_time</td><td>0.00928</td></tr></table><br/></div></div>"
      ],
      "text/plain": [
       "<IPython.core.display.HTML object>"
      ]
     },
     "metadata": {},
     "output_type": "display_data"
    },
    {
     "data": {
      "text/html": [
       " View run <strong style=\"color:#cdcd00\">knn_n100_d2</strong> at: <a href='https://wandb.ai/khush24shah/Assignment%204/runs/6u01zn4w' target=\"_blank\">https://wandb.ai/khush24shah/Assignment%204/runs/6u01zn4w</a><br/> View project at: <a href='https://wandb.ai/khush24shah/Assignment%204' target=\"_blank\">https://wandb.ai/khush24shah/Assignment%204</a><br/>Synced 5 W&B file(s), 0 media file(s), 0 artifact file(s) and 0 other file(s)"
      ],
      "text/plain": [
       "<IPython.core.display.HTML object>"
      ]
     },
     "metadata": {},
     "output_type": "display_data"
    },
    {
     "data": {
      "text/html": [
       "Find logs at: <code>./wandb/run-20240415_195146-6u01zn4w/logs</code>"
      ],
      "text/plain": [
       "<IPython.core.display.HTML object>"
      ]
     },
     "metadata": {},
     "output_type": "display_data"
    },
    {
     "data": {
      "application/vnd.jupyter.widget-view+json": {
       "model_id": "68d5d0615ec748ddad4b875151491a04",
       "version_major": 2,
       "version_minor": 0
      },
      "text/plain": [
       "VBox(children=(Label(value='Waiting for wandb.init()...\\r'), FloatProgress(value=0.011140163433608703, max=1.0…"
      ]
     },
     "metadata": {},
     "output_type": "display_data"
    },
    {
     "data": {
      "text/html": [
       "Tracking run with wandb version 0.16.6"
      ],
      "text/plain": [
       "<IPython.core.display.HTML object>"
      ]
     },
     "metadata": {},
     "output_type": "display_data"
    },
    {
     "data": {
      "text/html": [
       "Run data is saved locally in <code>/Users/khush24shah/Desktop/Main/IITGN/SEM - 2/ML/assignment-4-ml-team-students-ensemble/wandb/run-20240415_195200-4emvjbm9</code>"
      ],
      "text/plain": [
       "<IPython.core.display.HTML object>"
      ]
     },
     "metadata": {},
     "output_type": "display_data"
    },
    {
     "data": {
      "text/html": [
       "Syncing run <strong><a href='https://wandb.ai/khush24shah/Assignment%204/runs/4emvjbm9' target=\"_blank\">knn_n100_d10</a></strong> to <a href='https://wandb.ai/khush24shah/Assignment%204' target=\"_blank\">Weights & Biases</a> (<a href='https://wandb.me/run' target=\"_blank\">docs</a>)<br/>"
      ],
      "text/plain": [
       "<IPython.core.display.HTML object>"
      ]
     },
     "metadata": {},
     "output_type": "display_data"
    },
    {
     "data": {
      "text/html": [
       " View project at <a href='https://wandb.ai/khush24shah/Assignment%204' target=\"_blank\">https://wandb.ai/khush24shah/Assignment%204</a>"
      ],
      "text/plain": [
       "<IPython.core.display.HTML object>"
      ]
     },
     "metadata": {},
     "output_type": "display_data"
    },
    {
     "data": {
      "text/html": [
       " View run at <a href='https://wandb.ai/khush24shah/Assignment%204/runs/4emvjbm9' target=\"_blank\">https://wandb.ai/khush24shah/Assignment%204/runs/4emvjbm9</a>"
      ],
      "text/plain": [
       "<IPython.core.display.HTML object>"
      ]
     },
     "metadata": {},
     "output_type": "display_data"
    },
    {
     "data": {
      "application/vnd.jupyter.widget-view+json": {
       "model_id": "6e97af0da26a4a0da21d31e883e7e7fa",
       "version_major": 2,
       "version_minor": 0
      },
      "text/plain": [
       "VBox(children=(Label(value='0.001 MB of 0.033 MB uploaded\\r'), FloatProgress(value=0.030409657855589883, max=1…"
      ]
     },
     "metadata": {},
     "output_type": "display_data"
    },
    {
     "data": {
      "text/html": [
       "<style>\n",
       "    table.wandb td:nth-child(1) { padding: 0 10px; text-align: left ; width: auto;} td:nth-child(2) {text-align: left ; width: 100%}\n",
       "    .wandb-row { display: flex; flex-direction: row; flex-wrap: wrap; justify-content: flex-start; width: 100% }\n",
       "    .wandb-col { display: flex; flex-direction: column; flex-basis: 100%; flex: 1; padding: 10px; }\n",
       "    </style>\n",
       "<div class=\"wandb-row\"><div class=\"wandb-col\"><h3>Run history:</h3><br/><table class=\"wandb\"><tr><td>d</td><td>▁</td></tr><tr><td>fitting_time</td><td>▁</td></tr><tr><td>memory</td><td>▁</td></tr><tr><td>n</td><td>▁</td></tr><tr><td>pred_time</td><td>▁</td></tr></table><br/></div><div class=\"wandb-col\"><h3>Run summary:</h3><br/><table class=\"wandb\"><tr><td>d</td><td>10</td></tr><tr><td>fitting_time</td><td>0.0</td></tr><tr><td>memory</td><td>56.0</td></tr><tr><td>method</td><td>knn</td></tr><tr><td>n</td><td>100</td></tr><tr><td>pred_time</td><td>0.00991</td></tr></table><br/></div></div>"
      ],
      "text/plain": [
       "<IPython.core.display.HTML object>"
      ]
     },
     "metadata": {},
     "output_type": "display_data"
    },
    {
     "data": {
      "text/html": [
       " View run <strong style=\"color:#cdcd00\">knn_n100_d10</strong> at: <a href='https://wandb.ai/khush24shah/Assignment%204/runs/4emvjbm9' target=\"_blank\">https://wandb.ai/khush24shah/Assignment%204/runs/4emvjbm9</a><br/> View project at: <a href='https://wandb.ai/khush24shah/Assignment%204' target=\"_blank\">https://wandb.ai/khush24shah/Assignment%204</a><br/>Synced 5 W&B file(s), 0 media file(s), 0 artifact file(s) and 0 other file(s)"
      ],
      "text/plain": [
       "<IPython.core.display.HTML object>"
      ]
     },
     "metadata": {},
     "output_type": "display_data"
    },
    {
     "data": {
      "text/html": [
       "Find logs at: <code>./wandb/run-20240415_195200-4emvjbm9/logs</code>"
      ],
      "text/plain": [
       "<IPython.core.display.HTML object>"
      ]
     },
     "metadata": {},
     "output_type": "display_data"
    },
    {
     "data": {
      "application/vnd.jupyter.widget-view+json": {
       "model_id": "65b444fa65dc4e2e8fb0397770bf9aa2",
       "version_major": 2,
       "version_minor": 0
      },
      "text/plain": [
       "VBox(children=(Label(value='Waiting for wandb.init()...\\r'), FloatProgress(value=0.011154600466963732, max=1.0…"
      ]
     },
     "metadata": {},
     "output_type": "display_data"
    },
    {
     "data": {
      "text/html": [
       "Tracking run with wandb version 0.16.6"
      ],
      "text/plain": [
       "<IPython.core.display.HTML object>"
      ]
     },
     "metadata": {},
     "output_type": "display_data"
    },
    {
     "data": {
      "text/html": [
       "Run data is saved locally in <code>/Users/khush24shah/Desktop/Main/IITGN/SEM - 2/ML/assignment-4-ml-team-students-ensemble/wandb/run-20240415_195215-eh9exo5q</code>"
      ],
      "text/plain": [
       "<IPython.core.display.HTML object>"
      ]
     },
     "metadata": {},
     "output_type": "display_data"
    },
    {
     "data": {
      "text/html": [
       "Syncing run <strong><a href='https://wandb.ai/khush24shah/Assignment%204/runs/eh9exo5q' target=\"_blank\">knn_n100_d100</a></strong> to <a href='https://wandb.ai/khush24shah/Assignment%204' target=\"_blank\">Weights & Biases</a> (<a href='https://wandb.me/run' target=\"_blank\">docs</a>)<br/>"
      ],
      "text/plain": [
       "<IPython.core.display.HTML object>"
      ]
     },
     "metadata": {},
     "output_type": "display_data"
    },
    {
     "data": {
      "text/html": [
       " View project at <a href='https://wandb.ai/khush24shah/Assignment%204' target=\"_blank\">https://wandb.ai/khush24shah/Assignment%204</a>"
      ],
      "text/plain": [
       "<IPython.core.display.HTML object>"
      ]
     },
     "metadata": {},
     "output_type": "display_data"
    },
    {
     "data": {
      "text/html": [
       " View run at <a href='https://wandb.ai/khush24shah/Assignment%204/runs/eh9exo5q' target=\"_blank\">https://wandb.ai/khush24shah/Assignment%204/runs/eh9exo5q</a>"
      ],
      "text/plain": [
       "<IPython.core.display.HTML object>"
      ]
     },
     "metadata": {},
     "output_type": "display_data"
    },
    {
     "data": {
      "application/vnd.jupyter.widget-view+json": {
       "model_id": "807cee57559e4d66b64077406b1ee1dd",
       "version_major": 2,
       "version_minor": 0
      },
      "text/plain": [
       "VBox(children=(Label(value='0.001 MB of 0.033 MB uploaded\\r'), FloatProgress(value=0.03043565319374124, max=1.…"
      ]
     },
     "metadata": {},
     "output_type": "display_data"
    },
    {
     "data": {
      "text/html": [
       "<style>\n",
       "    table.wandb td:nth-child(1) { padding: 0 10px; text-align: left ; width: auto;} td:nth-child(2) {text-align: left ; width: 100%}\n",
       "    .wandb-row { display: flex; flex-direction: row; flex-wrap: wrap; justify-content: flex-start; width: 100% }\n",
       "    .wandb-col { display: flex; flex-direction: column; flex-basis: 100%; flex: 1; padding: 10px; }\n",
       "    </style>\n",
       "<div class=\"wandb-row\"><div class=\"wandb-col\"><h3>Run history:</h3><br/><table class=\"wandb\"><tr><td>d</td><td>▁</td></tr><tr><td>fitting_time</td><td>▁</td></tr><tr><td>memory</td><td>▁</td></tr><tr><td>n</td><td>▁</td></tr><tr><td>pred_time</td><td>▁</td></tr></table><br/></div><div class=\"wandb-col\"><h3>Run summary:</h3><br/><table class=\"wandb\"><tr><td>d</td><td>100</td></tr><tr><td>fitting_time</td><td>0.0</td></tr><tr><td>memory</td><td>56.0</td></tr><tr><td>method</td><td>knn</td></tr><tr><td>n</td><td>100</td></tr><tr><td>pred_time</td><td>0.01098</td></tr></table><br/></div></div>"
      ],
      "text/plain": [
       "<IPython.core.display.HTML object>"
      ]
     },
     "metadata": {},
     "output_type": "display_data"
    },
    {
     "data": {
      "text/html": [
       " View run <strong style=\"color:#cdcd00\">knn_n100_d100</strong> at: <a href='https://wandb.ai/khush24shah/Assignment%204/runs/eh9exo5q' target=\"_blank\">https://wandb.ai/khush24shah/Assignment%204/runs/eh9exo5q</a><br/> View project at: <a href='https://wandb.ai/khush24shah/Assignment%204' target=\"_blank\">https://wandb.ai/khush24shah/Assignment%204</a><br/>Synced 5 W&B file(s), 0 media file(s), 0 artifact file(s) and 0 other file(s)"
      ],
      "text/plain": [
       "<IPython.core.display.HTML object>"
      ]
     },
     "metadata": {},
     "output_type": "display_data"
    },
    {
     "data": {
      "text/html": [
       "Find logs at: <code>./wandb/run-20240415_195215-eh9exo5q/logs</code>"
      ],
      "text/plain": [
       "<IPython.core.display.HTML object>"
      ]
     },
     "metadata": {},
     "output_type": "display_data"
    },
    {
     "data": {
      "application/vnd.jupyter.widget-view+json": {
       "model_id": "5a38f553de1b4c02a5f89d203c975afe",
       "version_major": 2,
       "version_minor": 0
      },
      "text/plain": [
       "VBox(children=(Label(value='Waiting for wandb.init()...\\r'), FloatProgress(value=0.011119997221976518, max=1.0…"
      ]
     },
     "metadata": {},
     "output_type": "display_data"
    },
    {
     "data": {
      "text/html": [
       "Tracking run with wandb version 0.16.6"
      ],
      "text/plain": [
       "<IPython.core.display.HTML object>"
      ]
     },
     "metadata": {},
     "output_type": "display_data"
    },
    {
     "data": {
      "text/html": [
       "Run data is saved locally in <code>/Users/khush24shah/Desktop/Main/IITGN/SEM - 2/ML/assignment-4-ml-team-students-ensemble/wandb/run-20240415_195229-ofxjlvxc</code>"
      ],
      "text/plain": [
       "<IPython.core.display.HTML object>"
      ]
     },
     "metadata": {},
     "output_type": "display_data"
    },
    {
     "data": {
      "text/html": [
       "Syncing run <strong><a href='https://wandb.ai/khush24shah/Assignment%204/runs/ofxjlvxc' target=\"_blank\">knn_n100_d1000</a></strong> to <a href='https://wandb.ai/khush24shah/Assignment%204' target=\"_blank\">Weights & Biases</a> (<a href='https://wandb.me/run' target=\"_blank\">docs</a>)<br/>"
      ],
      "text/plain": [
       "<IPython.core.display.HTML object>"
      ]
     },
     "metadata": {},
     "output_type": "display_data"
    },
    {
     "data": {
      "text/html": [
       " View project at <a href='https://wandb.ai/khush24shah/Assignment%204' target=\"_blank\">https://wandb.ai/khush24shah/Assignment%204</a>"
      ],
      "text/plain": [
       "<IPython.core.display.HTML object>"
      ]
     },
     "metadata": {},
     "output_type": "display_data"
    },
    {
     "data": {
      "text/html": [
       " View run at <a href='https://wandb.ai/khush24shah/Assignment%204/runs/ofxjlvxc' target=\"_blank\">https://wandb.ai/khush24shah/Assignment%204/runs/ofxjlvxc</a>"
      ],
      "text/plain": [
       "<IPython.core.display.HTML object>"
      ]
     },
     "metadata": {},
     "output_type": "display_data"
    },
    {
     "data": {
      "application/vnd.jupyter.widget-view+json": {
       "model_id": "336aec25436d431291c9137fbd6d7c3c",
       "version_major": 2,
       "version_minor": 0
      },
      "text/plain": [
       "VBox(children=(Label(value='0.001 MB of 0.033 MB uploaded\\r'), FloatProgress(value=0.04081924540175634, max=1.…"
      ]
     },
     "metadata": {},
     "output_type": "display_data"
    },
    {
     "data": {
      "text/html": [
       "<style>\n",
       "    table.wandb td:nth-child(1) { padding: 0 10px; text-align: left ; width: auto;} td:nth-child(2) {text-align: left ; width: 100%}\n",
       "    .wandb-row { display: flex; flex-direction: row; flex-wrap: wrap; justify-content: flex-start; width: 100% }\n",
       "    .wandb-col { display: flex; flex-direction: column; flex-basis: 100%; flex: 1; padding: 10px; }\n",
       "    </style>\n",
       "<div class=\"wandb-row\"><div class=\"wandb-col\"><h3>Run history:</h3><br/><table class=\"wandb\"><tr><td>d</td><td>▁</td></tr><tr><td>fitting_time</td><td>▁</td></tr><tr><td>memory</td><td>▁</td></tr><tr><td>n</td><td>▁</td></tr><tr><td>pred_time</td><td>▁</td></tr></table><br/></div><div class=\"wandb-col\"><h3>Run summary:</h3><br/><table class=\"wandb\"><tr><td>d</td><td>1000</td></tr><tr><td>fitting_time</td><td>0.0</td></tr><tr><td>memory</td><td>56.0</td></tr><tr><td>method</td><td>knn</td></tr><tr><td>n</td><td>100</td></tr><tr><td>pred_time</td><td>0.01825</td></tr></table><br/></div></div>"
      ],
      "text/plain": [
       "<IPython.core.display.HTML object>"
      ]
     },
     "metadata": {},
     "output_type": "display_data"
    },
    {
     "data": {
      "text/html": [
       " View run <strong style=\"color:#cdcd00\">knn_n100_d1000</strong> at: <a href='https://wandb.ai/khush24shah/Assignment%204/runs/ofxjlvxc' target=\"_blank\">https://wandb.ai/khush24shah/Assignment%204/runs/ofxjlvxc</a><br/> View project at: <a href='https://wandb.ai/khush24shah/Assignment%204' target=\"_blank\">https://wandb.ai/khush24shah/Assignment%204</a><br/>Synced 5 W&B file(s), 0 media file(s), 0 artifact file(s) and 0 other file(s)"
      ],
      "text/plain": [
       "<IPython.core.display.HTML object>"
      ]
     },
     "metadata": {},
     "output_type": "display_data"
    },
    {
     "data": {
      "text/html": [
       "Find logs at: <code>./wandb/run-20240415_195229-ofxjlvxc/logs</code>"
      ],
      "text/plain": [
       "<IPython.core.display.HTML object>"
      ]
     },
     "metadata": {},
     "output_type": "display_data"
    },
    {
     "data": {
      "application/vnd.jupyter.widget-view+json": {
       "model_id": "2745e72352664c65906d87bb86c47aca",
       "version_major": 2,
       "version_minor": 0
      },
      "text/plain": [
       "VBox(children=(Label(value='Waiting for wandb.init()...\\r'), FloatProgress(value=0.011121937499976614, max=1.0…"
      ]
     },
     "metadata": {},
     "output_type": "display_data"
    },
    {
     "data": {
      "text/html": [
       "Tracking run with wandb version 0.16.6"
      ],
      "text/plain": [
       "<IPython.core.display.HTML object>"
      ]
     },
     "metadata": {},
     "output_type": "display_data"
    },
    {
     "data": {
      "text/html": [
       "Run data is saved locally in <code>/Users/khush24shah/Desktop/Main/IITGN/SEM - 2/ML/assignment-4-ml-team-students-ensemble/wandb/run-20240415_195244-218k9eta</code>"
      ],
      "text/plain": [
       "<IPython.core.display.HTML object>"
      ]
     },
     "metadata": {},
     "output_type": "display_data"
    },
    {
     "data": {
      "text/html": [
       "Syncing run <strong><a href='https://wandb.ai/khush24shah/Assignment%204/runs/218k9eta' target=\"_blank\">knn_n1000_d2</a></strong> to <a href='https://wandb.ai/khush24shah/Assignment%204' target=\"_blank\">Weights & Biases</a> (<a href='https://wandb.me/run' target=\"_blank\">docs</a>)<br/>"
      ],
      "text/plain": [
       "<IPython.core.display.HTML object>"
      ]
     },
     "metadata": {},
     "output_type": "display_data"
    },
    {
     "data": {
      "text/html": [
       " View project at <a href='https://wandb.ai/khush24shah/Assignment%204' target=\"_blank\">https://wandb.ai/khush24shah/Assignment%204</a>"
      ],
      "text/plain": [
       "<IPython.core.display.HTML object>"
      ]
     },
     "metadata": {},
     "output_type": "display_data"
    },
    {
     "data": {
      "text/html": [
       " View run at <a href='https://wandb.ai/khush24shah/Assignment%204/runs/218k9eta' target=\"_blank\">https://wandb.ai/khush24shah/Assignment%204/runs/218k9eta</a>"
      ],
      "text/plain": [
       "<IPython.core.display.HTML object>"
      ]
     },
     "metadata": {},
     "output_type": "display_data"
    },
    {
     "data": {
      "application/vnd.jupyter.widget-view+json": {
       "model_id": "8f130d44af824d52bf0f25cb6400f6ed",
       "version_major": 2,
       "version_minor": 0
      },
      "text/plain": [
       "VBox(children=(Label(value='0.001 MB of 0.033 MB uploaded\\r'), FloatProgress(value=0.030410527821484765, max=1…"
      ]
     },
     "metadata": {},
     "output_type": "display_data"
    },
    {
     "data": {
      "text/html": [
       "<style>\n",
       "    table.wandb td:nth-child(1) { padding: 0 10px; text-align: left ; width: auto;} td:nth-child(2) {text-align: left ; width: 100%}\n",
       "    .wandb-row { display: flex; flex-direction: row; flex-wrap: wrap; justify-content: flex-start; width: 100% }\n",
       "    .wandb-col { display: flex; flex-direction: column; flex-basis: 100%; flex: 1; padding: 10px; }\n",
       "    </style>\n",
       "<div class=\"wandb-row\"><div class=\"wandb-col\"><h3>Run history:</h3><br/><table class=\"wandb\"><tr><td>d</td><td>▁</td></tr><tr><td>fitting_time</td><td>▁</td></tr><tr><td>memory</td><td>▁</td></tr><tr><td>n</td><td>▁</td></tr><tr><td>pred_time</td><td>▁</td></tr></table><br/></div><div class=\"wandb-col\"><h3>Run summary:</h3><br/><table class=\"wandb\"><tr><td>d</td><td>2</td></tr><tr><td>fitting_time</td><td>0.0</td></tr><tr><td>memory</td><td>56.0</td></tr><tr><td>method</td><td>knn</td></tr><tr><td>n</td><td>1000</td></tr><tr><td>pred_time</td><td>0.14288</td></tr></table><br/></div></div>"
      ],
      "text/plain": [
       "<IPython.core.display.HTML object>"
      ]
     },
     "metadata": {},
     "output_type": "display_data"
    },
    {
     "data": {
      "text/html": [
       " View run <strong style=\"color:#cdcd00\">knn_n1000_d2</strong> at: <a href='https://wandb.ai/khush24shah/Assignment%204/runs/218k9eta' target=\"_blank\">https://wandb.ai/khush24shah/Assignment%204/runs/218k9eta</a><br/> View project at: <a href='https://wandb.ai/khush24shah/Assignment%204' target=\"_blank\">https://wandb.ai/khush24shah/Assignment%204</a><br/>Synced 5 W&B file(s), 0 media file(s), 0 artifact file(s) and 0 other file(s)"
      ],
      "text/plain": [
       "<IPython.core.display.HTML object>"
      ]
     },
     "metadata": {},
     "output_type": "display_data"
    },
    {
     "data": {
      "text/html": [
       "Find logs at: <code>./wandb/run-20240415_195244-218k9eta/logs</code>"
      ],
      "text/plain": [
       "<IPython.core.display.HTML object>"
      ]
     },
     "metadata": {},
     "output_type": "display_data"
    },
    {
     "data": {
      "application/vnd.jupyter.widget-view+json": {
       "model_id": "11130eb4b5f045f895bf6a223b9aaee9",
       "version_major": 2,
       "version_minor": 0
      },
      "text/plain": [
       "VBox(children=(Label(value='Waiting for wandb.init()...\\r'), FloatProgress(value=0.011167359722053839, max=1.0…"
      ]
     },
     "metadata": {},
     "output_type": "display_data"
    },
    {
     "data": {
      "text/html": [
       "Tracking run with wandb version 0.16.6"
      ],
      "text/plain": [
       "<IPython.core.display.HTML object>"
      ]
     },
     "metadata": {},
     "output_type": "display_data"
    },
    {
     "data": {
      "text/html": [
       "Run data is saved locally in <code>/Users/khush24shah/Desktop/Main/IITGN/SEM - 2/ML/assignment-4-ml-team-students-ensemble/wandb/run-20240415_195300-ek6xyu1p</code>"
      ],
      "text/plain": [
       "<IPython.core.display.HTML object>"
      ]
     },
     "metadata": {},
     "output_type": "display_data"
    },
    {
     "data": {
      "text/html": [
       "Syncing run <strong><a href='https://wandb.ai/khush24shah/Assignment%204/runs/ek6xyu1p' target=\"_blank\">knn_n1000_d10</a></strong> to <a href='https://wandb.ai/khush24shah/Assignment%204' target=\"_blank\">Weights & Biases</a> (<a href='https://wandb.me/run' target=\"_blank\">docs</a>)<br/>"
      ],
      "text/plain": [
       "<IPython.core.display.HTML object>"
      ]
     },
     "metadata": {},
     "output_type": "display_data"
    },
    {
     "data": {
      "text/html": [
       " View project at <a href='https://wandb.ai/khush24shah/Assignment%204' target=\"_blank\">https://wandb.ai/khush24shah/Assignment%204</a>"
      ],
      "text/plain": [
       "<IPython.core.display.HTML object>"
      ]
     },
     "metadata": {},
     "output_type": "display_data"
    },
    {
     "data": {
      "text/html": [
       " View run at <a href='https://wandb.ai/khush24shah/Assignment%204/runs/ek6xyu1p' target=\"_blank\">https://wandb.ai/khush24shah/Assignment%204/runs/ek6xyu1p</a>"
      ],
      "text/plain": [
       "<IPython.core.display.HTML object>"
      ]
     },
     "metadata": {},
     "output_type": "display_data"
    },
    {
     "data": {
      "application/vnd.jupyter.widget-view+json": {
       "model_id": "fd77925ea38740a9bb5c512579cadfde",
       "version_major": 2,
       "version_minor": 0
      },
      "text/plain": [
       "VBox(children=(Label(value='0.001 MB of 0.033 MB uploaded\\r'), FloatProgress(value=0.040792974225477015, max=1…"
      ]
     },
     "metadata": {},
     "output_type": "display_data"
    },
    {
     "data": {
      "text/html": [
       "<style>\n",
       "    table.wandb td:nth-child(1) { padding: 0 10px; text-align: left ; width: auto;} td:nth-child(2) {text-align: left ; width: 100%}\n",
       "    .wandb-row { display: flex; flex-direction: row; flex-wrap: wrap; justify-content: flex-start; width: 100% }\n",
       "    .wandb-col { display: flex; flex-direction: column; flex-basis: 100%; flex: 1; padding: 10px; }\n",
       "    </style>\n",
       "<div class=\"wandb-row\"><div class=\"wandb-col\"><h3>Run history:</h3><br/><table class=\"wandb\"><tr><td>d</td><td>▁</td></tr><tr><td>fitting_time</td><td>▁</td></tr><tr><td>memory</td><td>▁</td></tr><tr><td>n</td><td>▁</td></tr><tr><td>pred_time</td><td>▁</td></tr></table><br/></div><div class=\"wandb-col\"><h3>Run summary:</h3><br/><table class=\"wandb\"><tr><td>d</td><td>10</td></tr><tr><td>fitting_time</td><td>0.0</td></tr><tr><td>memory</td><td>56.0</td></tr><tr><td>method</td><td>knn</td></tr><tr><td>n</td><td>1000</td></tr><tr><td>pred_time</td><td>0.14986</td></tr></table><br/></div></div>"
      ],
      "text/plain": [
       "<IPython.core.display.HTML object>"
      ]
     },
     "metadata": {},
     "output_type": "display_data"
    },
    {
     "data": {
      "text/html": [
       " View run <strong style=\"color:#cdcd00\">knn_n1000_d10</strong> at: <a href='https://wandb.ai/khush24shah/Assignment%204/runs/ek6xyu1p' target=\"_blank\">https://wandb.ai/khush24shah/Assignment%204/runs/ek6xyu1p</a><br/> View project at: <a href='https://wandb.ai/khush24shah/Assignment%204' target=\"_blank\">https://wandb.ai/khush24shah/Assignment%204</a><br/>Synced 5 W&B file(s), 0 media file(s), 0 artifact file(s) and 0 other file(s)"
      ],
      "text/plain": [
       "<IPython.core.display.HTML object>"
      ]
     },
     "metadata": {},
     "output_type": "display_data"
    },
    {
     "data": {
      "text/html": [
       "Find logs at: <code>./wandb/run-20240415_195300-ek6xyu1p/logs</code>"
      ],
      "text/plain": [
       "<IPython.core.display.HTML object>"
      ]
     },
     "metadata": {},
     "output_type": "display_data"
    },
    {
     "data": {
      "application/vnd.jupyter.widget-view+json": {
       "model_id": "4af54b113f7b4389a1dd561201e53929",
       "version_major": 2,
       "version_minor": 0
      },
      "text/plain": [
       "VBox(children=(Label(value='Waiting for wandb.init()...\\r'), FloatProgress(value=0.011167311577850746, max=1.0…"
      ]
     },
     "metadata": {},
     "output_type": "display_data"
    },
    {
     "data": {
      "text/html": [
       "Tracking run with wandb version 0.16.6"
      ],
      "text/plain": [
       "<IPython.core.display.HTML object>"
      ]
     },
     "metadata": {},
     "output_type": "display_data"
    },
    {
     "data": {
      "text/html": [
       "Run data is saved locally in <code>/Users/khush24shah/Desktop/Main/IITGN/SEM - 2/ML/assignment-4-ml-team-students-ensemble/wandb/run-20240415_195316-87jculcm</code>"
      ],
      "text/plain": [
       "<IPython.core.display.HTML object>"
      ]
     },
     "metadata": {},
     "output_type": "display_data"
    },
    {
     "data": {
      "text/html": [
       "Syncing run <strong><a href='https://wandb.ai/khush24shah/Assignment%204/runs/87jculcm' target=\"_blank\">knn_n1000_d100</a></strong> to <a href='https://wandb.ai/khush24shah/Assignment%204' target=\"_blank\">Weights & Biases</a> (<a href='https://wandb.me/run' target=\"_blank\">docs</a>)<br/>"
      ],
      "text/plain": [
       "<IPython.core.display.HTML object>"
      ]
     },
     "metadata": {},
     "output_type": "display_data"
    },
    {
     "data": {
      "text/html": [
       " View project at <a href='https://wandb.ai/khush24shah/Assignment%204' target=\"_blank\">https://wandb.ai/khush24shah/Assignment%204</a>"
      ],
      "text/plain": [
       "<IPython.core.display.HTML object>"
      ]
     },
     "metadata": {},
     "output_type": "display_data"
    },
    {
     "data": {
      "text/html": [
       " View run at <a href='https://wandb.ai/khush24shah/Assignment%204/runs/87jculcm' target=\"_blank\">https://wandb.ai/khush24shah/Assignment%204/runs/87jculcm</a>"
      ],
      "text/plain": [
       "<IPython.core.display.HTML object>"
      ]
     },
     "metadata": {},
     "output_type": "display_data"
    },
    {
     "data": {
      "application/vnd.jupyter.widget-view+json": {
       "model_id": "df8f13315528494f89856f08695939d0",
       "version_major": 2,
       "version_minor": 0
      },
      "text/plain": [
       "VBox(children=(Label(value='0.010 MB of 0.033 MB uploaded\\r'), FloatProgress(value=0.3086868224593118, max=1.0…"
      ]
     },
     "metadata": {},
     "output_type": "display_data"
    },
    {
     "data": {
      "text/html": [
       "<style>\n",
       "    table.wandb td:nth-child(1) { padding: 0 10px; text-align: left ; width: auto;} td:nth-child(2) {text-align: left ; width: 100%}\n",
       "    .wandb-row { display: flex; flex-direction: row; flex-wrap: wrap; justify-content: flex-start; width: 100% }\n",
       "    .wandb-col { display: flex; flex-direction: column; flex-basis: 100%; flex: 1; padding: 10px; }\n",
       "    </style>\n",
       "<div class=\"wandb-row\"><div class=\"wandb-col\"><h3>Run history:</h3><br/><table class=\"wandb\"><tr><td>d</td><td>▁</td></tr><tr><td>fitting_time</td><td>▁</td></tr><tr><td>memory</td><td>▁</td></tr><tr><td>n</td><td>▁</td></tr><tr><td>pred_time</td><td>▁</td></tr></table><br/></div><div class=\"wandb-col\"><h3>Run summary:</h3><br/><table class=\"wandb\"><tr><td>d</td><td>100</td></tr><tr><td>fitting_time</td><td>0.0</td></tr><tr><td>memory</td><td>56.0</td></tr><tr><td>method</td><td>knn</td></tr><tr><td>n</td><td>1000</td></tr><tr><td>pred_time</td><td>0.22491</td></tr></table><br/></div></div>"
      ],
      "text/plain": [
       "<IPython.core.display.HTML object>"
      ]
     },
     "metadata": {},
     "output_type": "display_data"
    },
    {
     "data": {
      "text/html": [
       " View run <strong style=\"color:#cdcd00\">knn_n1000_d100</strong> at: <a href='https://wandb.ai/khush24shah/Assignment%204/runs/87jculcm' target=\"_blank\">https://wandb.ai/khush24shah/Assignment%204/runs/87jculcm</a><br/> View project at: <a href='https://wandb.ai/khush24shah/Assignment%204' target=\"_blank\">https://wandb.ai/khush24shah/Assignment%204</a><br/>Synced 5 W&B file(s), 0 media file(s), 0 artifact file(s) and 0 other file(s)"
      ],
      "text/plain": [
       "<IPython.core.display.HTML object>"
      ]
     },
     "metadata": {},
     "output_type": "display_data"
    },
    {
     "data": {
      "text/html": [
       "Find logs at: <code>./wandb/run-20240415_195316-87jculcm/logs</code>"
      ],
      "text/plain": [
       "<IPython.core.display.HTML object>"
      ]
     },
     "metadata": {},
     "output_type": "display_data"
    },
    {
     "data": {
      "application/vnd.jupyter.widget-view+json": {
       "model_id": "4b1ef99a1c034ac1a7dc26c1dfa92a30",
       "version_major": 2,
       "version_minor": 0
      },
      "text/plain": [
       "VBox(children=(Label(value='Waiting for wandb.init()...\\r'), FloatProgress(value=0.011167196767120104, max=1.0…"
      ]
     },
     "metadata": {},
     "output_type": "display_data"
    },
    {
     "data": {
      "text/html": [
       "Tracking run with wandb version 0.16.6"
      ],
      "text/plain": [
       "<IPython.core.display.HTML object>"
      ]
     },
     "metadata": {},
     "output_type": "display_data"
    },
    {
     "data": {
      "text/html": [
       "Run data is saved locally in <code>/Users/khush24shah/Desktop/Main/IITGN/SEM - 2/ML/assignment-4-ml-team-students-ensemble/wandb/run-20240415_195333-2sjwh8xg</code>"
      ],
      "text/plain": [
       "<IPython.core.display.HTML object>"
      ]
     },
     "metadata": {},
     "output_type": "display_data"
    },
    {
     "data": {
      "text/html": [
       "Syncing run <strong><a href='https://wandb.ai/khush24shah/Assignment%204/runs/2sjwh8xg' target=\"_blank\">knn_n1000_d1000</a></strong> to <a href='https://wandb.ai/khush24shah/Assignment%204' target=\"_blank\">Weights & Biases</a> (<a href='https://wandb.me/run' target=\"_blank\">docs</a>)<br/>"
      ],
      "text/plain": [
       "<IPython.core.display.HTML object>"
      ]
     },
     "metadata": {},
     "output_type": "display_data"
    },
    {
     "data": {
      "text/html": [
       " View project at <a href='https://wandb.ai/khush24shah/Assignment%204' target=\"_blank\">https://wandb.ai/khush24shah/Assignment%204</a>"
      ],
      "text/plain": [
       "<IPython.core.display.HTML object>"
      ]
     },
     "metadata": {},
     "output_type": "display_data"
    },
    {
     "data": {
      "text/html": [
       " View run at <a href='https://wandb.ai/khush24shah/Assignment%204/runs/2sjwh8xg' target=\"_blank\">https://wandb.ai/khush24shah/Assignment%204/runs/2sjwh8xg</a>"
      ],
      "text/plain": [
       "<IPython.core.display.HTML object>"
      ]
     },
     "metadata": {},
     "output_type": "display_data"
    },
    {
     "data": {
      "application/vnd.jupyter.widget-view+json": {
       "model_id": "ff5624e89adf429488269f4d2bc31a0b",
       "version_major": 2,
       "version_minor": 0
      },
      "text/plain": [
       "VBox(children=(Label(value='0.001 MB of 0.033 MB uploaded\\r'), FloatProgress(value=0.030406178489702517, max=1…"
      ]
     },
     "metadata": {},
     "output_type": "display_data"
    },
    {
     "data": {
      "text/html": [
       "<style>\n",
       "    table.wandb td:nth-child(1) { padding: 0 10px; text-align: left ; width: auto;} td:nth-child(2) {text-align: left ; width: 100%}\n",
       "    .wandb-row { display: flex; flex-direction: row; flex-wrap: wrap; justify-content: flex-start; width: 100% }\n",
       "    .wandb-col { display: flex; flex-direction: column; flex-basis: 100%; flex: 1; padding: 10px; }\n",
       "    </style>\n",
       "<div class=\"wandb-row\"><div class=\"wandb-col\"><h3>Run history:</h3><br/><table class=\"wandb\"><tr><td>d</td><td>▁</td></tr><tr><td>fitting_time</td><td>▁</td></tr><tr><td>memory</td><td>▁</td></tr><tr><td>n</td><td>▁</td></tr><tr><td>pred_time</td><td>▁</td></tr></table><br/></div><div class=\"wandb-col\"><h3>Run summary:</h3><br/><table class=\"wandb\"><tr><td>d</td><td>1000</td></tr><tr><td>fitting_time</td><td>0.0</td></tr><tr><td>memory</td><td>56.0</td></tr><tr><td>method</td><td>knn</td></tr><tr><td>n</td><td>1000</td></tr><tr><td>pred_time</td><td>1.7961</td></tr></table><br/></div></div>"
      ],
      "text/plain": [
       "<IPython.core.display.HTML object>"
      ]
     },
     "metadata": {},
     "output_type": "display_data"
    },
    {
     "data": {
      "text/html": [
       " View run <strong style=\"color:#cdcd00\">knn_n1000_d1000</strong> at: <a href='https://wandb.ai/khush24shah/Assignment%204/runs/2sjwh8xg' target=\"_blank\">https://wandb.ai/khush24shah/Assignment%204/runs/2sjwh8xg</a><br/> View project at: <a href='https://wandb.ai/khush24shah/Assignment%204' target=\"_blank\">https://wandb.ai/khush24shah/Assignment%204</a><br/>Synced 5 W&B file(s), 0 media file(s), 0 artifact file(s) and 0 other file(s)"
      ],
      "text/plain": [
       "<IPython.core.display.HTML object>"
      ]
     },
     "metadata": {},
     "output_type": "display_data"
    },
    {
     "data": {
      "text/html": [
       "Find logs at: <code>./wandb/run-20240415_195333-2sjwh8xg/logs</code>"
      ],
      "text/plain": [
       "<IPython.core.display.HTML object>"
      ]
     },
     "metadata": {},
     "output_type": "display_data"
    },
    {
     "data": {
      "application/vnd.jupyter.widget-view+json": {
       "model_id": "06ce9130cd824a8b8c666f779c66f72f",
       "version_major": 2,
       "version_minor": 0
      },
      "text/plain": [
       "VBox(children=(Label(value='Waiting for wandb.init()...\\r'), FloatProgress(value=0.011157049066645818, max=1.0…"
      ]
     },
     "metadata": {},
     "output_type": "display_data"
    },
    {
     "data": {
      "text/html": [
       "Tracking run with wandb version 0.16.6"
      ],
      "text/plain": [
       "<IPython.core.display.HTML object>"
      ]
     },
     "metadata": {},
     "output_type": "display_data"
    },
    {
     "data": {
      "text/html": [
       "Run data is saved locally in <code>/Users/khush24shah/Desktop/Main/IITGN/SEM - 2/ML/assignment-4-ml-team-students-ensemble/wandb/run-20240415_195406-1nyr7td2</code>"
      ],
      "text/plain": [
       "<IPython.core.display.HTML object>"
      ]
     },
     "metadata": {},
     "output_type": "display_data"
    },
    {
     "data": {
      "text/html": [
       "Syncing run <strong><a href='https://wandb.ai/khush24shah/Assignment%204/runs/1nyr7td2' target=\"_blank\">knn_n1000_d2</a></strong> to <a href='https://wandb.ai/khush24shah/Assignment%204' target=\"_blank\">Weights & Biases</a> (<a href='https://wandb.me/run' target=\"_blank\">docs</a>)<br/>"
      ],
      "text/plain": [
       "<IPython.core.display.HTML object>"
      ]
     },
     "metadata": {},
     "output_type": "display_data"
    },
    {
     "data": {
      "text/html": [
       " View project at <a href='https://wandb.ai/khush24shah/Assignment%204' target=\"_blank\">https://wandb.ai/khush24shah/Assignment%204</a>"
      ],
      "text/plain": [
       "<IPython.core.display.HTML object>"
      ]
     },
     "metadata": {},
     "output_type": "display_data"
    },
    {
     "data": {
      "text/html": [
       " View run at <a href='https://wandb.ai/khush24shah/Assignment%204/runs/1nyr7td2' target=\"_blank\">https://wandb.ai/khush24shah/Assignment%204/runs/1nyr7td2</a>"
      ],
      "text/plain": [
       "<IPython.core.display.HTML object>"
      ]
     },
     "metadata": {},
     "output_type": "display_data"
    },
    {
     "data": {
      "application/vnd.jupyter.widget-view+json": {
       "model_id": "e2f004febbc042e79fb60380c0063fd2",
       "version_major": 2,
       "version_minor": 0
      },
      "text/plain": [
       "VBox(children=(Label(value='0.001 MB of 0.033 MB uploaded\\r'), FloatProgress(value=0.03040878793946849, max=1.…"
      ]
     },
     "metadata": {},
     "output_type": "display_data"
    },
    {
     "data": {
      "text/html": [
       "<style>\n",
       "    table.wandb td:nth-child(1) { padding: 0 10px; text-align: left ; width: auto;} td:nth-child(2) {text-align: left ; width: 100%}\n",
       "    .wandb-row { display: flex; flex-direction: row; flex-wrap: wrap; justify-content: flex-start; width: 100% }\n",
       "    .wandb-col { display: flex; flex-direction: column; flex-basis: 100%; flex: 1; padding: 10px; }\n",
       "    </style>\n",
       "<div class=\"wandb-row\"><div class=\"wandb-col\"><h3>Run history:</h3><br/><table class=\"wandb\"><tr><td>d</td><td>▁</td></tr><tr><td>fitting_time</td><td>▁</td></tr><tr><td>memory</td><td>▁</td></tr><tr><td>n</td><td>▁</td></tr><tr><td>pred_time</td><td>▁</td></tr></table><br/></div><div class=\"wandb-col\"><h3>Run summary:</h3><br/><table class=\"wandb\"><tr><td>d</td><td>2</td></tr><tr><td>fitting_time</td><td>0.0</td></tr><tr><td>memory</td><td>56.0</td></tr><tr><td>method</td><td>knn</td></tr><tr><td>n</td><td>1000</td></tr><tr><td>pred_time</td><td>0.13714</td></tr></table><br/></div></div>"
      ],
      "text/plain": [
       "<IPython.core.display.HTML object>"
      ]
     },
     "metadata": {},
     "output_type": "display_data"
    },
    {
     "data": {
      "text/html": [
       " View run <strong style=\"color:#cdcd00\">knn_n1000_d2</strong> at: <a href='https://wandb.ai/khush24shah/Assignment%204/runs/1nyr7td2' target=\"_blank\">https://wandb.ai/khush24shah/Assignment%204/runs/1nyr7td2</a><br/> View project at: <a href='https://wandb.ai/khush24shah/Assignment%204' target=\"_blank\">https://wandb.ai/khush24shah/Assignment%204</a><br/>Synced 5 W&B file(s), 0 media file(s), 0 artifact file(s) and 0 other file(s)"
      ],
      "text/plain": [
       "<IPython.core.display.HTML object>"
      ]
     },
     "metadata": {},
     "output_type": "display_data"
    },
    {
     "data": {
      "text/html": [
       "Find logs at: <code>./wandb/run-20240415_195406-1nyr7td2/logs</code>"
      ],
      "text/plain": [
       "<IPython.core.display.HTML object>"
      ]
     },
     "metadata": {},
     "output_type": "display_data"
    },
    {
     "data": {
      "application/vnd.jupyter.widget-view+json": {
       "model_id": "c92c0d1b60c04fdf89e2e4dd00a0c799",
       "version_major": 2,
       "version_minor": 0
      },
      "text/plain": [
       "VBox(children=(Label(value='Waiting for wandb.init()...\\r'), FloatProgress(value=0.01116754722251143, max=1.0)…"
      ]
     },
     "metadata": {},
     "output_type": "display_data"
    },
    {
     "data": {
      "text/html": [
       "Tracking run with wandb version 0.16.6"
      ],
      "text/plain": [
       "<IPython.core.display.HTML object>"
      ]
     },
     "metadata": {},
     "output_type": "display_data"
    },
    {
     "data": {
      "text/html": [
       "Run data is saved locally in <code>/Users/khush24shah/Desktop/Main/IITGN/SEM - 2/ML/assignment-4-ml-team-students-ensemble/wandb/run-20240415_195435-u4eun386</code>"
      ],
      "text/plain": [
       "<IPython.core.display.HTML object>"
      ]
     },
     "metadata": {},
     "output_type": "display_data"
    },
    {
     "data": {
      "text/html": [
       "Syncing run <strong><a href='https://wandb.ai/khush24shah/Assignment%204/runs/u4eun386' target=\"_blank\">knn_n1000_d10</a></strong> to <a href='https://wandb.ai/khush24shah/Assignment%204' target=\"_blank\">Weights & Biases</a> (<a href='https://wandb.me/run' target=\"_blank\">docs</a>)<br/>"
      ],
      "text/plain": [
       "<IPython.core.display.HTML object>"
      ]
     },
     "metadata": {},
     "output_type": "display_data"
    },
    {
     "data": {
      "text/html": [
       " View project at <a href='https://wandb.ai/khush24shah/Assignment%204' target=\"_blank\">https://wandb.ai/khush24shah/Assignment%204</a>"
      ],
      "text/plain": [
       "<IPython.core.display.HTML object>"
      ]
     },
     "metadata": {},
     "output_type": "display_data"
    },
    {
     "data": {
      "text/html": [
       " View run at <a href='https://wandb.ai/khush24shah/Assignment%204/runs/u4eun386' target=\"_blank\">https://wandb.ai/khush24shah/Assignment%204/runs/u4eun386</a>"
      ],
      "text/plain": [
       "<IPython.core.display.HTML object>"
      ]
     },
     "metadata": {},
     "output_type": "display_data"
    },
    {
     "data": {
      "application/vnd.jupyter.widget-view+json": {
       "model_id": "76022a3dea2b410a8bb472921d02b929",
       "version_major": 2,
       "version_minor": 0
      },
      "text/plain": [
       "VBox(children=(Label(value='0.001 MB of 0.033 MB uploaded\\r'), FloatProgress(value=0.03040878793946849, max=1.…"
      ]
     },
     "metadata": {},
     "output_type": "display_data"
    },
    {
     "data": {
      "text/html": [
       "<style>\n",
       "    table.wandb td:nth-child(1) { padding: 0 10px; text-align: left ; width: auto;} td:nth-child(2) {text-align: left ; width: 100%}\n",
       "    .wandb-row { display: flex; flex-direction: row; flex-wrap: wrap; justify-content: flex-start; width: 100% }\n",
       "    .wandb-col { display: flex; flex-direction: column; flex-basis: 100%; flex: 1; padding: 10px; }\n",
       "    </style>\n",
       "<div class=\"wandb-row\"><div class=\"wandb-col\"><h3>Run history:</h3><br/><table class=\"wandb\"><tr><td>d</td><td>▁</td></tr><tr><td>fitting_time</td><td>▁</td></tr><tr><td>memory</td><td>▁</td></tr><tr><td>n</td><td>▁</td></tr><tr><td>pred_time</td><td>▁</td></tr></table><br/></div><div class=\"wandb-col\"><h3>Run summary:</h3><br/><table class=\"wandb\"><tr><td>d</td><td>10</td></tr><tr><td>fitting_time</td><td>0.0</td></tr><tr><td>memory</td><td>56.0</td></tr><tr><td>method</td><td>knn</td></tr><tr><td>n</td><td>1000</td></tr><tr><td>pred_time</td><td>0.16539</td></tr></table><br/></div></div>"
      ],
      "text/plain": [
       "<IPython.core.display.HTML object>"
      ]
     },
     "metadata": {},
     "output_type": "display_data"
    },
    {
     "data": {
      "text/html": [
       " View run <strong style=\"color:#cdcd00\">knn_n1000_d10</strong> at: <a href='https://wandb.ai/khush24shah/Assignment%204/runs/u4eun386' target=\"_blank\">https://wandb.ai/khush24shah/Assignment%204/runs/u4eun386</a><br/> View project at: <a href='https://wandb.ai/khush24shah/Assignment%204' target=\"_blank\">https://wandb.ai/khush24shah/Assignment%204</a><br/>Synced 5 W&B file(s), 0 media file(s), 0 artifact file(s) and 0 other file(s)"
      ],
      "text/plain": [
       "<IPython.core.display.HTML object>"
      ]
     },
     "metadata": {},
     "output_type": "display_data"
    },
    {
     "data": {
      "text/html": [
       "Find logs at: <code>./wandb/run-20240415_195435-u4eun386/logs</code>"
      ],
      "text/plain": [
       "<IPython.core.display.HTML object>"
      ]
     },
     "metadata": {},
     "output_type": "display_data"
    },
    {
     "data": {
      "application/vnd.jupyter.widget-view+json": {
       "model_id": "df973de2d5c14f328d725eebdf907a49",
       "version_major": 2,
       "version_minor": 0
      },
      "text/plain": [
       "VBox(children=(Label(value='Waiting for wandb.init()...\\r'), FloatProgress(value=0.011158082866394478, max=1.0…"
      ]
     },
     "metadata": {},
     "output_type": "display_data"
    },
    {
     "data": {
      "text/html": [
       "Tracking run with wandb version 0.16.6"
      ],
      "text/plain": [
       "<IPython.core.display.HTML object>"
      ]
     },
     "metadata": {},
     "output_type": "display_data"
    },
    {
     "data": {
      "text/html": [
       "Run data is saved locally in <code>/Users/khush24shah/Desktop/Main/IITGN/SEM - 2/ML/assignment-4-ml-team-students-ensemble/wandb/run-20240415_195452-283z5r13</code>"
      ],
      "text/plain": [
       "<IPython.core.display.HTML object>"
      ]
     },
     "metadata": {},
     "output_type": "display_data"
    },
    {
     "data": {
      "text/html": [
       "Syncing run <strong><a href='https://wandb.ai/khush24shah/Assignment%204/runs/283z5r13' target=\"_blank\">knn_n1000_d100</a></strong> to <a href='https://wandb.ai/khush24shah/Assignment%204' target=\"_blank\">Weights & Biases</a> (<a href='https://wandb.me/run' target=\"_blank\">docs</a>)<br/>"
      ],
      "text/plain": [
       "<IPython.core.display.HTML object>"
      ]
     },
     "metadata": {},
     "output_type": "display_data"
    },
    {
     "data": {
      "text/html": [
       " View project at <a href='https://wandb.ai/khush24shah/Assignment%204' target=\"_blank\">https://wandb.ai/khush24shah/Assignment%204</a>"
      ],
      "text/plain": [
       "<IPython.core.display.HTML object>"
      ]
     },
     "metadata": {},
     "output_type": "display_data"
    },
    {
     "data": {
      "text/html": [
       " View run at <a href='https://wandb.ai/khush24shah/Assignment%204/runs/283z5r13' target=\"_blank\">https://wandb.ai/khush24shah/Assignment%204/runs/283z5r13</a>"
      ],
      "text/plain": [
       "<IPython.core.display.HTML object>"
      ]
     },
     "metadata": {},
     "output_type": "display_data"
    },
    {
     "data": {
      "application/vnd.jupyter.widget-view+json": {
       "model_id": "2d2a50b76eba4322800093fc7ec51025",
       "version_major": 2,
       "version_minor": 0
      },
      "text/plain": [
       "VBox(children=(Label(value='0.010 MB of 0.033 MB uploaded\\r'), FloatProgress(value=0.3086868224593118, max=1.0…"
      ]
     },
     "metadata": {},
     "output_type": "display_data"
    },
    {
     "data": {
      "text/html": [
       "<style>\n",
       "    table.wandb td:nth-child(1) { padding: 0 10px; text-align: left ; width: auto;} td:nth-child(2) {text-align: left ; width: 100%}\n",
       "    .wandb-row { display: flex; flex-direction: row; flex-wrap: wrap; justify-content: flex-start; width: 100% }\n",
       "    .wandb-col { display: flex; flex-direction: column; flex-basis: 100%; flex: 1; padding: 10px; }\n",
       "    </style>\n",
       "<div class=\"wandb-row\"><div class=\"wandb-col\"><h3>Run history:</h3><br/><table class=\"wandb\"><tr><td>d</td><td>▁</td></tr><tr><td>fitting_time</td><td>▁</td></tr><tr><td>memory</td><td>▁</td></tr><tr><td>n</td><td>▁</td></tr><tr><td>pred_time</td><td>▁</td></tr></table><br/></div><div class=\"wandb-col\"><h3>Run summary:</h3><br/><table class=\"wandb\"><tr><td>d</td><td>100</td></tr><tr><td>fitting_time</td><td>0.0</td></tr><tr><td>memory</td><td>56.0</td></tr><tr><td>method</td><td>knn</td></tr><tr><td>n</td><td>1000</td></tr><tr><td>pred_time</td><td>0.23381</td></tr></table><br/></div></div>"
      ],
      "text/plain": [
       "<IPython.core.display.HTML object>"
      ]
     },
     "metadata": {},
     "output_type": "display_data"
    },
    {
     "data": {
      "text/html": [
       " View run <strong style=\"color:#cdcd00\">knn_n1000_d100</strong> at: <a href='https://wandb.ai/khush24shah/Assignment%204/runs/283z5r13' target=\"_blank\">https://wandb.ai/khush24shah/Assignment%204/runs/283z5r13</a><br/> View project at: <a href='https://wandb.ai/khush24shah/Assignment%204' target=\"_blank\">https://wandb.ai/khush24shah/Assignment%204</a><br/>Synced 5 W&B file(s), 0 media file(s), 0 artifact file(s) and 0 other file(s)"
      ],
      "text/plain": [
       "<IPython.core.display.HTML object>"
      ]
     },
     "metadata": {},
     "output_type": "display_data"
    },
    {
     "data": {
      "text/html": [
       "Find logs at: <code>./wandb/run-20240415_195452-283z5r13/logs</code>"
      ],
      "text/plain": [
       "<IPython.core.display.HTML object>"
      ]
     },
     "metadata": {},
     "output_type": "display_data"
    },
    {
     "data": {
      "application/vnd.jupyter.widget-view+json": {
       "model_id": "378201343510428787b2bac761e99383",
       "version_major": 2,
       "version_minor": 0
      },
      "text/plain": [
       "VBox(children=(Label(value='Waiting for wandb.init()...\\r'), FloatProgress(value=0.011153753244757859, max=1.0…"
      ]
     },
     "metadata": {},
     "output_type": "display_data"
    },
    {
     "data": {
      "text/html": [
       "Tracking run with wandb version 0.16.6"
      ],
      "text/plain": [
       "<IPython.core.display.HTML object>"
      ]
     },
     "metadata": {},
     "output_type": "display_data"
    },
    {
     "data": {
      "text/html": [
       "Run data is saved locally in <code>/Users/khush24shah/Desktop/Main/IITGN/SEM - 2/ML/assignment-4-ml-team-students-ensemble/wandb/run-20240415_195509-h3scc1tj</code>"
      ],
      "text/plain": [
       "<IPython.core.display.HTML object>"
      ]
     },
     "metadata": {},
     "output_type": "display_data"
    },
    {
     "data": {
      "text/html": [
       "Syncing run <strong><a href='https://wandb.ai/khush24shah/Assignment%204/runs/h3scc1tj' target=\"_blank\">knn_n1000_d1000</a></strong> to <a href='https://wandb.ai/khush24shah/Assignment%204' target=\"_blank\">Weights & Biases</a> (<a href='https://wandb.me/run' target=\"_blank\">docs</a>)<br/>"
      ],
      "text/plain": [
       "<IPython.core.display.HTML object>"
      ]
     },
     "metadata": {},
     "output_type": "display_data"
    },
    {
     "data": {
      "text/html": [
       " View project at <a href='https://wandb.ai/khush24shah/Assignment%204' target=\"_blank\">https://wandb.ai/khush24shah/Assignment%204</a>"
      ],
      "text/plain": [
       "<IPython.core.display.HTML object>"
      ]
     },
     "metadata": {},
     "output_type": "display_data"
    },
    {
     "data": {
      "text/html": [
       " View run at <a href='https://wandb.ai/khush24shah/Assignment%204/runs/h3scc1tj' target=\"_blank\">https://wandb.ai/khush24shah/Assignment%204/runs/h3scc1tj</a>"
      ],
      "text/plain": [
       "<IPython.core.display.HTML object>"
      ]
     },
     "metadata": {},
     "output_type": "display_data"
    },
    {
     "data": {
      "application/vnd.jupyter.widget-view+json": {
       "model_id": "56475a236e284688af4bb229ab171703",
       "version_major": 2,
       "version_minor": 0
      },
      "text/plain": [
       "VBox(children=(Label(value='0.010 MB of 0.033 MB uploaded\\r'), FloatProgress(value=0.3086868224593118, max=1.0…"
      ]
     },
     "metadata": {},
     "output_type": "display_data"
    },
    {
     "data": {
      "text/html": [
       "<style>\n",
       "    table.wandb td:nth-child(1) { padding: 0 10px; text-align: left ; width: auto;} td:nth-child(2) {text-align: left ; width: 100%}\n",
       "    .wandb-row { display: flex; flex-direction: row; flex-wrap: wrap; justify-content: flex-start; width: 100% }\n",
       "    .wandb-col { display: flex; flex-direction: column; flex-basis: 100%; flex: 1; padding: 10px; }\n",
       "    </style>\n",
       "<div class=\"wandb-row\"><div class=\"wandb-col\"><h3>Run history:</h3><br/><table class=\"wandb\"><tr><td>d</td><td>▁</td></tr><tr><td>fitting_time</td><td>▁</td></tr><tr><td>memory</td><td>▁</td></tr><tr><td>n</td><td>▁</td></tr><tr><td>pred_time</td><td>▁</td></tr></table><br/></div><div class=\"wandb-col\"><h3>Run summary:</h3><br/><table class=\"wandb\"><tr><td>d</td><td>1000</td></tr><tr><td>fitting_time</td><td>0.0</td></tr><tr><td>memory</td><td>56.0</td></tr><tr><td>method</td><td>knn</td></tr><tr><td>n</td><td>1000</td></tr><tr><td>pred_time</td><td>1.71488</td></tr></table><br/></div></div>"
      ],
      "text/plain": [
       "<IPython.core.display.HTML object>"
      ]
     },
     "metadata": {},
     "output_type": "display_data"
    },
    {
     "data": {
      "text/html": [
       " View run <strong style=\"color:#cdcd00\">knn_n1000_d1000</strong> at: <a href='https://wandb.ai/khush24shah/Assignment%204/runs/h3scc1tj' target=\"_blank\">https://wandb.ai/khush24shah/Assignment%204/runs/h3scc1tj</a><br/> View project at: <a href='https://wandb.ai/khush24shah/Assignment%204' target=\"_blank\">https://wandb.ai/khush24shah/Assignment%204</a><br/>Synced 5 W&B file(s), 0 media file(s), 0 artifact file(s) and 0 other file(s)"
      ],
      "text/plain": [
       "<IPython.core.display.HTML object>"
      ]
     },
     "metadata": {},
     "output_type": "display_data"
    },
    {
     "data": {
      "text/html": [
       "Find logs at: <code>./wandb/run-20240415_195509-h3scc1tj/logs</code>"
      ],
      "text/plain": [
       "<IPython.core.display.HTML object>"
      ]
     },
     "metadata": {},
     "output_type": "display_data"
    },
    {
     "data": {
      "application/vnd.jupyter.widget-view+json": {
       "model_id": "b03f847b860c4837984450f0af7e66b7",
       "version_major": 2,
       "version_minor": 0
      },
      "text/plain": [
       "VBox(children=(Label(value='Waiting for wandb.init()...\\r'), FloatProgress(value=0.011167230089065722, max=1.0…"
      ]
     },
     "metadata": {},
     "output_type": "display_data"
    },
    {
     "data": {
      "text/html": [
       "Tracking run with wandb version 0.16.6"
      ],
      "text/plain": [
       "<IPython.core.display.HTML object>"
      ]
     },
     "metadata": {},
     "output_type": "display_data"
    },
    {
     "data": {
      "text/html": [
       "Run data is saved locally in <code>/Users/khush24shah/Desktop/Main/IITGN/SEM - 2/ML/assignment-4-ml-team-students-ensemble/wandb/run-20240415_195541-o3ep3tlx</code>"
      ],
      "text/plain": [
       "<IPython.core.display.HTML object>"
      ]
     },
     "metadata": {},
     "output_type": "display_data"
    },
    {
     "data": {
      "text/html": [
       "Syncing run <strong><a href='https://wandb.ai/khush24shah/Assignment%204/runs/o3ep3tlx' target=\"_blank\">kd_tree_n10_d2</a></strong> to <a href='https://wandb.ai/khush24shah/Assignment%204' target=\"_blank\">Weights & Biases</a> (<a href='https://wandb.me/run' target=\"_blank\">docs</a>)<br/>"
      ],
      "text/plain": [
       "<IPython.core.display.HTML object>"
      ]
     },
     "metadata": {},
     "output_type": "display_data"
    },
    {
     "data": {
      "text/html": [
       " View project at <a href='https://wandb.ai/khush24shah/Assignment%204' target=\"_blank\">https://wandb.ai/khush24shah/Assignment%204</a>"
      ],
      "text/plain": [
       "<IPython.core.display.HTML object>"
      ]
     },
     "metadata": {},
     "output_type": "display_data"
    },
    {
     "data": {
      "text/html": [
       " View run at <a href='https://wandb.ai/khush24shah/Assignment%204/runs/o3ep3tlx' target=\"_blank\">https://wandb.ai/khush24shah/Assignment%204/runs/o3ep3tlx</a>"
      ],
      "text/plain": [
       "<IPython.core.display.HTML object>"
      ]
     },
     "metadata": {},
     "output_type": "display_data"
    },
    {
     "data": {
      "application/vnd.jupyter.widget-view+json": {
       "model_id": "3ad1056123834d158e8109e426e442b7",
       "version_major": 2,
       "version_minor": 0
      },
      "text/plain": [
       "VBox(children=(Label(value='0.001 MB of 0.033 MB uploaded\\r'), FloatProgress(value=0.030407048256529078, max=1…"
      ]
     },
     "metadata": {},
     "output_type": "display_data"
    },
    {
     "data": {
      "text/html": [
       "<style>\n",
       "    table.wandb td:nth-child(1) { padding: 0 10px; text-align: left ; width: auto;} td:nth-child(2) {text-align: left ; width: 100%}\n",
       "    .wandb-row { display: flex; flex-direction: row; flex-wrap: wrap; justify-content: flex-start; width: 100% }\n",
       "    .wandb-col { display: flex; flex-direction: column; flex-basis: 100%; flex: 1; padding: 10px; }\n",
       "    </style>\n",
       "<div class=\"wandb-row\"><div class=\"wandb-col\"><h3>Run history:</h3><br/><table class=\"wandb\"><tr><td>d</td><td>▁</td></tr><tr><td>fitting_time</td><td>▁</td></tr><tr><td>memory</td><td>▁</td></tr><tr><td>n</td><td>▁</td></tr><tr><td>pred_time</td><td>▁</td></tr></table><br/></div><div class=\"wandb-col\"><h3>Run summary:</h3><br/><table class=\"wandb\"><tr><td>d</td><td>2</td></tr><tr><td>fitting_time</td><td>0.00013</td></tr><tr><td>memory</td><td>56.0</td></tr><tr><td>method</td><td>kd_tree</td></tr><tr><td>n</td><td>10</td></tr><tr><td>pred_time</td><td>0.001</td></tr></table><br/></div></div>"
      ],
      "text/plain": [
       "<IPython.core.display.HTML object>"
      ]
     },
     "metadata": {},
     "output_type": "display_data"
    },
    {
     "data": {
      "text/html": [
       " View run <strong style=\"color:#cdcd00\">kd_tree_n10_d2</strong> at: <a href='https://wandb.ai/khush24shah/Assignment%204/runs/o3ep3tlx' target=\"_blank\">https://wandb.ai/khush24shah/Assignment%204/runs/o3ep3tlx</a><br/> View project at: <a href='https://wandb.ai/khush24shah/Assignment%204' target=\"_blank\">https://wandb.ai/khush24shah/Assignment%204</a><br/>Synced 5 W&B file(s), 0 media file(s), 0 artifact file(s) and 0 other file(s)"
      ],
      "text/plain": [
       "<IPython.core.display.HTML object>"
      ]
     },
     "metadata": {},
     "output_type": "display_data"
    },
    {
     "data": {
      "text/html": [
       "Find logs at: <code>./wandb/run-20240415_195541-o3ep3tlx/logs</code>"
      ],
      "text/plain": [
       "<IPython.core.display.HTML object>"
      ]
     },
     "metadata": {},
     "output_type": "display_data"
    },
    {
     "data": {
      "application/vnd.jupyter.widget-view+json": {
       "model_id": "098fbf3c01384a3f804e5a07f5f4e14d",
       "version_major": 2,
       "version_minor": 0
      },
      "text/plain": [
       "VBox(children=(Label(value='Waiting for wandb.init()...\\r'), FloatProgress(value=0.011167248144435387, max=1.0…"
      ]
     },
     "metadata": {},
     "output_type": "display_data"
    },
    {
     "data": {
      "text/html": [
       "Tracking run with wandb version 0.16.6"
      ],
      "text/plain": [
       "<IPython.core.display.HTML object>"
      ]
     },
     "metadata": {},
     "output_type": "display_data"
    },
    {
     "data": {
      "text/html": [
       "Run data is saved locally in <code>/Users/khush24shah/Desktop/Main/IITGN/SEM - 2/ML/assignment-4-ml-team-students-ensemble/wandb/run-20240415_195556-1id8wszi</code>"
      ],
      "text/plain": [
       "<IPython.core.display.HTML object>"
      ]
     },
     "metadata": {},
     "output_type": "display_data"
    },
    {
     "data": {
      "text/html": [
       "Syncing run <strong><a href='https://wandb.ai/khush24shah/Assignment%204/runs/1id8wszi' target=\"_blank\">kd_tree_n10_d10</a></strong> to <a href='https://wandb.ai/khush24shah/Assignment%204' target=\"_blank\">Weights & Biases</a> (<a href='https://wandb.me/run' target=\"_blank\">docs</a>)<br/>"
      ],
      "text/plain": [
       "<IPython.core.display.HTML object>"
      ]
     },
     "metadata": {},
     "output_type": "display_data"
    },
    {
     "data": {
      "text/html": [
       " View project at <a href='https://wandb.ai/khush24shah/Assignment%204' target=\"_blank\">https://wandb.ai/khush24shah/Assignment%204</a>"
      ],
      "text/plain": [
       "<IPython.core.display.HTML object>"
      ]
     },
     "metadata": {},
     "output_type": "display_data"
    },
    {
     "data": {
      "text/html": [
       " View run at <a href='https://wandb.ai/khush24shah/Assignment%204/runs/1id8wszi' target=\"_blank\">https://wandb.ai/khush24shah/Assignment%204/runs/1id8wszi</a>"
      ],
      "text/plain": [
       "<IPython.core.display.HTML object>"
      ]
     },
     "metadata": {},
     "output_type": "display_data"
    },
    {
     "data": {
      "application/vnd.jupyter.widget-view+json": {
       "model_id": "27ce89c521a245f3b6dabea34f1feaf4",
       "version_major": 2,
       "version_minor": 0
      },
      "text/plain": [
       "VBox(children=(Label(value='0.001 MB of 0.033 MB uploaded\\r'), FloatProgress(value=0.030433912073453275, max=1…"
      ]
     },
     "metadata": {},
     "output_type": "display_data"
    },
    {
     "data": {
      "text/html": [
       "<style>\n",
       "    table.wandb td:nth-child(1) { padding: 0 10px; text-align: left ; width: auto;} td:nth-child(2) {text-align: left ; width: 100%}\n",
       "    .wandb-row { display: flex; flex-direction: row; flex-wrap: wrap; justify-content: flex-start; width: 100% }\n",
       "    .wandb-col { display: flex; flex-direction: column; flex-basis: 100%; flex: 1; padding: 10px; }\n",
       "    </style>\n",
       "<div class=\"wandb-row\"><div class=\"wandb-col\"><h3>Run history:</h3><br/><table class=\"wandb\"><tr><td>d</td><td>▁</td></tr><tr><td>fitting_time</td><td>▁</td></tr><tr><td>memory</td><td>▁</td></tr><tr><td>n</td><td>▁</td></tr><tr><td>pred_time</td><td>▁</td></tr></table><br/></div><div class=\"wandb-col\"><h3>Run summary:</h3><br/><table class=\"wandb\"><tr><td>d</td><td>10</td></tr><tr><td>fitting_time</td><td>0.00014</td></tr><tr><td>memory</td><td>56.0</td></tr><tr><td>method</td><td>kd_tree</td></tr><tr><td>n</td><td>10</td></tr><tr><td>pred_time</td><td>0.00102</td></tr></table><br/></div></div>"
      ],
      "text/plain": [
       "<IPython.core.display.HTML object>"
      ]
     },
     "metadata": {},
     "output_type": "display_data"
    },
    {
     "data": {
      "text/html": [
       " View run <strong style=\"color:#cdcd00\">kd_tree_n10_d10</strong> at: <a href='https://wandb.ai/khush24shah/Assignment%204/runs/1id8wszi' target=\"_blank\">https://wandb.ai/khush24shah/Assignment%204/runs/1id8wszi</a><br/> View project at: <a href='https://wandb.ai/khush24shah/Assignment%204' target=\"_blank\">https://wandb.ai/khush24shah/Assignment%204</a><br/>Synced 5 W&B file(s), 0 media file(s), 0 artifact file(s) and 0 other file(s)"
      ],
      "text/plain": [
       "<IPython.core.display.HTML object>"
      ]
     },
     "metadata": {},
     "output_type": "display_data"
    },
    {
     "data": {
      "text/html": [
       "Find logs at: <code>./wandb/run-20240415_195556-1id8wszi/logs</code>"
      ],
      "text/plain": [
       "<IPython.core.display.HTML object>"
      ]
     },
     "metadata": {},
     "output_type": "display_data"
    },
    {
     "data": {
      "application/vnd.jupyter.widget-view+json": {
       "model_id": "7c6946c04f20414bbac1dcd5cad70b59",
       "version_major": 2,
       "version_minor": 0
      },
      "text/plain": [
       "VBox(children=(Label(value='Waiting for wandb.init()...\\r'), FloatProgress(value=0.011167080556171842, max=1.0…"
      ]
     },
     "metadata": {},
     "output_type": "display_data"
    },
    {
     "data": {
      "text/html": [
       "Tracking run with wandb version 0.16.6"
      ],
      "text/plain": [
       "<IPython.core.display.HTML object>"
      ]
     },
     "metadata": {},
     "output_type": "display_data"
    },
    {
     "data": {
      "text/html": [
       "Run data is saved locally in <code>/Users/khush24shah/Desktop/Main/IITGN/SEM - 2/ML/assignment-4-ml-team-students-ensemble/wandb/run-20240415_195610-s4xnl2ef</code>"
      ],
      "text/plain": [
       "<IPython.core.display.HTML object>"
      ]
     },
     "metadata": {},
     "output_type": "display_data"
    },
    {
     "data": {
      "text/html": [
       "Syncing run <strong><a href='https://wandb.ai/khush24shah/Assignment%204/runs/s4xnl2ef' target=\"_blank\">kd_tree_n10_d100</a></strong> to <a href='https://wandb.ai/khush24shah/Assignment%204' target=\"_blank\">Weights & Biases</a> (<a href='https://wandb.me/run' target=\"_blank\">docs</a>)<br/>"
      ],
      "text/plain": [
       "<IPython.core.display.HTML object>"
      ]
     },
     "metadata": {},
     "output_type": "display_data"
    },
    {
     "data": {
      "text/html": [
       " View project at <a href='https://wandb.ai/khush24shah/Assignment%204' target=\"_blank\">https://wandb.ai/khush24shah/Assignment%204</a>"
      ],
      "text/plain": [
       "<IPython.core.display.HTML object>"
      ]
     },
     "metadata": {},
     "output_type": "display_data"
    },
    {
     "data": {
      "text/html": [
       " View run at <a href='https://wandb.ai/khush24shah/Assignment%204/runs/s4xnl2ef' target=\"_blank\">https://wandb.ai/khush24shah/Assignment%204/runs/s4xnl2ef</a>"
      ],
      "text/plain": [
       "<IPython.core.display.HTML object>"
      ]
     },
     "metadata": {},
     "output_type": "display_data"
    },
    {
     "data": {
      "application/vnd.jupyter.widget-view+json": {
       "model_id": "b4bfa802fcf248d381019a6997e072c2",
       "version_major": 2,
       "version_minor": 0
      },
      "text/plain": [
       "VBox(children=(Label(value='0.001 MB of 0.033 MB uploaded\\r'), FloatProgress(value=0.03043217115236107, max=1.…"
      ]
     },
     "metadata": {},
     "output_type": "display_data"
    },
    {
     "data": {
      "text/html": [
       "<style>\n",
       "    table.wandb td:nth-child(1) { padding: 0 10px; text-align: left ; width: auto;} td:nth-child(2) {text-align: left ; width: 100%}\n",
       "    .wandb-row { display: flex; flex-direction: row; flex-wrap: wrap; justify-content: flex-start; width: 100% }\n",
       "    .wandb-col { display: flex; flex-direction: column; flex-basis: 100%; flex: 1; padding: 10px; }\n",
       "    </style>\n",
       "<div class=\"wandb-row\"><div class=\"wandb-col\"><h3>Run history:</h3><br/><table class=\"wandb\"><tr><td>d</td><td>▁</td></tr><tr><td>fitting_time</td><td>▁</td></tr><tr><td>memory</td><td>▁</td></tr><tr><td>n</td><td>▁</td></tr><tr><td>pred_time</td><td>▁</td></tr></table><br/></div><div class=\"wandb-col\"><h3>Run summary:</h3><br/><table class=\"wandb\"><tr><td>d</td><td>100</td></tr><tr><td>fitting_time</td><td>0.00013</td></tr><tr><td>memory</td><td>56.0</td></tr><tr><td>method</td><td>kd_tree</td></tr><tr><td>n</td><td>10</td></tr><tr><td>pred_time</td><td>0.00101</td></tr></table><br/></div></div>"
      ],
      "text/plain": [
       "<IPython.core.display.HTML object>"
      ]
     },
     "metadata": {},
     "output_type": "display_data"
    },
    {
     "data": {
      "text/html": [
       " View run <strong style=\"color:#cdcd00\">kd_tree_n10_d100</strong> at: <a href='https://wandb.ai/khush24shah/Assignment%204/runs/s4xnl2ef' target=\"_blank\">https://wandb.ai/khush24shah/Assignment%204/runs/s4xnl2ef</a><br/> View project at: <a href='https://wandb.ai/khush24shah/Assignment%204' target=\"_blank\">https://wandb.ai/khush24shah/Assignment%204</a><br/>Synced 5 W&B file(s), 0 media file(s), 0 artifact file(s) and 0 other file(s)"
      ],
      "text/plain": [
       "<IPython.core.display.HTML object>"
      ]
     },
     "metadata": {},
     "output_type": "display_data"
    },
    {
     "data": {
      "text/html": [
       "Find logs at: <code>./wandb/run-20240415_195610-s4xnl2ef/logs</code>"
      ],
      "text/plain": [
       "<IPython.core.display.HTML object>"
      ]
     },
     "metadata": {},
     "output_type": "display_data"
    },
    {
     "data": {
      "application/vnd.jupyter.widget-view+json": {
       "model_id": "d2a052cf34c1417e9db4c4b2aa9a84b9",
       "version_major": 2,
       "version_minor": 0
      },
      "text/plain": [
       "VBox(children=(Label(value='Waiting for wandb.init()...\\r'), FloatProgress(value=0.011168218988718257, max=1.0…"
      ]
     },
     "metadata": {},
     "output_type": "display_data"
    },
    {
     "data": {
      "text/html": [
       "Tracking run with wandb version 0.16.6"
      ],
      "text/plain": [
       "<IPython.core.display.HTML object>"
      ]
     },
     "metadata": {},
     "output_type": "display_data"
    },
    {
     "data": {
      "text/html": [
       "Run data is saved locally in <code>/Users/khush24shah/Desktop/Main/IITGN/SEM - 2/ML/assignment-4-ml-team-students-ensemble/wandb/run-20240415_195625-sve3osls</code>"
      ],
      "text/plain": [
       "<IPython.core.display.HTML object>"
      ]
     },
     "metadata": {},
     "output_type": "display_data"
    },
    {
     "data": {
      "text/html": [
       "Syncing run <strong><a href='https://wandb.ai/khush24shah/Assignment%204/runs/sve3osls' target=\"_blank\">kd_tree_n10_d1000</a></strong> to <a href='https://wandb.ai/khush24shah/Assignment%204' target=\"_blank\">Weights & Biases</a> (<a href='https://wandb.me/run' target=\"_blank\">docs</a>)<br/>"
      ],
      "text/plain": [
       "<IPython.core.display.HTML object>"
      ]
     },
     "metadata": {},
     "output_type": "display_data"
    },
    {
     "data": {
      "text/html": [
       " View project at <a href='https://wandb.ai/khush24shah/Assignment%204' target=\"_blank\">https://wandb.ai/khush24shah/Assignment%204</a>"
      ],
      "text/plain": [
       "<IPython.core.display.HTML object>"
      ]
     },
     "metadata": {},
     "output_type": "display_data"
    },
    {
     "data": {
      "text/html": [
       " View run at <a href='https://wandb.ai/khush24shah/Assignment%204/runs/sve3osls' target=\"_blank\">https://wandb.ai/khush24shah/Assignment%204/runs/sve3osls</a>"
      ],
      "text/plain": [
       "<IPython.core.display.HTML object>"
      ]
     },
     "metadata": {},
     "output_type": "display_data"
    },
    {
     "data": {
      "application/vnd.jupyter.widget-view+json": {
       "model_id": "ca833090daba465fb80db64a1aabbe03",
       "version_major": 2,
       "version_minor": 0
      },
      "text/plain": [
       "VBox(children=(Label(value='0.001 MB of 0.033 MB uploaded\\r'), FloatProgress(value=0.030403569487744187, max=1…"
      ]
     },
     "metadata": {},
     "output_type": "display_data"
    },
    {
     "data": {
      "text/html": [
       "<style>\n",
       "    table.wandb td:nth-child(1) { padding: 0 10px; text-align: left ; width: auto;} td:nth-child(2) {text-align: left ; width: 100%}\n",
       "    .wandb-row { display: flex; flex-direction: row; flex-wrap: wrap; justify-content: flex-start; width: 100% }\n",
       "    .wandb-col { display: flex; flex-direction: column; flex-basis: 100%; flex: 1; padding: 10px; }\n",
       "    </style>\n",
       "<div class=\"wandb-row\"><div class=\"wandb-col\"><h3>Run history:</h3><br/><table class=\"wandb\"><tr><td>d</td><td>▁</td></tr><tr><td>fitting_time</td><td>▁</td></tr><tr><td>memory</td><td>▁</td></tr><tr><td>n</td><td>▁</td></tr><tr><td>pred_time</td><td>▁</td></tr></table><br/></div><div class=\"wandb-col\"><h3>Run summary:</h3><br/><table class=\"wandb\"><tr><td>d</td><td>1000</td></tr><tr><td>fitting_time</td><td>0.00015</td></tr><tr><td>memory</td><td>56.0</td></tr><tr><td>method</td><td>kd_tree</td></tr><tr><td>n</td><td>10</td></tr><tr><td>pred_time</td><td>0.001</td></tr></table><br/></div></div>"
      ],
      "text/plain": [
       "<IPython.core.display.HTML object>"
      ]
     },
     "metadata": {},
     "output_type": "display_data"
    },
    {
     "data": {
      "text/html": [
       " View run <strong style=\"color:#cdcd00\">kd_tree_n10_d1000</strong> at: <a href='https://wandb.ai/khush24shah/Assignment%204/runs/sve3osls' target=\"_blank\">https://wandb.ai/khush24shah/Assignment%204/runs/sve3osls</a><br/> View project at: <a href='https://wandb.ai/khush24shah/Assignment%204' target=\"_blank\">https://wandb.ai/khush24shah/Assignment%204</a><br/>Synced 5 W&B file(s), 0 media file(s), 0 artifact file(s) and 0 other file(s)"
      ],
      "text/plain": [
       "<IPython.core.display.HTML object>"
      ]
     },
     "metadata": {},
     "output_type": "display_data"
    },
    {
     "data": {
      "text/html": [
       "Find logs at: <code>./wandb/run-20240415_195625-sve3osls/logs</code>"
      ],
      "text/plain": [
       "<IPython.core.display.HTML object>"
      ]
     },
     "metadata": {},
     "output_type": "display_data"
    },
    {
     "data": {
      "application/vnd.jupyter.widget-view+json": {
       "model_id": "6f6b0d9950a142b0a45e2a075345745b",
       "version_major": 2,
       "version_minor": 0
      },
      "text/plain": [
       "VBox(children=(Label(value='Waiting for wandb.init()...\\r'), FloatProgress(value=0.011167474544426013, max=1.0…"
      ]
     },
     "metadata": {},
     "output_type": "display_data"
    },
    {
     "data": {
      "text/html": [
       "Tracking run with wandb version 0.16.6"
      ],
      "text/plain": [
       "<IPython.core.display.HTML object>"
      ]
     },
     "metadata": {},
     "output_type": "display_data"
    },
    {
     "data": {
      "text/html": [
       "Run data is saved locally in <code>/Users/khush24shah/Desktop/Main/IITGN/SEM - 2/ML/assignment-4-ml-team-students-ensemble/wandb/run-20240415_195639-bwkxtt1i</code>"
      ],
      "text/plain": [
       "<IPython.core.display.HTML object>"
      ]
     },
     "metadata": {},
     "output_type": "display_data"
    },
    {
     "data": {
      "text/html": [
       "Syncing run <strong><a href='https://wandb.ai/khush24shah/Assignment%204/runs/bwkxtt1i' target=\"_blank\">kd_tree_n100_d2</a></strong> to <a href='https://wandb.ai/khush24shah/Assignment%204' target=\"_blank\">Weights & Biases</a> (<a href='https://wandb.me/run' target=\"_blank\">docs</a>)<br/>"
      ],
      "text/plain": [
       "<IPython.core.display.HTML object>"
      ]
     },
     "metadata": {},
     "output_type": "display_data"
    },
    {
     "data": {
      "text/html": [
       " View project at <a href='https://wandb.ai/khush24shah/Assignment%204' target=\"_blank\">https://wandb.ai/khush24shah/Assignment%204</a>"
      ],
      "text/plain": [
       "<IPython.core.display.HTML object>"
      ]
     },
     "metadata": {},
     "output_type": "display_data"
    },
    {
     "data": {
      "text/html": [
       " View run at <a href='https://wandb.ai/khush24shah/Assignment%204/runs/bwkxtt1i' target=\"_blank\">https://wandb.ai/khush24shah/Assignment%204/runs/bwkxtt1i</a>"
      ],
      "text/plain": [
       "<IPython.core.display.HTML object>"
      ]
     },
     "metadata": {},
     "output_type": "display_data"
    },
    {
     "data": {
      "application/vnd.jupyter.widget-view+json": {
       "model_id": "1d07a30682074cec8af0e35cfceaea40",
       "version_major": 2,
       "version_minor": 0
      },
      "text/plain": [
       "VBox(children=(Label(value='0.010 MB of 0.033 MB uploaded\\r'), FloatProgress(value=0.3086582191584909, max=1.0…"
      ]
     },
     "metadata": {},
     "output_type": "display_data"
    },
    {
     "data": {
      "text/html": [
       "<style>\n",
       "    table.wandb td:nth-child(1) { padding: 0 10px; text-align: left ; width: auto;} td:nth-child(2) {text-align: left ; width: 100%}\n",
       "    .wandb-row { display: flex; flex-direction: row; flex-wrap: wrap; justify-content: flex-start; width: 100% }\n",
       "    .wandb-col { display: flex; flex-direction: column; flex-basis: 100%; flex: 1; padding: 10px; }\n",
       "    </style>\n",
       "<div class=\"wandb-row\"><div class=\"wandb-col\"><h3>Run history:</h3><br/><table class=\"wandb\"><tr><td>d</td><td>▁</td></tr><tr><td>fitting_time</td><td>▁</td></tr><tr><td>memory</td><td>▁</td></tr><tr><td>n</td><td>▁</td></tr><tr><td>pred_time</td><td>▁</td></tr></table><br/></div><div class=\"wandb-col\"><h3>Run summary:</h3><br/><table class=\"wandb\"><tr><td>d</td><td>2</td></tr><tr><td>fitting_time</td><td>0.00014</td></tr><tr><td>memory</td><td>56.0</td></tr><tr><td>method</td><td>kd_tree</td></tr><tr><td>n</td><td>100</td></tr><tr><td>pred_time</td><td>0.00971</td></tr></table><br/></div></div>"
      ],
      "text/plain": [
       "<IPython.core.display.HTML object>"
      ]
     },
     "metadata": {},
     "output_type": "display_data"
    },
    {
     "data": {
      "text/html": [
       " View run <strong style=\"color:#cdcd00\">kd_tree_n100_d2</strong> at: <a href='https://wandb.ai/khush24shah/Assignment%204/runs/bwkxtt1i' target=\"_blank\">https://wandb.ai/khush24shah/Assignment%204/runs/bwkxtt1i</a><br/> View project at: <a href='https://wandb.ai/khush24shah/Assignment%204' target=\"_blank\">https://wandb.ai/khush24shah/Assignment%204</a><br/>Synced 5 W&B file(s), 0 media file(s), 0 artifact file(s) and 0 other file(s)"
      ],
      "text/plain": [
       "<IPython.core.display.HTML object>"
      ]
     },
     "metadata": {},
     "output_type": "display_data"
    },
    {
     "data": {
      "text/html": [
       "Find logs at: <code>./wandb/run-20240415_195639-bwkxtt1i/logs</code>"
      ],
      "text/plain": [
       "<IPython.core.display.HTML object>"
      ]
     },
     "metadata": {},
     "output_type": "display_data"
    },
    {
     "data": {
      "application/vnd.jupyter.widget-view+json": {
       "model_id": "eb0b4e62434d4862886366a51e4079cc",
       "version_major": 2,
       "version_minor": 0
      },
      "text/plain": [
       "VBox(children=(Label(value='Waiting for wandb.init()...\\r'), FloatProgress(value=0.011157035178297924, max=1.0…"
      ]
     },
     "metadata": {},
     "output_type": "display_data"
    },
    {
     "data": {
      "text/html": [
       "Tracking run with wandb version 0.16.6"
      ],
      "text/plain": [
       "<IPython.core.display.HTML object>"
      ]
     },
     "metadata": {},
     "output_type": "display_data"
    },
    {
     "data": {
      "text/html": [
       "Run data is saved locally in <code>/Users/khush24shah/Desktop/Main/IITGN/SEM - 2/ML/assignment-4-ml-team-students-ensemble/wandb/run-20240415_195653-nzae6agh</code>"
      ],
      "text/plain": [
       "<IPython.core.display.HTML object>"
      ]
     },
     "metadata": {},
     "output_type": "display_data"
    },
    {
     "data": {
      "text/html": [
       "Syncing run <strong><a href='https://wandb.ai/khush24shah/Assignment%204/runs/nzae6agh' target=\"_blank\">kd_tree_n100_d10</a></strong> to <a href='https://wandb.ai/khush24shah/Assignment%204' target=\"_blank\">Weights & Biases</a> (<a href='https://wandb.me/run' target=\"_blank\">docs</a>)<br/>"
      ],
      "text/plain": [
       "<IPython.core.display.HTML object>"
      ]
     },
     "metadata": {},
     "output_type": "display_data"
    },
    {
     "data": {
      "text/html": [
       " View project at <a href='https://wandb.ai/khush24shah/Assignment%204' target=\"_blank\">https://wandb.ai/khush24shah/Assignment%204</a>"
      ],
      "text/plain": [
       "<IPython.core.display.HTML object>"
      ]
     },
     "metadata": {},
     "output_type": "display_data"
    },
    {
     "data": {
      "text/html": [
       " View run at <a href='https://wandb.ai/khush24shah/Assignment%204/runs/nzae6agh' target=\"_blank\">https://wandb.ai/khush24shah/Assignment%204/runs/nzae6agh</a>"
      ],
      "text/plain": [
       "<IPython.core.display.HTML object>"
      ]
     },
     "metadata": {},
     "output_type": "display_data"
    },
    {
     "data": {
      "application/vnd.jupyter.widget-view+json": {
       "model_id": "bc0ba7625b5c4cc3a509256da0bead76",
       "version_major": 2,
       "version_minor": 0
      },
      "text/plain": [
       "VBox(children=(Label(value='0.001 MB of 0.033 MB uploaded\\r'), FloatProgress(value=0.030405308772632363, max=1…"
      ]
     },
     "metadata": {},
     "output_type": "display_data"
    },
    {
     "data": {
      "text/html": [
       "<style>\n",
       "    table.wandb td:nth-child(1) { padding: 0 10px; text-align: left ; width: auto;} td:nth-child(2) {text-align: left ; width: 100%}\n",
       "    .wandb-row { display: flex; flex-direction: row; flex-wrap: wrap; justify-content: flex-start; width: 100% }\n",
       "    .wandb-col { display: flex; flex-direction: column; flex-basis: 100%; flex: 1; padding: 10px; }\n",
       "    </style>\n",
       "<div class=\"wandb-row\"><div class=\"wandb-col\"><h3>Run history:</h3><br/><table class=\"wandb\"><tr><td>d</td><td>▁</td></tr><tr><td>fitting_time</td><td>▁</td></tr><tr><td>memory</td><td>▁</td></tr><tr><td>n</td><td>▁</td></tr><tr><td>pred_time</td><td>▁</td></tr></table><br/></div><div class=\"wandb-col\"><h3>Run summary:</h3><br/><table class=\"wandb\"><tr><td>d</td><td>10</td></tr><tr><td>fitting_time</td><td>0.00014</td></tr><tr><td>memory</td><td>56.0</td></tr><tr><td>method</td><td>kd_tree</td></tr><tr><td>n</td><td>100</td></tr><tr><td>pred_time</td><td>0.00953</td></tr></table><br/></div></div>"
      ],
      "text/plain": [
       "<IPython.core.display.HTML object>"
      ]
     },
     "metadata": {},
     "output_type": "display_data"
    },
    {
     "data": {
      "text/html": [
       " View run <strong style=\"color:#cdcd00\">kd_tree_n100_d10</strong> at: <a href='https://wandb.ai/khush24shah/Assignment%204/runs/nzae6agh' target=\"_blank\">https://wandb.ai/khush24shah/Assignment%204/runs/nzae6agh</a><br/> View project at: <a href='https://wandb.ai/khush24shah/Assignment%204' target=\"_blank\">https://wandb.ai/khush24shah/Assignment%204</a><br/>Synced 5 W&B file(s), 0 media file(s), 0 artifact file(s) and 0 other file(s)"
      ],
      "text/plain": [
       "<IPython.core.display.HTML object>"
      ]
     },
     "metadata": {},
     "output_type": "display_data"
    },
    {
     "data": {
      "text/html": [
       "Find logs at: <code>./wandb/run-20240415_195653-nzae6agh/logs</code>"
      ],
      "text/plain": [
       "<IPython.core.display.HTML object>"
      ]
     },
     "metadata": {},
     "output_type": "display_data"
    },
    {
     "data": {
      "application/vnd.jupyter.widget-view+json": {
       "model_id": "0e475f7940714d5bb61eaa1560a62c7b",
       "version_major": 2,
       "version_minor": 0
      },
      "text/plain": [
       "VBox(children=(Label(value='Waiting for wandb.init()...\\r'), FloatProgress(value=0.011128287500469014, max=1.0…"
      ]
     },
     "metadata": {},
     "output_type": "display_data"
    },
    {
     "data": {
      "text/html": [
       "Tracking run with wandb version 0.16.6"
      ],
      "text/plain": [
       "<IPython.core.display.HTML object>"
      ]
     },
     "metadata": {},
     "output_type": "display_data"
    },
    {
     "data": {
      "text/html": [
       "Run data is saved locally in <code>/Users/khush24shah/Desktop/Main/IITGN/SEM - 2/ML/assignment-4-ml-team-students-ensemble/wandb/run-20240415_195708-ugimmxxk</code>"
      ],
      "text/plain": [
       "<IPython.core.display.HTML object>"
      ]
     },
     "metadata": {},
     "output_type": "display_data"
    },
    {
     "data": {
      "text/html": [
       "Syncing run <strong><a href='https://wandb.ai/khush24shah/Assignment%204/runs/ugimmxxk' target=\"_blank\">kd_tree_n100_d100</a></strong> to <a href='https://wandb.ai/khush24shah/Assignment%204' target=\"_blank\">Weights & Biases</a> (<a href='https://wandb.me/run' target=\"_blank\">docs</a>)<br/>"
      ],
      "text/plain": [
       "<IPython.core.display.HTML object>"
      ]
     },
     "metadata": {},
     "output_type": "display_data"
    },
    {
     "data": {
      "text/html": [
       " View project at <a href='https://wandb.ai/khush24shah/Assignment%204' target=\"_blank\">https://wandb.ai/khush24shah/Assignment%204</a>"
      ],
      "text/plain": [
       "<IPython.core.display.HTML object>"
      ]
     },
     "metadata": {},
     "output_type": "display_data"
    },
    {
     "data": {
      "text/html": [
       " View run at <a href='https://wandb.ai/khush24shah/Assignment%204/runs/ugimmxxk' target=\"_blank\">https://wandb.ai/khush24shah/Assignment%204/runs/ugimmxxk</a>"
      ],
      "text/plain": [
       "<IPython.core.display.HTML object>"
      ]
     },
     "metadata": {},
     "output_type": "display_data"
    },
    {
     "data": {
      "application/vnd.jupyter.widget-view+json": {
       "model_id": "c654806ad69f42aba456226ea7dabef2",
       "version_major": 2,
       "version_minor": 0
      },
      "text/plain": [
       "VBox(children=(Label(value='0.001 MB of 0.033 MB uploaded\\r'), FloatProgress(value=0.03043217115236107, max=1.…"
      ]
     },
     "metadata": {},
     "output_type": "display_data"
    },
    {
     "data": {
      "text/html": [
       "<style>\n",
       "    table.wandb td:nth-child(1) { padding: 0 10px; text-align: left ; width: auto;} td:nth-child(2) {text-align: left ; width: 100%}\n",
       "    .wandb-row { display: flex; flex-direction: row; flex-wrap: wrap; justify-content: flex-start; width: 100% }\n",
       "    .wandb-col { display: flex; flex-direction: column; flex-basis: 100%; flex: 1; padding: 10px; }\n",
       "    </style>\n",
       "<div class=\"wandb-row\"><div class=\"wandb-col\"><h3>Run history:</h3><br/><table class=\"wandb\"><tr><td>d</td><td>▁</td></tr><tr><td>fitting_time</td><td>▁</td></tr><tr><td>memory</td><td>▁</td></tr><tr><td>n</td><td>▁</td></tr><tr><td>pred_time</td><td>▁</td></tr></table><br/></div><div class=\"wandb-col\"><h3>Run summary:</h3><br/><table class=\"wandb\"><tr><td>d</td><td>100</td></tr><tr><td>fitting_time</td><td>0.00015</td></tr><tr><td>memory</td><td>56.0</td></tr><tr><td>method</td><td>kd_tree</td></tr><tr><td>n</td><td>100</td></tr><tr><td>pred_time</td><td>0.00981</td></tr></table><br/></div></div>"
      ],
      "text/plain": [
       "<IPython.core.display.HTML object>"
      ]
     },
     "metadata": {},
     "output_type": "display_data"
    },
    {
     "data": {
      "text/html": [
       " View run <strong style=\"color:#cdcd00\">kd_tree_n100_d100</strong> at: <a href='https://wandb.ai/khush24shah/Assignment%204/runs/ugimmxxk' target=\"_blank\">https://wandb.ai/khush24shah/Assignment%204/runs/ugimmxxk</a><br/> View project at: <a href='https://wandb.ai/khush24shah/Assignment%204' target=\"_blank\">https://wandb.ai/khush24shah/Assignment%204</a><br/>Synced 5 W&B file(s), 0 media file(s), 0 artifact file(s) and 0 other file(s)"
      ],
      "text/plain": [
       "<IPython.core.display.HTML object>"
      ]
     },
     "metadata": {},
     "output_type": "display_data"
    },
    {
     "data": {
      "text/html": [
       "Find logs at: <code>./wandb/run-20240415_195708-ugimmxxk/logs</code>"
      ],
      "text/plain": [
       "<IPython.core.display.HTML object>"
      ]
     },
     "metadata": {},
     "output_type": "display_data"
    },
    {
     "data": {
      "application/vnd.jupyter.widget-view+json": {
       "model_id": "cb22d725c70540dfb602a58eceecc2aa",
       "version_major": 2,
       "version_minor": 0
      },
      "text/plain": [
       "VBox(children=(Label(value='Waiting for wandb.init()...\\r'), FloatProgress(value=0.011167405556059546, max=1.0…"
      ]
     },
     "metadata": {},
     "output_type": "display_data"
    },
    {
     "data": {
      "text/html": [
       "Tracking run with wandb version 0.16.6"
      ],
      "text/plain": [
       "<IPython.core.display.HTML object>"
      ]
     },
     "metadata": {},
     "output_type": "display_data"
    },
    {
     "data": {
      "text/html": [
       "Run data is saved locally in <code>/Users/khush24shah/Desktop/Main/IITGN/SEM - 2/ML/assignment-4-ml-team-students-ensemble/wandb/run-20240415_195723-vp2huxih</code>"
      ],
      "text/plain": [
       "<IPython.core.display.HTML object>"
      ]
     },
     "metadata": {},
     "output_type": "display_data"
    },
    {
     "data": {
      "text/html": [
       "Syncing run <strong><a href='https://wandb.ai/khush24shah/Assignment%204/runs/vp2huxih' target=\"_blank\">kd_tree_n100_d1000</a></strong> to <a href='https://wandb.ai/khush24shah/Assignment%204' target=\"_blank\">Weights & Biases</a> (<a href='https://wandb.me/run' target=\"_blank\">docs</a>)<br/>"
      ],
      "text/plain": [
       "<IPython.core.display.HTML object>"
      ]
     },
     "metadata": {},
     "output_type": "display_data"
    },
    {
     "data": {
      "text/html": [
       " View project at <a href='https://wandb.ai/khush24shah/Assignment%204' target=\"_blank\">https://wandb.ai/khush24shah/Assignment%204</a>"
      ],
      "text/plain": [
       "<IPython.core.display.HTML object>"
      ]
     },
     "metadata": {},
     "output_type": "display_data"
    },
    {
     "data": {
      "text/html": [
       " View run at <a href='https://wandb.ai/khush24shah/Assignment%204/runs/vp2huxih' target=\"_blank\">https://wandb.ai/khush24shah/Assignment%204/runs/vp2huxih</a>"
      ],
      "text/plain": [
       "<IPython.core.display.HTML object>"
      ]
     },
     "metadata": {},
     "output_type": "display_data"
    },
    {
     "data": {
      "application/vnd.jupyter.widget-view+json": {
       "model_id": "1dca533c906044cdb84f04b6fc6fe016",
       "version_major": 2,
       "version_minor": 0
      },
      "text/plain": [
       "VBox(children=(Label(value='0.001 MB of 0.033 MB uploaded\\r'), FloatProgress(value=0.03043217115236107, max=1.…"
      ]
     },
     "metadata": {},
     "output_type": "display_data"
    },
    {
     "data": {
      "text/html": [
       "<style>\n",
       "    table.wandb td:nth-child(1) { padding: 0 10px; text-align: left ; width: auto;} td:nth-child(2) {text-align: left ; width: 100%}\n",
       "    .wandb-row { display: flex; flex-direction: row; flex-wrap: wrap; justify-content: flex-start; width: 100% }\n",
       "    .wandb-col { display: flex; flex-direction: column; flex-basis: 100%; flex: 1; padding: 10px; }\n",
       "    </style>\n",
       "<div class=\"wandb-row\"><div class=\"wandb-col\"><h3>Run history:</h3><br/><table class=\"wandb\"><tr><td>d</td><td>▁</td></tr><tr><td>fitting_time</td><td>▁</td></tr><tr><td>memory</td><td>▁</td></tr><tr><td>n</td><td>▁</td></tr><tr><td>pred_time</td><td>▁</td></tr></table><br/></div><div class=\"wandb-col\"><h3>Run summary:</h3><br/><table class=\"wandb\"><tr><td>d</td><td>1000</td></tr><tr><td>fitting_time</td><td>0.00028</td></tr><tr><td>memory</td><td>56.0</td></tr><tr><td>method</td><td>kd_tree</td></tr><tr><td>n</td><td>100</td></tr><tr><td>pred_time</td><td>0.01069</td></tr></table><br/></div></div>"
      ],
      "text/plain": [
       "<IPython.core.display.HTML object>"
      ]
     },
     "metadata": {},
     "output_type": "display_data"
    },
    {
     "data": {
      "text/html": [
       " View run <strong style=\"color:#cdcd00\">kd_tree_n100_d1000</strong> at: <a href='https://wandb.ai/khush24shah/Assignment%204/runs/vp2huxih' target=\"_blank\">https://wandb.ai/khush24shah/Assignment%204/runs/vp2huxih</a><br/> View project at: <a href='https://wandb.ai/khush24shah/Assignment%204' target=\"_blank\">https://wandb.ai/khush24shah/Assignment%204</a><br/>Synced 5 W&B file(s), 0 media file(s), 0 artifact file(s) and 0 other file(s)"
      ],
      "text/plain": [
       "<IPython.core.display.HTML object>"
      ]
     },
     "metadata": {},
     "output_type": "display_data"
    },
    {
     "data": {
      "text/html": [
       "Find logs at: <code>./wandb/run-20240415_195723-vp2huxih/logs</code>"
      ],
      "text/plain": [
       "<IPython.core.display.HTML object>"
      ]
     },
     "metadata": {},
     "output_type": "display_data"
    },
    {
     "data": {
      "application/vnd.jupyter.widget-view+json": {
       "model_id": "70cb9fd4c6da421a85bdfb8555c58c10",
       "version_major": 2,
       "version_minor": 0
      },
      "text/plain": [
       "VBox(children=(Label(value='Waiting for wandb.init()...\\r'), FloatProgress(value=0.01116864676716634, max=1.0)…"
      ]
     },
     "metadata": {},
     "output_type": "display_data"
    },
    {
     "data": {
      "text/html": [
       "Tracking run with wandb version 0.16.6"
      ],
      "text/plain": [
       "<IPython.core.display.HTML object>"
      ]
     },
     "metadata": {},
     "output_type": "display_data"
    },
    {
     "data": {
      "text/html": [
       "Run data is saved locally in <code>/Users/khush24shah/Desktop/Main/IITGN/SEM - 2/ML/assignment-4-ml-team-students-ensemble/wandb/run-20240415_195738-ma4j9qpy</code>"
      ],
      "text/plain": [
       "<IPython.core.display.HTML object>"
      ]
     },
     "metadata": {},
     "output_type": "display_data"
    },
    {
     "data": {
      "text/html": [
       "Syncing run <strong><a href='https://wandb.ai/khush24shah/Assignment%204/runs/ma4j9qpy' target=\"_blank\">kd_tree_n1000_d2</a></strong> to <a href='https://wandb.ai/khush24shah/Assignment%204' target=\"_blank\">Weights & Biases</a> (<a href='https://wandb.me/run' target=\"_blank\">docs</a>)<br/>"
      ],
      "text/plain": [
       "<IPython.core.display.HTML object>"
      ]
     },
     "metadata": {},
     "output_type": "display_data"
    },
    {
     "data": {
      "text/html": [
       " View project at <a href='https://wandb.ai/khush24shah/Assignment%204' target=\"_blank\">https://wandb.ai/khush24shah/Assignment%204</a>"
      ],
      "text/plain": [
       "<IPython.core.display.HTML object>"
      ]
     },
     "metadata": {},
     "output_type": "display_data"
    },
    {
     "data": {
      "text/html": [
       " View run at <a href='https://wandb.ai/khush24shah/Assignment%204/runs/ma4j9qpy' target=\"_blank\">https://wandb.ai/khush24shah/Assignment%204/runs/ma4j9qpy</a>"
      ],
      "text/plain": [
       "<IPython.core.display.HTML object>"
      ]
     },
     "metadata": {},
     "output_type": "display_data"
    },
    {
     "data": {
      "application/vnd.jupyter.widget-view+json": {
       "model_id": "edeefae0a5884459b349b53a524a941f",
       "version_major": 2,
       "version_minor": 0
      },
      "text/plain": [
       "VBox(children=(Label(value='0.010 MB of 0.033 MB uploaded\\r'), FloatProgress(value=0.3086868224593118, max=1.0…"
      ]
     },
     "metadata": {},
     "output_type": "display_data"
    },
    {
     "data": {
      "text/html": [
       "<style>\n",
       "    table.wandb td:nth-child(1) { padding: 0 10px; text-align: left ; width: auto;} td:nth-child(2) {text-align: left ; width: 100%}\n",
       "    .wandb-row { display: flex; flex-direction: row; flex-wrap: wrap; justify-content: flex-start; width: 100% }\n",
       "    .wandb-col { display: flex; flex-direction: column; flex-basis: 100%; flex: 1; padding: 10px; }\n",
       "    </style>\n",
       "<div class=\"wandb-row\"><div class=\"wandb-col\"><h3>Run history:</h3><br/><table class=\"wandb\"><tr><td>d</td><td>▁</td></tr><tr><td>fitting_time</td><td>▁</td></tr><tr><td>memory</td><td>▁</td></tr><tr><td>n</td><td>▁</td></tr><tr><td>pred_time</td><td>▁</td></tr></table><br/></div><div class=\"wandb-col\"><h3>Run summary:</h3><br/><table class=\"wandb\"><tr><td>d</td><td>2</td></tr><tr><td>fitting_time</td><td>0.00028</td></tr><tr><td>memory</td><td>56.0</td></tr><tr><td>method</td><td>kd_tree</td></tr><tr><td>n</td><td>1000</td></tr><tr><td>pred_time</td><td>0.09975</td></tr></table><br/></div></div>"
      ],
      "text/plain": [
       "<IPython.core.display.HTML object>"
      ]
     },
     "metadata": {},
     "output_type": "display_data"
    },
    {
     "data": {
      "text/html": [
       " View run <strong style=\"color:#cdcd00\">kd_tree_n1000_d2</strong> at: <a href='https://wandb.ai/khush24shah/Assignment%204/runs/ma4j9qpy' target=\"_blank\">https://wandb.ai/khush24shah/Assignment%204/runs/ma4j9qpy</a><br/> View project at: <a href='https://wandb.ai/khush24shah/Assignment%204' target=\"_blank\">https://wandb.ai/khush24shah/Assignment%204</a><br/>Synced 5 W&B file(s), 0 media file(s), 0 artifact file(s) and 0 other file(s)"
      ],
      "text/plain": [
       "<IPython.core.display.HTML object>"
      ]
     },
     "metadata": {},
     "output_type": "display_data"
    },
    {
     "data": {
      "text/html": [
       "Find logs at: <code>./wandb/run-20240415_195738-ma4j9qpy/logs</code>"
      ],
      "text/plain": [
       "<IPython.core.display.HTML object>"
      ]
     },
     "metadata": {},
     "output_type": "display_data"
    },
    {
     "data": {
      "application/vnd.jupyter.widget-view+json": {
       "model_id": "99dc9d477f3b4168a8d0054e52034354",
       "version_major": 2,
       "version_minor": 0
      },
      "text/plain": [
       "VBox(children=(Label(value='Waiting for wandb.init()...\\r'), FloatProgress(value=0.011134201844429804, max=1.0…"
      ]
     },
     "metadata": {},
     "output_type": "display_data"
    },
    {
     "data": {
      "text/html": [
       "Tracking run with wandb version 0.16.6"
      ],
      "text/plain": [
       "<IPython.core.display.HTML object>"
      ]
     },
     "metadata": {},
     "output_type": "display_data"
    },
    {
     "data": {
      "text/html": [
       "Run data is saved locally in <code>/Users/khush24shah/Desktop/Main/IITGN/SEM - 2/ML/assignment-4-ml-team-students-ensemble/wandb/run-20240415_195753-u3wx2o1s</code>"
      ],
      "text/plain": [
       "<IPython.core.display.HTML object>"
      ]
     },
     "metadata": {},
     "output_type": "display_data"
    },
    {
     "data": {
      "text/html": [
       "Syncing run <strong><a href='https://wandb.ai/khush24shah/Assignment%204/runs/u3wx2o1s' target=\"_blank\">kd_tree_n1000_d10</a></strong> to <a href='https://wandb.ai/khush24shah/Assignment%204' target=\"_blank\">Weights & Biases</a> (<a href='https://wandb.me/run' target=\"_blank\">docs</a>)<br/>"
      ],
      "text/plain": [
       "<IPython.core.display.HTML object>"
      ]
     },
     "metadata": {},
     "output_type": "display_data"
    },
    {
     "data": {
      "text/html": [
       " View project at <a href='https://wandb.ai/khush24shah/Assignment%204' target=\"_blank\">https://wandb.ai/khush24shah/Assignment%204</a>"
      ],
      "text/plain": [
       "<IPython.core.display.HTML object>"
      ]
     },
     "metadata": {},
     "output_type": "display_data"
    },
    {
     "data": {
      "text/html": [
       " View run at <a href='https://wandb.ai/khush24shah/Assignment%204/runs/u3wx2o1s' target=\"_blank\">https://wandb.ai/khush24shah/Assignment%204/runs/u3wx2o1s</a>"
      ],
      "text/plain": [
       "<IPython.core.display.HTML object>"
      ]
     },
     "metadata": {},
     "output_type": "display_data"
    },
    {
     "data": {
      "application/vnd.jupyter.widget-view+json": {
       "model_id": "68de84531d9f4060a802f8f816c03aeb",
       "version_major": 2,
       "version_minor": 0
      },
      "text/plain": [
       "VBox(children=(Label(value='0.001 MB of 0.033 MB uploaded\\r'), FloatProgress(value=0.030433912073453275, max=1…"
      ]
     },
     "metadata": {},
     "output_type": "display_data"
    },
    {
     "data": {
      "text/html": [
       "<style>\n",
       "    table.wandb td:nth-child(1) { padding: 0 10px; text-align: left ; width: auto;} td:nth-child(2) {text-align: left ; width: 100%}\n",
       "    .wandb-row { display: flex; flex-direction: row; flex-wrap: wrap; justify-content: flex-start; width: 100% }\n",
       "    .wandb-col { display: flex; flex-direction: column; flex-basis: 100%; flex: 1; padding: 10px; }\n",
       "    </style>\n",
       "<div class=\"wandb-row\"><div class=\"wandb-col\"><h3>Run history:</h3><br/><table class=\"wandb\"><tr><td>d</td><td>▁</td></tr><tr><td>fitting_time</td><td>▁</td></tr><tr><td>memory</td><td>▁</td></tr><tr><td>n</td><td>▁</td></tr><tr><td>pred_time</td><td>▁</td></tr></table><br/></div><div class=\"wandb-col\"><h3>Run summary:</h3><br/><table class=\"wandb\"><tr><td>d</td><td>10</td></tr><tr><td>fitting_time</td><td>0.00027</td></tr><tr><td>memory</td><td>56.0</td></tr><tr><td>method</td><td>kd_tree</td></tr><tr><td>n</td><td>1000</td></tr><tr><td>pred_time</td><td>0.0992</td></tr></table><br/></div></div>"
      ],
      "text/plain": [
       "<IPython.core.display.HTML object>"
      ]
     },
     "metadata": {},
     "output_type": "display_data"
    },
    {
     "data": {
      "text/html": [
       " View run <strong style=\"color:#cdcd00\">kd_tree_n1000_d10</strong> at: <a href='https://wandb.ai/khush24shah/Assignment%204/runs/u3wx2o1s' target=\"_blank\">https://wandb.ai/khush24shah/Assignment%204/runs/u3wx2o1s</a><br/> View project at: <a href='https://wandb.ai/khush24shah/Assignment%204' target=\"_blank\">https://wandb.ai/khush24shah/Assignment%204</a><br/>Synced 5 W&B file(s), 0 media file(s), 0 artifact file(s) and 0 other file(s)"
      ],
      "text/plain": [
       "<IPython.core.display.HTML object>"
      ]
     },
     "metadata": {},
     "output_type": "display_data"
    },
    {
     "data": {
      "text/html": [
       "Find logs at: <code>./wandb/run-20240415_195753-u3wx2o1s/logs</code>"
      ],
      "text/plain": [
       "<IPython.core.display.HTML object>"
      ]
     },
     "metadata": {},
     "output_type": "display_data"
    },
    {
     "data": {
      "application/vnd.jupyter.widget-view+json": {
       "model_id": "7dca67b5880c4c9b88b67a23fe972fa9",
       "version_major": 2,
       "version_minor": 0
      },
      "text/plain": [
       "VBox(children=(Label(value='Waiting for wandb.init()...\\r'), FloatProgress(value=0.011167283799861455, max=1.0…"
      ]
     },
     "metadata": {},
     "output_type": "display_data"
    },
    {
     "data": {
      "text/html": [
       "Tracking run with wandb version 0.16.6"
      ],
      "text/plain": [
       "<IPython.core.display.HTML object>"
      ]
     },
     "metadata": {},
     "output_type": "display_data"
    },
    {
     "data": {
      "text/html": [
       "Run data is saved locally in <code>/Users/khush24shah/Desktop/Main/IITGN/SEM - 2/ML/assignment-4-ml-team-students-ensemble/wandb/run-20240415_195808-f5yjxswv</code>"
      ],
      "text/plain": [
       "<IPython.core.display.HTML object>"
      ]
     },
     "metadata": {},
     "output_type": "display_data"
    },
    {
     "data": {
      "text/html": [
       "Syncing run <strong><a href='https://wandb.ai/khush24shah/Assignment%204/runs/f5yjxswv' target=\"_blank\">kd_tree_n1000_d100</a></strong> to <a href='https://wandb.ai/khush24shah/Assignment%204' target=\"_blank\">Weights & Biases</a> (<a href='https://wandb.me/run' target=\"_blank\">docs</a>)<br/>"
      ],
      "text/plain": [
       "<IPython.core.display.HTML object>"
      ]
     },
     "metadata": {},
     "output_type": "display_data"
    },
    {
     "data": {
      "text/html": [
       " View project at <a href='https://wandb.ai/khush24shah/Assignment%204' target=\"_blank\">https://wandb.ai/khush24shah/Assignment%204</a>"
      ],
      "text/plain": [
       "<IPython.core.display.HTML object>"
      ]
     },
     "metadata": {},
     "output_type": "display_data"
    },
    {
     "data": {
      "text/html": [
       " View run at <a href='https://wandb.ai/khush24shah/Assignment%204/runs/f5yjxswv' target=\"_blank\">https://wandb.ai/khush24shah/Assignment%204/runs/f5yjxswv</a>"
      ],
      "text/plain": [
       "<IPython.core.display.HTML object>"
      ]
     },
     "metadata": {},
     "output_type": "display_data"
    },
    {
     "data": {
      "application/vnd.jupyter.widget-view+json": {
       "model_id": "1faa390fdddb43aa90e2bfcb38c28a9f",
       "version_major": 2,
       "version_minor": 0
      },
      "text/plain": [
       "VBox(children=(Label(value='0.001 MB of 0.033 MB uploaded\\r'), FloatProgress(value=0.030404439105314342, max=1…"
      ]
     },
     "metadata": {},
     "output_type": "display_data"
    },
    {
     "data": {
      "text/html": [
       "<style>\n",
       "    table.wandb td:nth-child(1) { padding: 0 10px; text-align: left ; width: auto;} td:nth-child(2) {text-align: left ; width: 100%}\n",
       "    .wandb-row { display: flex; flex-direction: row; flex-wrap: wrap; justify-content: flex-start; width: 100% }\n",
       "    .wandb-col { display: flex; flex-direction: column; flex-basis: 100%; flex: 1; padding: 10px; }\n",
       "    </style>\n",
       "<div class=\"wandb-row\"><div class=\"wandb-col\"><h3>Run history:</h3><br/><table class=\"wandb\"><tr><td>d</td><td>▁</td></tr><tr><td>fitting_time</td><td>▁</td></tr><tr><td>memory</td><td>▁</td></tr><tr><td>n</td><td>▁</td></tr><tr><td>pred_time</td><td>▁</td></tr></table><br/></div><div class=\"wandb-col\"><h3>Run summary:</h3><br/><table class=\"wandb\"><tr><td>d</td><td>100</td></tr><tr><td>fitting_time</td><td>0.0004</td></tr><tr><td>memory</td><td>56.0</td></tr><tr><td>method</td><td>kd_tree</td></tr><tr><td>n</td><td>1000</td></tr><tr><td>pred_time</td><td>0.1125</td></tr></table><br/></div></div>"
      ],
      "text/plain": [
       "<IPython.core.display.HTML object>"
      ]
     },
     "metadata": {},
     "output_type": "display_data"
    },
    {
     "data": {
      "text/html": [
       " View run <strong style=\"color:#cdcd00\">kd_tree_n1000_d100</strong> at: <a href='https://wandb.ai/khush24shah/Assignment%204/runs/f5yjxswv' target=\"_blank\">https://wandb.ai/khush24shah/Assignment%204/runs/f5yjxswv</a><br/> View project at: <a href='https://wandb.ai/khush24shah/Assignment%204' target=\"_blank\">https://wandb.ai/khush24shah/Assignment%204</a><br/>Synced 5 W&B file(s), 0 media file(s), 0 artifact file(s) and 0 other file(s)"
      ],
      "text/plain": [
       "<IPython.core.display.HTML object>"
      ]
     },
     "metadata": {},
     "output_type": "display_data"
    },
    {
     "data": {
      "text/html": [
       "Find logs at: <code>./wandb/run-20240415_195808-f5yjxswv/logs</code>"
      ],
      "text/plain": [
       "<IPython.core.display.HTML object>"
      ]
     },
     "metadata": {},
     "output_type": "display_data"
    },
    {
     "data": {
      "application/vnd.jupyter.widget-view+json": {
       "model_id": "63036a646b7d4a5eae3bac655af0846e",
       "version_major": 2,
       "version_minor": 0
      },
      "text/plain": [
       "VBox(children=(Label(value='Waiting for wandb.init()...\\r'), FloatProgress(value=0.011167590278071455, max=1.0…"
      ]
     },
     "metadata": {},
     "output_type": "display_data"
    },
    {
     "data": {
      "text/html": [
       "Tracking run with wandb version 0.16.6"
      ],
      "text/plain": [
       "<IPython.core.display.HTML object>"
      ]
     },
     "metadata": {},
     "output_type": "display_data"
    },
    {
     "data": {
      "text/html": [
       "Run data is saved locally in <code>/Users/khush24shah/Desktop/Main/IITGN/SEM - 2/ML/assignment-4-ml-team-students-ensemble/wandb/run-20240415_195824-8bup22z6</code>"
      ],
      "text/plain": [
       "<IPython.core.display.HTML object>"
      ]
     },
     "metadata": {},
     "output_type": "display_data"
    },
    {
     "data": {
      "text/html": [
       "Syncing run <strong><a href='https://wandb.ai/khush24shah/Assignment%204/runs/8bup22z6' target=\"_blank\">kd_tree_n1000_d1000</a></strong> to <a href='https://wandb.ai/khush24shah/Assignment%204' target=\"_blank\">Weights & Biases</a> (<a href='https://wandb.me/run' target=\"_blank\">docs</a>)<br/>"
      ],
      "text/plain": [
       "<IPython.core.display.HTML object>"
      ]
     },
     "metadata": {},
     "output_type": "display_data"
    },
    {
     "data": {
      "text/html": [
       " View project at <a href='https://wandb.ai/khush24shah/Assignment%204' target=\"_blank\">https://wandb.ai/khush24shah/Assignment%204</a>"
      ],
      "text/plain": [
       "<IPython.core.display.HTML object>"
      ]
     },
     "metadata": {},
     "output_type": "display_data"
    },
    {
     "data": {
      "text/html": [
       " View run at <a href='https://wandb.ai/khush24shah/Assignment%204/runs/8bup22z6' target=\"_blank\">https://wandb.ai/khush24shah/Assignment%204/runs/8bup22z6</a>"
      ],
      "text/plain": [
       "<IPython.core.display.HTML object>"
      ]
     },
     "metadata": {},
     "output_type": "display_data"
    },
    {
     "data": {
      "application/vnd.jupyter.widget-view+json": {
       "model_id": "f25324c9a7be43ab884a91bdeec8254e",
       "version_major": 2,
       "version_minor": 0
      },
      "text/plain": [
       "VBox(children=(Label(value='0.001 MB of 0.033 MB uploaded\\r'), FloatProgress(value=0.040785973743671884, max=1…"
      ]
     },
     "metadata": {},
     "output_type": "display_data"
    },
    {
     "data": {
      "text/html": [
       "<style>\n",
       "    table.wandb td:nth-child(1) { padding: 0 10px; text-align: left ; width: auto;} td:nth-child(2) {text-align: left ; width: 100%}\n",
       "    .wandb-row { display: flex; flex-direction: row; flex-wrap: wrap; justify-content: flex-start; width: 100% }\n",
       "    .wandb-col { display: flex; flex-direction: column; flex-basis: 100%; flex: 1; padding: 10px; }\n",
       "    </style>\n",
       "<div class=\"wandb-row\"><div class=\"wandb-col\"><h3>Run history:</h3><br/><table class=\"wandb\"><tr><td>d</td><td>▁</td></tr><tr><td>fitting_time</td><td>▁</td></tr><tr><td>memory</td><td>▁</td></tr><tr><td>n</td><td>▁</td></tr><tr><td>pred_time</td><td>▁</td></tr></table><br/></div><div class=\"wandb-col\"><h3>Run summary:</h3><br/><table class=\"wandb\"><tr><td>d</td><td>1000</td></tr><tr><td>fitting_time</td><td>0.00226</td></tr><tr><td>memory</td><td>56.0</td></tr><tr><td>method</td><td>kd_tree</td></tr><tr><td>n</td><td>1000</td></tr><tr><td>pred_time</td><td>0.19773</td></tr></table><br/></div></div>"
      ],
      "text/plain": [
       "<IPython.core.display.HTML object>"
      ]
     },
     "metadata": {},
     "output_type": "display_data"
    },
    {
     "data": {
      "text/html": [
       " View run <strong style=\"color:#cdcd00\">kd_tree_n1000_d1000</strong> at: <a href='https://wandb.ai/khush24shah/Assignment%204/runs/8bup22z6' target=\"_blank\">https://wandb.ai/khush24shah/Assignment%204/runs/8bup22z6</a><br/> View project at: <a href='https://wandb.ai/khush24shah/Assignment%204' target=\"_blank\">https://wandb.ai/khush24shah/Assignment%204</a><br/>Synced 5 W&B file(s), 0 media file(s), 0 artifact file(s) and 0 other file(s)"
      ],
      "text/plain": [
       "<IPython.core.display.HTML object>"
      ]
     },
     "metadata": {},
     "output_type": "display_data"
    },
    {
     "data": {
      "text/html": [
       "Find logs at: <code>./wandb/run-20240415_195824-8bup22z6/logs</code>"
      ],
      "text/plain": [
       "<IPython.core.display.HTML object>"
      ]
     },
     "metadata": {},
     "output_type": "display_data"
    },
    {
     "data": {
      "application/vnd.jupyter.widget-view+json": {
       "model_id": "231619801c8b4d5fa852f59c3f34d6a3",
       "version_major": 2,
       "version_minor": 0
      },
      "text/plain": [
       "VBox(children=(Label(value='Waiting for wandb.init()...\\r'), FloatProgress(value=0.011145390744139958, max=1.0…"
      ]
     },
     "metadata": {},
     "output_type": "display_data"
    },
    {
     "data": {
      "text/html": [
       "Tracking run with wandb version 0.16.6"
      ],
      "text/plain": [
       "<IPython.core.display.HTML object>"
      ]
     },
     "metadata": {},
     "output_type": "display_data"
    },
    {
     "data": {
      "text/html": [
       "Run data is saved locally in <code>/Users/khush24shah/Desktop/Main/IITGN/SEM - 2/ML/assignment-4-ml-team-students-ensemble/wandb/run-20240415_195841-9tmy67er</code>"
      ],
      "text/plain": [
       "<IPython.core.display.HTML object>"
      ]
     },
     "metadata": {},
     "output_type": "display_data"
    },
    {
     "data": {
      "text/html": [
       "Syncing run <strong><a href='https://wandb.ai/khush24shah/Assignment%204/runs/9tmy67er' target=\"_blank\">kd_tree_n1000_d2</a></strong> to <a href='https://wandb.ai/khush24shah/Assignment%204' target=\"_blank\">Weights & Biases</a> (<a href='https://wandb.me/run' target=\"_blank\">docs</a>)<br/>"
      ],
      "text/plain": [
       "<IPython.core.display.HTML object>"
      ]
     },
     "metadata": {},
     "output_type": "display_data"
    },
    {
     "data": {
      "text/html": [
       " View project at <a href='https://wandb.ai/khush24shah/Assignment%204' target=\"_blank\">https://wandb.ai/khush24shah/Assignment%204</a>"
      ],
      "text/plain": [
       "<IPython.core.display.HTML object>"
      ]
     },
     "metadata": {},
     "output_type": "display_data"
    },
    {
     "data": {
      "text/html": [
       " View run at <a href='https://wandb.ai/khush24shah/Assignment%204/runs/9tmy67er' target=\"_blank\">https://wandb.ai/khush24shah/Assignment%204/runs/9tmy67er</a>"
      ],
      "text/plain": [
       "<IPython.core.display.HTML object>"
      ]
     },
     "metadata": {},
     "output_type": "display_data"
    },
    {
     "data": {
      "application/vnd.jupyter.widget-view+json": {
       "model_id": "298287e34792460bb451dc6661d0869b",
       "version_major": 2,
       "version_minor": 0
      },
      "text/plain": [
       "VBox(children=(Label(value='0.001 MB of 0.033 MB uploaded\\r'), FloatProgress(value=0.03043304158800984, max=1.…"
      ]
     },
     "metadata": {},
     "output_type": "display_data"
    },
    {
     "data": {
      "text/html": [
       "<style>\n",
       "    table.wandb td:nth-child(1) { padding: 0 10px; text-align: left ; width: auto;} td:nth-child(2) {text-align: left ; width: 100%}\n",
       "    .wandb-row { display: flex; flex-direction: row; flex-wrap: wrap; justify-content: flex-start; width: 100% }\n",
       "    .wandb-col { display: flex; flex-direction: column; flex-basis: 100%; flex: 1; padding: 10px; }\n",
       "    </style>\n",
       "<div class=\"wandb-row\"><div class=\"wandb-col\"><h3>Run history:</h3><br/><table class=\"wandb\"><tr><td>d</td><td>▁</td></tr><tr><td>fitting_time</td><td>▁</td></tr><tr><td>memory</td><td>▁</td></tr><tr><td>n</td><td>▁</td></tr><tr><td>pred_time</td><td>▁</td></tr></table><br/></div><div class=\"wandb-col\"><h3>Run summary:</h3><br/><table class=\"wandb\"><tr><td>d</td><td>2</td></tr><tr><td>fitting_time</td><td>0.00026</td></tr><tr><td>memory</td><td>56.0</td></tr><tr><td>method</td><td>kd_tree</td></tr><tr><td>n</td><td>1000</td></tr><tr><td>pred_time</td><td>0.101</td></tr></table><br/></div></div>"
      ],
      "text/plain": [
       "<IPython.core.display.HTML object>"
      ]
     },
     "metadata": {},
     "output_type": "display_data"
    },
    {
     "data": {
      "text/html": [
       " View run <strong style=\"color:#cdcd00\">kd_tree_n1000_d2</strong> at: <a href='https://wandb.ai/khush24shah/Assignment%204/runs/9tmy67er' target=\"_blank\">https://wandb.ai/khush24shah/Assignment%204/runs/9tmy67er</a><br/> View project at: <a href='https://wandb.ai/khush24shah/Assignment%204' target=\"_blank\">https://wandb.ai/khush24shah/Assignment%204</a><br/>Synced 5 W&B file(s), 0 media file(s), 0 artifact file(s) and 0 other file(s)"
      ],
      "text/plain": [
       "<IPython.core.display.HTML object>"
      ]
     },
     "metadata": {},
     "output_type": "display_data"
    },
    {
     "data": {
      "text/html": [
       "Find logs at: <code>./wandb/run-20240415_195841-9tmy67er/logs</code>"
      ],
      "text/plain": [
       "<IPython.core.display.HTML object>"
      ]
     },
     "metadata": {},
     "output_type": "display_data"
    },
    {
     "data": {
      "application/vnd.jupyter.widget-view+json": {
       "model_id": "36deff076a8247c09f94cbbc469724a3",
       "version_major": 2,
       "version_minor": 0
      },
      "text/plain": [
       "VBox(children=(Label(value='Waiting for wandb.init()...\\r'), FloatProgress(value=0.01114382546640829, max=1.0)…"
      ]
     },
     "metadata": {},
     "output_type": "display_data"
    },
    {
     "data": {
      "text/html": [
       "Tracking run with wandb version 0.16.6"
      ],
      "text/plain": [
       "<IPython.core.display.HTML object>"
      ]
     },
     "metadata": {},
     "output_type": "display_data"
    },
    {
     "data": {
      "text/html": [
       "Run data is saved locally in <code>/Users/khush24shah/Desktop/Main/IITGN/SEM - 2/ML/assignment-4-ml-team-students-ensemble/wandb/run-20240415_195856-cqbcswph</code>"
      ],
      "text/plain": [
       "<IPython.core.display.HTML object>"
      ]
     },
     "metadata": {},
     "output_type": "display_data"
    },
    {
     "data": {
      "text/html": [
       "Syncing run <strong><a href='https://wandb.ai/khush24shah/Assignment%204/runs/cqbcswph' target=\"_blank\">kd_tree_n1000_d10</a></strong> to <a href='https://wandb.ai/khush24shah/Assignment%204' target=\"_blank\">Weights & Biases</a> (<a href='https://wandb.me/run' target=\"_blank\">docs</a>)<br/>"
      ],
      "text/plain": [
       "<IPython.core.display.HTML object>"
      ]
     },
     "metadata": {},
     "output_type": "display_data"
    },
    {
     "data": {
      "text/html": [
       " View project at <a href='https://wandb.ai/khush24shah/Assignment%204' target=\"_blank\">https://wandb.ai/khush24shah/Assignment%204</a>"
      ],
      "text/plain": [
       "<IPython.core.display.HTML object>"
      ]
     },
     "metadata": {},
     "output_type": "display_data"
    },
    {
     "data": {
      "text/html": [
       " View run at <a href='https://wandb.ai/khush24shah/Assignment%204/runs/cqbcswph' target=\"_blank\">https://wandb.ai/khush24shah/Assignment%204/runs/cqbcswph</a>"
      ],
      "text/plain": [
       "<IPython.core.display.HTML object>"
      ]
     },
     "metadata": {},
     "output_type": "display_data"
    },
    {
     "data": {
      "application/vnd.jupyter.widget-view+json": {
       "model_id": "cec511808ba648c5ad40645c16a062ec",
       "version_major": 2,
       "version_minor": 0
      },
      "text/plain": [
       "VBox(children=(Label(value='0.001 MB of 0.001 MB uploaded\\r'), FloatProgress(value=1.0, max=1.0)))"
      ]
     },
     "metadata": {},
     "output_type": "display_data"
    },
    {
     "data": {
      "text/html": [
       "<style>\n",
       "    table.wandb td:nth-child(1) { padding: 0 10px; text-align: left ; width: auto;} td:nth-child(2) {text-align: left ; width: 100%}\n",
       "    .wandb-row { display: flex; flex-direction: row; flex-wrap: wrap; justify-content: flex-start; width: 100% }\n",
       "    .wandb-col { display: flex; flex-direction: column; flex-basis: 100%; flex: 1; padding: 10px; }\n",
       "    </style>\n",
       "<div class=\"wandb-row\"><div class=\"wandb-col\"><h3>Run history:</h3><br/><table class=\"wandb\"><tr><td>d</td><td>▁</td></tr><tr><td>fitting_time</td><td>▁</td></tr><tr><td>memory</td><td>▁</td></tr><tr><td>n</td><td>▁</td></tr><tr><td>pred_time</td><td>▁</td></tr></table><br/></div><div class=\"wandb-col\"><h3>Run summary:</h3><br/><table class=\"wandb\"><tr><td>d</td><td>10</td></tr><tr><td>fitting_time</td><td>0.00028</td></tr><tr><td>memory</td><td>56.0</td></tr><tr><td>method</td><td>kd_tree</td></tr><tr><td>n</td><td>1000</td></tr><tr><td>pred_time</td><td>0.09977</td></tr></table><br/></div></div>"
      ],
      "text/plain": [
       "<IPython.core.display.HTML object>"
      ]
     },
     "metadata": {},
     "output_type": "display_data"
    },
    {
     "data": {
      "text/html": [
       " View run <strong style=\"color:#cdcd00\">kd_tree_n1000_d10</strong> at: <a href='https://wandb.ai/khush24shah/Assignment%204/runs/cqbcswph' target=\"_blank\">https://wandb.ai/khush24shah/Assignment%204/runs/cqbcswph</a><br/> View project at: <a href='https://wandb.ai/khush24shah/Assignment%204' target=\"_blank\">https://wandb.ai/khush24shah/Assignment%204</a><br/>Synced 5 W&B file(s), 0 media file(s), 0 artifact file(s) and 0 other file(s)"
      ],
      "text/plain": [
       "<IPython.core.display.HTML object>"
      ]
     },
     "metadata": {},
     "output_type": "display_data"
    },
    {
     "data": {
      "text/html": [
       "Find logs at: <code>./wandb/run-20240415_195856-cqbcswph/logs</code>"
      ],
      "text/plain": [
       "<IPython.core.display.HTML object>"
      ]
     },
     "metadata": {},
     "output_type": "display_data"
    },
    {
     "data": {
      "application/vnd.jupyter.widget-view+json": {
       "model_id": "aec80f9e5fc64d1791ec8954e7b26dd5",
       "version_major": 2,
       "version_minor": 0
      },
      "text/plain": [
       "VBox(children=(Label(value='Waiting for wandb.init()...\\r'), FloatProgress(value=0.011146995833324682, max=1.0…"
      ]
     },
     "metadata": {},
     "output_type": "display_data"
    },
    {
     "data": {
      "text/html": [
       "Tracking run with wandb version 0.16.6"
      ],
      "text/plain": [
       "<IPython.core.display.HTML object>"
      ]
     },
     "metadata": {},
     "output_type": "display_data"
    },
    {
     "data": {
      "text/html": [
       "Run data is saved locally in <code>/Users/khush24shah/Desktop/Main/IITGN/SEM - 2/ML/assignment-4-ml-team-students-ensemble/wandb/run-20240415_195912-a9lsti2h</code>"
      ],
      "text/plain": [
       "<IPython.core.display.HTML object>"
      ]
     },
     "metadata": {},
     "output_type": "display_data"
    },
    {
     "data": {
      "text/html": [
       "Syncing run <strong><a href='https://wandb.ai/khush24shah/Assignment%204/runs/a9lsti2h' target=\"_blank\">kd_tree_n1000_d100</a></strong> to <a href='https://wandb.ai/khush24shah/Assignment%204' target=\"_blank\">Weights & Biases</a> (<a href='https://wandb.me/run' target=\"_blank\">docs</a>)<br/>"
      ],
      "text/plain": [
       "<IPython.core.display.HTML object>"
      ]
     },
     "metadata": {},
     "output_type": "display_data"
    },
    {
     "data": {
      "text/html": [
       " View project at <a href='https://wandb.ai/khush24shah/Assignment%204' target=\"_blank\">https://wandb.ai/khush24shah/Assignment%204</a>"
      ],
      "text/plain": [
       "<IPython.core.display.HTML object>"
      ]
     },
     "metadata": {},
     "output_type": "display_data"
    },
    {
     "data": {
      "text/html": [
       " View run at <a href='https://wandb.ai/khush24shah/Assignment%204/runs/a9lsti2h' target=\"_blank\">https://wandb.ai/khush24shah/Assignment%204/runs/a9lsti2h</a>"
      ],
      "text/plain": [
       "<IPython.core.display.HTML object>"
      ]
     },
     "metadata": {},
     "output_type": "display_data"
    },
    {
     "data": {
      "application/vnd.jupyter.widget-view+json": {
       "model_id": "307ed166f91046af9894247ac2363c6d",
       "version_major": 2,
       "version_minor": 0
      },
      "text/plain": [
       "VBox(children=(Label(value='0.001 MB of 0.033 MB uploaded\\r'), FloatProgress(value=0.03043217115236107, max=1.…"
      ]
     },
     "metadata": {},
     "output_type": "display_data"
    },
    {
     "data": {
      "text/html": [
       "<style>\n",
       "    table.wandb td:nth-child(1) { padding: 0 10px; text-align: left ; width: auto;} td:nth-child(2) {text-align: left ; width: 100%}\n",
       "    .wandb-row { display: flex; flex-direction: row; flex-wrap: wrap; justify-content: flex-start; width: 100% }\n",
       "    .wandb-col { display: flex; flex-direction: column; flex-basis: 100%; flex: 1; padding: 10px; }\n",
       "    </style>\n",
       "<div class=\"wandb-row\"><div class=\"wandb-col\"><h3>Run history:</h3><br/><table class=\"wandb\"><tr><td>d</td><td>▁</td></tr><tr><td>fitting_time</td><td>▁</td></tr><tr><td>memory</td><td>▁</td></tr><tr><td>n</td><td>▁</td></tr><tr><td>pred_time</td><td>▁</td></tr></table><br/></div><div class=\"wandb-col\"><h3>Run summary:</h3><br/><table class=\"wandb\"><tr><td>d</td><td>100</td></tr><tr><td>fitting_time</td><td>0.0004</td></tr><tr><td>memory</td><td>56.0</td></tr><tr><td>method</td><td>kd_tree</td></tr><tr><td>n</td><td>1000</td></tr><tr><td>pred_time</td><td>0.11355</td></tr></table><br/></div></div>"
      ],
      "text/plain": [
       "<IPython.core.display.HTML object>"
      ]
     },
     "metadata": {},
     "output_type": "display_data"
    },
    {
     "data": {
      "text/html": [
       " View run <strong style=\"color:#cdcd00\">kd_tree_n1000_d100</strong> at: <a href='https://wandb.ai/khush24shah/Assignment%204/runs/a9lsti2h' target=\"_blank\">https://wandb.ai/khush24shah/Assignment%204/runs/a9lsti2h</a><br/> View project at: <a href='https://wandb.ai/khush24shah/Assignment%204' target=\"_blank\">https://wandb.ai/khush24shah/Assignment%204</a><br/>Synced 5 W&B file(s), 0 media file(s), 0 artifact file(s) and 0 other file(s)"
      ],
      "text/plain": [
       "<IPython.core.display.HTML object>"
      ]
     },
     "metadata": {},
     "output_type": "display_data"
    },
    {
     "data": {
      "text/html": [
       "Find logs at: <code>./wandb/run-20240415_195912-a9lsti2h/logs</code>"
      ],
      "text/plain": [
       "<IPython.core.display.HTML object>"
      ]
     },
     "metadata": {},
     "output_type": "display_data"
    },
    {
     "data": {
      "application/vnd.jupyter.widget-view+json": {
       "model_id": "d11b554b743d4455bd90daa1b18d5c58",
       "version_major": 2,
       "version_minor": 0
      },
      "text/plain": [
       "VBox(children=(Label(value='Waiting for wandb.init()...\\r'), FloatProgress(value=0.011120443055794264, max=1.0…"
      ]
     },
     "metadata": {},
     "output_type": "display_data"
    },
    {
     "data": {
      "text/html": [
       "Tracking run with wandb version 0.16.6"
      ],
      "text/plain": [
       "<IPython.core.display.HTML object>"
      ]
     },
     "metadata": {},
     "output_type": "display_data"
    },
    {
     "data": {
      "text/html": [
       "Run data is saved locally in <code>/Users/khush24shah/Desktop/Main/IITGN/SEM - 2/ML/assignment-4-ml-team-students-ensemble/wandb/run-20240415_195927-1wxn82ma</code>"
      ],
      "text/plain": [
       "<IPython.core.display.HTML object>"
      ]
     },
     "metadata": {},
     "output_type": "display_data"
    },
    {
     "data": {
      "text/html": [
       "Syncing run <strong><a href='https://wandb.ai/khush24shah/Assignment%204/runs/1wxn82ma' target=\"_blank\">kd_tree_n1000_d1000</a></strong> to <a href='https://wandb.ai/khush24shah/Assignment%204' target=\"_blank\">Weights & Biases</a> (<a href='https://wandb.me/run' target=\"_blank\">docs</a>)<br/>"
      ],
      "text/plain": [
       "<IPython.core.display.HTML object>"
      ]
     },
     "metadata": {},
     "output_type": "display_data"
    },
    {
     "data": {
      "text/html": [
       " View project at <a href='https://wandb.ai/khush24shah/Assignment%204' target=\"_blank\">https://wandb.ai/khush24shah/Assignment%204</a>"
      ],
      "text/plain": [
       "<IPython.core.display.HTML object>"
      ]
     },
     "metadata": {},
     "output_type": "display_data"
    },
    {
     "data": {
      "text/html": [
       " View run at <a href='https://wandb.ai/khush24shah/Assignment%204/runs/1wxn82ma' target=\"_blank\">https://wandb.ai/khush24shah/Assignment%204/runs/1wxn82ma</a>"
      ],
      "text/plain": [
       "<IPython.core.display.HTML object>"
      ]
     },
     "metadata": {},
     "output_type": "display_data"
    },
    {
     "data": {
      "application/vnd.jupyter.widget-view+json": {
       "model_id": "e1e19290bca8496cab435729a1be00bd",
       "version_major": 2,
       "version_minor": 0
      },
      "text/plain": [
       "VBox(children=(Label(value='0.033 MB of 0.033 MB uploaded\\r'), FloatProgress(value=1.0, max=1.0)))"
      ]
     },
     "metadata": {},
     "output_type": "display_data"
    },
    {
     "data": {
      "text/html": [
       "<style>\n",
       "    table.wandb td:nth-child(1) { padding: 0 10px; text-align: left ; width: auto;} td:nth-child(2) {text-align: left ; width: 100%}\n",
       "    .wandb-row { display: flex; flex-direction: row; flex-wrap: wrap; justify-content: flex-start; width: 100% }\n",
       "    .wandb-col { display: flex; flex-direction: column; flex-basis: 100%; flex: 1; padding: 10px; }\n",
       "    </style>\n",
       "<div class=\"wandb-row\"><div class=\"wandb-col\"><h3>Run history:</h3><br/><table class=\"wandb\"><tr><td>d</td><td>▁</td></tr><tr><td>fitting_time</td><td>▁</td></tr><tr><td>memory</td><td>▁</td></tr><tr><td>n</td><td>▁</td></tr><tr><td>pred_time</td><td>▁</td></tr></table><br/></div><div class=\"wandb-col\"><h3>Run summary:</h3><br/><table class=\"wandb\"><tr><td>d</td><td>1000</td></tr><tr><td>fitting_time</td><td>0.00233</td></tr><tr><td>memory</td><td>56.0</td></tr><tr><td>method</td><td>kd_tree</td></tr><tr><td>n</td><td>1000</td></tr><tr><td>pred_time</td><td>0.20133</td></tr></table><br/></div></div>"
      ],
      "text/plain": [
       "<IPython.core.display.HTML object>"
      ]
     },
     "metadata": {},
     "output_type": "display_data"
    },
    {
     "data": {
      "text/html": [
       " View run <strong style=\"color:#cdcd00\">kd_tree_n1000_d1000</strong> at: <a href='https://wandb.ai/khush24shah/Assignment%204/runs/1wxn82ma' target=\"_blank\">https://wandb.ai/khush24shah/Assignment%204/runs/1wxn82ma</a><br/> View project at: <a href='https://wandb.ai/khush24shah/Assignment%204' target=\"_blank\">https://wandb.ai/khush24shah/Assignment%204</a><br/>Synced 5 W&B file(s), 0 media file(s), 0 artifact file(s) and 0 other file(s)"
      ],
      "text/plain": [
       "<IPython.core.display.HTML object>"
      ]
     },
     "metadata": {},
     "output_type": "display_data"
    },
    {
     "data": {
      "text/html": [
       "Find logs at: <code>./wandb/run-20240415_195927-1wxn82ma/logs</code>"
      ],
      "text/plain": [
       "<IPython.core.display.HTML object>"
      ]
     },
     "metadata": {},
     "output_type": "display_data"
    },
    {
     "data": {
      "text/html": [
       "Tracking run with wandb version 0.16.6"
      ],
      "text/plain": [
       "<IPython.core.display.HTML object>"
      ]
     },
     "metadata": {},
     "output_type": "display_data"
    },
    {
     "data": {
      "text/html": [
       "Run data is saved locally in <code>/Users/khush24shah/Desktop/Main/IITGN/SEM - 2/ML/assignment-4-ml-team-students-ensemble/wandb/run-20240415_195944-hysgedyb</code>"
      ],
      "text/plain": [
       "<IPython.core.display.HTML object>"
      ]
     },
     "metadata": {},
     "output_type": "display_data"
    },
    {
     "data": {
      "text/html": [
       "Syncing run <strong><a href='https://wandb.ai/khush24shah/Assignment%204/runs/hysgedyb' target=\"_blank\">lsh_n10_d2</a></strong> to <a href='https://wandb.ai/khush24shah/Assignment%204' target=\"_blank\">Weights & Biases</a> (<a href='https://wandb.me/run' target=\"_blank\">docs</a>)<br/>"
      ],
      "text/plain": [
       "<IPython.core.display.HTML object>"
      ]
     },
     "metadata": {},
     "output_type": "display_data"
    },
    {
     "data": {
      "text/html": [
       " View project at <a href='https://wandb.ai/khush24shah/Assignment%204' target=\"_blank\">https://wandb.ai/khush24shah/Assignment%204</a>"
      ],
      "text/plain": [
       "<IPython.core.display.HTML object>"
      ]
     },
     "metadata": {},
     "output_type": "display_data"
    },
    {
     "data": {
      "text/html": [
       " View run at <a href='https://wandb.ai/khush24shah/Assignment%204/runs/hysgedyb' target=\"_blank\">https://wandb.ai/khush24shah/Assignment%204/runs/hysgedyb</a>"
      ],
      "text/plain": [
       "<IPython.core.display.HTML object>"
      ]
     },
     "metadata": {},
     "output_type": "display_data"
    },
    {
     "data": {
      "application/vnd.jupyter.widget-view+json": {
       "model_id": "0cb9257dd1ee471e853ef5738d5001bb",
       "version_major": 2,
       "version_minor": 0
      },
      "text/plain": [
       "VBox(children=(Label(value='0.001 MB of 0.033 MB uploaded\\r'), FloatProgress(value=0.030411397837157406, max=1…"
      ]
     },
     "metadata": {},
     "output_type": "display_data"
    },
    {
     "data": {
      "text/html": [
       "<style>\n",
       "    table.wandb td:nth-child(1) { padding: 0 10px; text-align: left ; width: auto;} td:nth-child(2) {text-align: left ; width: 100%}\n",
       "    .wandb-row { display: flex; flex-direction: row; flex-wrap: wrap; justify-content: flex-start; width: 100% }\n",
       "    .wandb-col { display: flex; flex-direction: column; flex-basis: 100%; flex: 1; padding: 10px; }\n",
       "    </style>\n",
       "<div class=\"wandb-row\"><div class=\"wandb-col\"><h3>Run history:</h3><br/><table class=\"wandb\"><tr><td>d</td><td>▁</td></tr><tr><td>fitting_time</td><td>▁</td></tr><tr><td>memory</td><td>▁</td></tr><tr><td>n</td><td>▁</td></tr><tr><td>pred_time</td><td>▁</td></tr></table><br/></div><div class=\"wandb-col\"><h3>Run summary:</h3><br/><table class=\"wandb\"><tr><td>d</td><td>2</td></tr><tr><td>fitting_time</td><td>0.0001</td></tr><tr><td>memory</td><td>56.0</td></tr><tr><td>method</td><td>lsh</td></tr><tr><td>n</td><td>10</td></tr><tr><td>pred_time</td><td>0.00102</td></tr></table><br/></div></div>"
      ],
      "text/plain": [
       "<IPython.core.display.HTML object>"
      ]
     },
     "metadata": {},
     "output_type": "display_data"
    },
    {
     "data": {
      "text/html": [
       " View run <strong style=\"color:#cdcd00\">lsh_n10_d2</strong> at: <a href='https://wandb.ai/khush24shah/Assignment%204/runs/hysgedyb' target=\"_blank\">https://wandb.ai/khush24shah/Assignment%204/runs/hysgedyb</a><br/> View project at: <a href='https://wandb.ai/khush24shah/Assignment%204' target=\"_blank\">https://wandb.ai/khush24shah/Assignment%204</a><br/>Synced 5 W&B file(s), 0 media file(s), 0 artifact file(s) and 0 other file(s)"
      ],
      "text/plain": [
       "<IPython.core.display.HTML object>"
      ]
     },
     "metadata": {},
     "output_type": "display_data"
    },
    {
     "data": {
      "text/html": [
       "Find logs at: <code>./wandb/run-20240415_195944-hysgedyb/logs</code>"
      ],
      "text/plain": [
       "<IPython.core.display.HTML object>"
      ]
     },
     "metadata": {},
     "output_type": "display_data"
    },
    {
     "data": {
      "application/vnd.jupyter.widget-view+json": {
       "model_id": "4495f4c188f34e4d9181217595f2327a",
       "version_major": 2,
       "version_minor": 0
      },
      "text/plain": [
       "VBox(children=(Label(value='Waiting for wandb.init()...\\r'), FloatProgress(value=0.01115008425549604, max=1.0)…"
      ]
     },
     "metadata": {},
     "output_type": "display_data"
    },
    {
     "data": {
      "text/html": [
       "Tracking run with wandb version 0.16.6"
      ],
      "text/plain": [
       "<IPython.core.display.HTML object>"
      ]
     },
     "metadata": {},
     "output_type": "display_data"
    },
    {
     "data": {
      "text/html": [
       "Run data is saved locally in <code>/Users/khush24shah/Desktop/Main/IITGN/SEM - 2/ML/assignment-4-ml-team-students-ensemble/wandb/run-20240415_195958-goyghyew</code>"
      ],
      "text/plain": [
       "<IPython.core.display.HTML object>"
      ]
     },
     "metadata": {},
     "output_type": "display_data"
    },
    {
     "data": {
      "text/html": [
       "Syncing run <strong><a href='https://wandb.ai/khush24shah/Assignment%204/runs/goyghyew' target=\"_blank\">lsh_n10_d10</a></strong> to <a href='https://wandb.ai/khush24shah/Assignment%204' target=\"_blank\">Weights & Biases</a> (<a href='https://wandb.me/run' target=\"_blank\">docs</a>)<br/>"
      ],
      "text/plain": [
       "<IPython.core.display.HTML object>"
      ]
     },
     "metadata": {},
     "output_type": "display_data"
    },
    {
     "data": {
      "text/html": [
       " View project at <a href='https://wandb.ai/khush24shah/Assignment%204' target=\"_blank\">https://wandb.ai/khush24shah/Assignment%204</a>"
      ],
      "text/plain": [
       "<IPython.core.display.HTML object>"
      ]
     },
     "metadata": {},
     "output_type": "display_data"
    },
    {
     "data": {
      "text/html": [
       " View run at <a href='https://wandb.ai/khush24shah/Assignment%204/runs/goyghyew' target=\"_blank\">https://wandb.ai/khush24shah/Assignment%204/runs/goyghyew</a>"
      ],
      "text/plain": [
       "<IPython.core.display.HTML object>"
      ]
     },
     "metadata": {},
     "output_type": "display_data"
    },
    {
     "data": {
      "application/vnd.jupyter.widget-view+json": {
       "model_id": "01c839ef2a954c96abfdf9124f304ac5",
       "version_major": 2,
       "version_minor": 0
      },
      "text/plain": [
       "VBox(children=(Label(value='0.001 MB of 0.001 MB uploaded\\r'), FloatProgress(value=1.0, max=1.0)))"
      ]
     },
     "metadata": {},
     "output_type": "display_data"
    },
    {
     "data": {
      "text/html": [
       "<style>\n",
       "    table.wandb td:nth-child(1) { padding: 0 10px; text-align: left ; width: auto;} td:nth-child(2) {text-align: left ; width: 100%}\n",
       "    .wandb-row { display: flex; flex-direction: row; flex-wrap: wrap; justify-content: flex-start; width: 100% }\n",
       "    .wandb-col { display: flex; flex-direction: column; flex-basis: 100%; flex: 1; padding: 10px; }\n",
       "    </style>\n",
       "<div class=\"wandb-row\"><div class=\"wandb-col\"><h3>Run history:</h3><br/><table class=\"wandb\"><tr><td>d</td><td>▁</td></tr><tr><td>fitting_time</td><td>▁</td></tr><tr><td>memory</td><td>▁</td></tr><tr><td>n</td><td>▁</td></tr><tr><td>pred_time</td><td>▁</td></tr></table><br/></div><div class=\"wandb-col\"><h3>Run summary:</h3><br/><table class=\"wandb\"><tr><td>d</td><td>10</td></tr><tr><td>fitting_time</td><td>7e-05</td></tr><tr><td>memory</td><td>56.0</td></tr><tr><td>method</td><td>lsh</td></tr><tr><td>n</td><td>10</td></tr><tr><td>pred_time</td><td>0.00102</td></tr></table><br/></div></div>"
      ],
      "text/plain": [
       "<IPython.core.display.HTML object>"
      ]
     },
     "metadata": {},
     "output_type": "display_data"
    },
    {
     "data": {
      "text/html": [
       " View run <strong style=\"color:#cdcd00\">lsh_n10_d10</strong> at: <a href='https://wandb.ai/khush24shah/Assignment%204/runs/goyghyew' target=\"_blank\">https://wandb.ai/khush24shah/Assignment%204/runs/goyghyew</a><br/> View project at: <a href='https://wandb.ai/khush24shah/Assignment%204' target=\"_blank\">https://wandb.ai/khush24shah/Assignment%204</a><br/>Synced 5 W&B file(s), 0 media file(s), 0 artifact file(s) and 0 other file(s)"
      ],
      "text/plain": [
       "<IPython.core.display.HTML object>"
      ]
     },
     "metadata": {},
     "output_type": "display_data"
    },
    {
     "data": {
      "text/html": [
       "Find logs at: <code>./wandb/run-20240415_195958-goyghyew/logs</code>"
      ],
      "text/plain": [
       "<IPython.core.display.HTML object>"
      ]
     },
     "metadata": {},
     "output_type": "display_data"
    },
    {
     "data": {
      "application/vnd.jupyter.widget-view+json": {
       "model_id": "f3a98c09f7b74b8da008fb9f7785cc62",
       "version_major": 2,
       "version_minor": 0
      },
      "text/plain": [
       "VBox(children=(Label(value='Waiting for wandb.init()...\\r'), FloatProgress(value=0.011222892588961662, max=1.0…"
      ]
     },
     "metadata": {},
     "output_type": "display_data"
    },
    {
     "data": {
      "text/html": [
       "Tracking run with wandb version 0.16.6"
      ],
      "text/plain": [
       "<IPython.core.display.HTML object>"
      ]
     },
     "metadata": {},
     "output_type": "display_data"
    },
    {
     "data": {
      "text/html": [
       "Run data is saved locally in <code>/Users/khush24shah/Desktop/Main/IITGN/SEM - 2/ML/assignment-4-ml-team-students-ensemble/wandb/run-20240415_200014-xdvct671</code>"
      ],
      "text/plain": [
       "<IPython.core.display.HTML object>"
      ]
     },
     "metadata": {},
     "output_type": "display_data"
    },
    {
     "data": {
      "text/html": [
       "Syncing run <strong><a href='https://wandb.ai/khush24shah/Assignment%204/runs/xdvct671' target=\"_blank\">lsh_n10_d100</a></strong> to <a href='https://wandb.ai/khush24shah/Assignment%204' target=\"_blank\">Weights & Biases</a> (<a href='https://wandb.me/run' target=\"_blank\">docs</a>)<br/>"
      ],
      "text/plain": [
       "<IPython.core.display.HTML object>"
      ]
     },
     "metadata": {},
     "output_type": "display_data"
    },
    {
     "data": {
      "text/html": [
       " View project at <a href='https://wandb.ai/khush24shah/Assignment%204' target=\"_blank\">https://wandb.ai/khush24shah/Assignment%204</a>"
      ],
      "text/plain": [
       "<IPython.core.display.HTML object>"
      ]
     },
     "metadata": {},
     "output_type": "display_data"
    },
    {
     "data": {
      "text/html": [
       " View run at <a href='https://wandb.ai/khush24shah/Assignment%204/runs/xdvct671' target=\"_blank\">https://wandb.ai/khush24shah/Assignment%204/runs/xdvct671</a>"
      ],
      "text/plain": [
       "<IPython.core.display.HTML object>"
      ]
     },
     "metadata": {},
     "output_type": "display_data"
    },
    {
     "data": {
      "application/vnd.jupyter.widget-view+json": {
       "model_id": "b31521533d194747b89e2e402544245d",
       "version_major": 2,
       "version_minor": 0
      },
      "text/plain": [
       "VBox(children=(Label(value='0.001 MB of 0.033 MB uploaded\\r'), FloatProgress(value=0.030409657855589883, max=1…"
      ]
     },
     "metadata": {},
     "output_type": "display_data"
    },
    {
     "data": {
      "text/html": [
       "<style>\n",
       "    table.wandb td:nth-child(1) { padding: 0 10px; text-align: left ; width: auto;} td:nth-child(2) {text-align: left ; width: 100%}\n",
       "    .wandb-row { display: flex; flex-direction: row; flex-wrap: wrap; justify-content: flex-start; width: 100% }\n",
       "    .wandb-col { display: flex; flex-direction: column; flex-basis: 100%; flex: 1; padding: 10px; }\n",
       "    </style>\n",
       "<div class=\"wandb-row\"><div class=\"wandb-col\"><h3>Run history:</h3><br/><table class=\"wandb\"><tr><td>d</td><td>▁</td></tr><tr><td>fitting_time</td><td>▁</td></tr><tr><td>memory</td><td>▁</td></tr><tr><td>n</td><td>▁</td></tr><tr><td>pred_time</td><td>▁</td></tr></table><br/></div><div class=\"wandb-col\"><h3>Run summary:</h3><br/><table class=\"wandb\"><tr><td>d</td><td>100</td></tr><tr><td>fitting_time</td><td>9e-05</td></tr><tr><td>memory</td><td>56.0</td></tr><tr><td>method</td><td>lsh</td></tr><tr><td>n</td><td>10</td></tr><tr><td>pred_time</td><td>0.00106</td></tr></table><br/></div></div>"
      ],
      "text/plain": [
       "<IPython.core.display.HTML object>"
      ]
     },
     "metadata": {},
     "output_type": "display_data"
    },
    {
     "data": {
      "text/html": [
       " View run <strong style=\"color:#cdcd00\">lsh_n10_d100</strong> at: <a href='https://wandb.ai/khush24shah/Assignment%204/runs/xdvct671' target=\"_blank\">https://wandb.ai/khush24shah/Assignment%204/runs/xdvct671</a><br/> View project at: <a href='https://wandb.ai/khush24shah/Assignment%204' target=\"_blank\">https://wandb.ai/khush24shah/Assignment%204</a><br/>Synced 5 W&B file(s), 0 media file(s), 0 artifact file(s) and 0 other file(s)"
      ],
      "text/plain": [
       "<IPython.core.display.HTML object>"
      ]
     },
     "metadata": {},
     "output_type": "display_data"
    },
    {
     "data": {
      "text/html": [
       "Find logs at: <code>./wandb/run-20240415_200014-xdvct671/logs</code>"
      ],
      "text/plain": [
       "<IPython.core.display.HTML object>"
      ]
     },
     "metadata": {},
     "output_type": "display_data"
    },
    {
     "data": {
      "application/vnd.jupyter.widget-view+json": {
       "model_id": "7bfc19cbe7da4730a1ca90660f4dfebb",
       "version_major": 2,
       "version_minor": 0
      },
      "text/plain": [
       "VBox(children=(Label(value='Waiting for wandb.init()...\\r'), FloatProgress(value=0.011126645366635381, max=1.0…"
      ]
     },
     "metadata": {},
     "output_type": "display_data"
    },
    {
     "data": {
      "text/html": [
       "Tracking run with wandb version 0.16.6"
      ],
      "text/plain": [
       "<IPython.core.display.HTML object>"
      ]
     },
     "metadata": {},
     "output_type": "display_data"
    },
    {
     "data": {
      "text/html": [
       "Run data is saved locally in <code>/Users/khush24shah/Desktop/Main/IITGN/SEM - 2/ML/assignment-4-ml-team-students-ensemble/wandb/run-20240415_200028-ni0su5xa</code>"
      ],
      "text/plain": [
       "<IPython.core.display.HTML object>"
      ]
     },
     "metadata": {},
     "output_type": "display_data"
    },
    {
     "data": {
      "text/html": [
       "Syncing run <strong><a href='https://wandb.ai/khush24shah/Assignment%204/runs/ni0su5xa' target=\"_blank\">lsh_n10_d1000</a></strong> to <a href='https://wandb.ai/khush24shah/Assignment%204' target=\"_blank\">Weights & Biases</a> (<a href='https://wandb.me/run' target=\"_blank\">docs</a>)<br/>"
      ],
      "text/plain": [
       "<IPython.core.display.HTML object>"
      ]
     },
     "metadata": {},
     "output_type": "display_data"
    },
    {
     "data": {
      "text/html": [
       " View project at <a href='https://wandb.ai/khush24shah/Assignment%204' target=\"_blank\">https://wandb.ai/khush24shah/Assignment%204</a>"
      ],
      "text/plain": [
       "<IPython.core.display.HTML object>"
      ]
     },
     "metadata": {},
     "output_type": "display_data"
    },
    {
     "data": {
      "text/html": [
       " View run at <a href='https://wandb.ai/khush24shah/Assignment%204/runs/ni0su5xa' target=\"_blank\">https://wandb.ai/khush24shah/Assignment%204/runs/ni0su5xa</a>"
      ],
      "text/plain": [
       "<IPython.core.display.HTML object>"
      ]
     },
     "metadata": {},
     "output_type": "display_data"
    },
    {
     "data": {
      "application/vnd.jupyter.widget-view+json": {
       "model_id": "36ec0c64d97344f9bbc5bb0537766d0e",
       "version_major": 2,
       "version_minor": 0
      },
      "text/plain": [
       "VBox(children=(Label(value='0.001 MB of 0.033 MB uploaded\\r'), FloatProgress(value=0.030434782608695653, max=1…"
      ]
     },
     "metadata": {},
     "output_type": "display_data"
    },
    {
     "data": {
      "text/html": [
       "<style>\n",
       "    table.wandb td:nth-child(1) { padding: 0 10px; text-align: left ; width: auto;} td:nth-child(2) {text-align: left ; width: 100%}\n",
       "    .wandb-row { display: flex; flex-direction: row; flex-wrap: wrap; justify-content: flex-start; width: 100% }\n",
       "    .wandb-col { display: flex; flex-direction: column; flex-basis: 100%; flex: 1; padding: 10px; }\n",
       "    </style>\n",
       "<div class=\"wandb-row\"><div class=\"wandb-col\"><h3>Run history:</h3><br/><table class=\"wandb\"><tr><td>d</td><td>▁</td></tr><tr><td>fitting_time</td><td>▁</td></tr><tr><td>memory</td><td>▁</td></tr><tr><td>n</td><td>▁</td></tr><tr><td>pred_time</td><td>▁</td></tr></table><br/></div><div class=\"wandb-col\"><h3>Run summary:</h3><br/><table class=\"wandb\"><tr><td>d</td><td>1000</td></tr><tr><td>fitting_time</td><td>0.0001</td></tr><tr><td>memory</td><td>56.0</td></tr><tr><td>method</td><td>lsh</td></tr><tr><td>n</td><td>10</td></tr><tr><td>pred_time</td><td>0.00108</td></tr></table><br/></div></div>"
      ],
      "text/plain": [
       "<IPython.core.display.HTML object>"
      ]
     },
     "metadata": {},
     "output_type": "display_data"
    },
    {
     "data": {
      "text/html": [
       " View run <strong style=\"color:#cdcd00\">lsh_n10_d1000</strong> at: <a href='https://wandb.ai/khush24shah/Assignment%204/runs/ni0su5xa' target=\"_blank\">https://wandb.ai/khush24shah/Assignment%204/runs/ni0su5xa</a><br/> View project at: <a href='https://wandb.ai/khush24shah/Assignment%204' target=\"_blank\">https://wandb.ai/khush24shah/Assignment%204</a><br/>Synced 5 W&B file(s), 0 media file(s), 0 artifact file(s) and 0 other file(s)"
      ],
      "text/plain": [
       "<IPython.core.display.HTML object>"
      ]
     },
     "metadata": {},
     "output_type": "display_data"
    },
    {
     "data": {
      "text/html": [
       "Find logs at: <code>./wandb/run-20240415_200028-ni0su5xa/logs</code>"
      ],
      "text/plain": [
       "<IPython.core.display.HTML object>"
      ]
     },
     "metadata": {},
     "output_type": "display_data"
    },
    {
     "data": {
      "application/vnd.jupyter.widget-view+json": {
       "model_id": "44fc292e38b64a6a9bc0604df130adb7",
       "version_major": 2,
       "version_minor": 0
      },
      "text/plain": [
       "VBox(children=(Label(value='Waiting for wandb.init()...\\r'), FloatProgress(value=0.011209200466206918, max=1.0…"
      ]
     },
     "metadata": {},
     "output_type": "display_data"
    },
    {
     "data": {
      "text/html": [
       "Tracking run with wandb version 0.16.6"
      ],
      "text/plain": [
       "<IPython.core.display.HTML object>"
      ]
     },
     "metadata": {},
     "output_type": "display_data"
    },
    {
     "data": {
      "text/html": [
       "Run data is saved locally in <code>/Users/khush24shah/Desktop/Main/IITGN/SEM - 2/ML/assignment-4-ml-team-students-ensemble/wandb/run-20240415_200043-xhytrtav</code>"
      ],
      "text/plain": [
       "<IPython.core.display.HTML object>"
      ]
     },
     "metadata": {},
     "output_type": "display_data"
    },
    {
     "data": {
      "text/html": [
       "Syncing run <strong><a href='https://wandb.ai/khush24shah/Assignment%204/runs/xhytrtav' target=\"_blank\">lsh_n100_d2</a></strong> to <a href='https://wandb.ai/khush24shah/Assignment%204' target=\"_blank\">Weights & Biases</a> (<a href='https://wandb.me/run' target=\"_blank\">docs</a>)<br/>"
      ],
      "text/plain": [
       "<IPython.core.display.HTML object>"
      ]
     },
     "metadata": {},
     "output_type": "display_data"
    },
    {
     "data": {
      "text/html": [
       " View project at <a href='https://wandb.ai/khush24shah/Assignment%204' target=\"_blank\">https://wandb.ai/khush24shah/Assignment%204</a>"
      ],
      "text/plain": [
       "<IPython.core.display.HTML object>"
      ]
     },
     "metadata": {},
     "output_type": "display_data"
    },
    {
     "data": {
      "text/html": [
       " View run at <a href='https://wandb.ai/khush24shah/Assignment%204/runs/xhytrtav' target=\"_blank\">https://wandb.ai/khush24shah/Assignment%204/runs/xhytrtav</a>"
      ],
      "text/plain": [
       "<IPython.core.display.HTML object>"
      ]
     },
     "metadata": {},
     "output_type": "display_data"
    },
    {
     "data": {
      "application/vnd.jupyter.widget-view+json": {
       "model_id": "d49dd57ed81b4efc870f1132de7053aa",
       "version_major": 2,
       "version_minor": 0
      },
      "text/plain": [
       "VBox(children=(Label(value='0.001 MB of 0.033 MB uploaded\\r'), FloatProgress(value=0.030438265247740015, max=1…"
      ]
     },
     "metadata": {},
     "output_type": "display_data"
    },
    {
     "data": {
      "text/html": [
       "<style>\n",
       "    table.wandb td:nth-child(1) { padding: 0 10px; text-align: left ; width: auto;} td:nth-child(2) {text-align: left ; width: 100%}\n",
       "    .wandb-row { display: flex; flex-direction: row; flex-wrap: wrap; justify-content: flex-start; width: 100% }\n",
       "    .wandb-col { display: flex; flex-direction: column; flex-basis: 100%; flex: 1; padding: 10px; }\n",
       "    </style>\n",
       "<div class=\"wandb-row\"><div class=\"wandb-col\"><h3>Run history:</h3><br/><table class=\"wandb\"><tr><td>d</td><td>▁</td></tr><tr><td>fitting_time</td><td>▁</td></tr><tr><td>memory</td><td>▁</td></tr><tr><td>n</td><td>▁</td></tr><tr><td>pred_time</td><td>▁</td></tr></table><br/></div><div class=\"wandb-col\"><h3>Run summary:</h3><br/><table class=\"wandb\"><tr><td>d</td><td>2</td></tr><tr><td>fitting_time</td><td>0.0001</td></tr><tr><td>memory</td><td>56.0</td></tr><tr><td>method</td><td>lsh</td></tr><tr><td>n</td><td>100</td></tr><tr><td>pred_time</td><td>0.00969</td></tr></table><br/></div></div>"
      ],
      "text/plain": [
       "<IPython.core.display.HTML object>"
      ]
     },
     "metadata": {},
     "output_type": "display_data"
    },
    {
     "data": {
      "text/html": [
       " View run <strong style=\"color:#cdcd00\">lsh_n100_d2</strong> at: <a href='https://wandb.ai/khush24shah/Assignment%204/runs/xhytrtav' target=\"_blank\">https://wandb.ai/khush24shah/Assignment%204/runs/xhytrtav</a><br/> View project at: <a href='https://wandb.ai/khush24shah/Assignment%204' target=\"_blank\">https://wandb.ai/khush24shah/Assignment%204</a><br/>Synced 5 W&B file(s), 0 media file(s), 0 artifact file(s) and 0 other file(s)"
      ],
      "text/plain": [
       "<IPython.core.display.HTML object>"
      ]
     },
     "metadata": {},
     "output_type": "display_data"
    },
    {
     "data": {
      "text/html": [
       "Find logs at: <code>./wandb/run-20240415_200043-xhytrtav/logs</code>"
      ],
      "text/plain": [
       "<IPython.core.display.HTML object>"
      ]
     },
     "metadata": {},
     "output_type": "display_data"
    },
    {
     "data": {
      "text/html": [
       "Tracking run with wandb version 0.16.6"
      ],
      "text/plain": [
       "<IPython.core.display.HTML object>"
      ]
     },
     "metadata": {},
     "output_type": "display_data"
    },
    {
     "data": {
      "text/html": [
       "Run data is saved locally in <code>/Users/khush24shah/Desktop/Main/IITGN/SEM - 2/ML/assignment-4-ml-team-students-ensemble/wandb/run-20240415_200057-beolicrq</code>"
      ],
      "text/plain": [
       "<IPython.core.display.HTML object>"
      ]
     },
     "metadata": {},
     "output_type": "display_data"
    },
    {
     "data": {
      "text/html": [
       "Syncing run <strong><a href='https://wandb.ai/khush24shah/Assignment%204/runs/beolicrq' target=\"_blank\">lsh_n100_d10</a></strong> to <a href='https://wandb.ai/khush24shah/Assignment%204' target=\"_blank\">Weights & Biases</a> (<a href='https://wandb.me/run' target=\"_blank\">docs</a>)<br/>"
      ],
      "text/plain": [
       "<IPython.core.display.HTML object>"
      ]
     },
     "metadata": {},
     "output_type": "display_data"
    },
    {
     "data": {
      "text/html": [
       " View project at <a href='https://wandb.ai/khush24shah/Assignment%204' target=\"_blank\">https://wandb.ai/khush24shah/Assignment%204</a>"
      ],
      "text/plain": [
       "<IPython.core.display.HTML object>"
      ]
     },
     "metadata": {},
     "output_type": "display_data"
    },
    {
     "data": {
      "text/html": [
       " View run at <a href='https://wandb.ai/khush24shah/Assignment%204/runs/beolicrq' target=\"_blank\">https://wandb.ai/khush24shah/Assignment%204/runs/beolicrq</a>"
      ],
      "text/plain": [
       "<IPython.core.display.HTML object>"
      ]
     },
     "metadata": {},
     "output_type": "display_data"
    },
    {
     "data": {
      "application/vnd.jupyter.widget-view+json": {
       "model_id": "768a9e788fd844ea8ff263f3890c5bf8",
       "version_major": 2,
       "version_minor": 0
      },
      "text/plain": [
       "VBox(children=(Label(value='0.001 MB of 0.033 MB uploaded\\r'), FloatProgress(value=0.030437394513259147, max=1…"
      ]
     },
     "metadata": {},
     "output_type": "display_data"
    },
    {
     "data": {
      "text/html": [
       "<style>\n",
       "    table.wandb td:nth-child(1) { padding: 0 10px; text-align: left ; width: auto;} td:nth-child(2) {text-align: left ; width: 100%}\n",
       "    .wandb-row { display: flex; flex-direction: row; flex-wrap: wrap; justify-content: flex-start; width: 100% }\n",
       "    .wandb-col { display: flex; flex-direction: column; flex-basis: 100%; flex: 1; padding: 10px; }\n",
       "    </style>\n",
       "<div class=\"wandb-row\"><div class=\"wandb-col\"><h3>Run history:</h3><br/><table class=\"wandb\"><tr><td>d</td><td>▁</td></tr><tr><td>fitting_time</td><td>▁</td></tr><tr><td>memory</td><td>▁</td></tr><tr><td>n</td><td>▁</td></tr><tr><td>pred_time</td><td>▁</td></tr></table><br/></div><div class=\"wandb-col\"><h3>Run summary:</h3><br/><table class=\"wandb\"><tr><td>d</td><td>10</td></tr><tr><td>fitting_time</td><td>0.0001</td></tr><tr><td>memory</td><td>56.0</td></tr><tr><td>method</td><td>lsh</td></tr><tr><td>n</td><td>100</td></tr><tr><td>pred_time</td><td>0.00945</td></tr></table><br/></div></div>"
      ],
      "text/plain": [
       "<IPython.core.display.HTML object>"
      ]
     },
     "metadata": {},
     "output_type": "display_data"
    },
    {
     "data": {
      "text/html": [
       " View run <strong style=\"color:#cdcd00\">lsh_n100_d10</strong> at: <a href='https://wandb.ai/khush24shah/Assignment%204/runs/beolicrq' target=\"_blank\">https://wandb.ai/khush24shah/Assignment%204/runs/beolicrq</a><br/> View project at: <a href='https://wandb.ai/khush24shah/Assignment%204' target=\"_blank\">https://wandb.ai/khush24shah/Assignment%204</a><br/>Synced 5 W&B file(s), 0 media file(s), 0 artifact file(s) and 0 other file(s)"
      ],
      "text/plain": [
       "<IPython.core.display.HTML object>"
      ]
     },
     "metadata": {},
     "output_type": "display_data"
    },
    {
     "data": {
      "text/html": [
       "Find logs at: <code>./wandb/run-20240415_200057-beolicrq/logs</code>"
      ],
      "text/plain": [
       "<IPython.core.display.HTML object>"
      ]
     },
     "metadata": {},
     "output_type": "display_data"
    },
    {
     "data": {
      "application/vnd.jupyter.widget-view+json": {
       "model_id": "c2314cd7eaa84c21aa3fd1d5be34b20d",
       "version_major": 2,
       "version_minor": 0
      },
      "text/plain": [
       "VBox(children=(Label(value='Waiting for wandb.init()...\\r'), FloatProgress(value=0.011180680555601915, max=1.0…"
      ]
     },
     "metadata": {},
     "output_type": "display_data"
    },
    {
     "data": {
      "text/html": [
       "Tracking run with wandb version 0.16.6"
      ],
      "text/plain": [
       "<IPython.core.display.HTML object>"
      ]
     },
     "metadata": {},
     "output_type": "display_data"
    },
    {
     "data": {
      "text/html": [
       "Run data is saved locally in <code>/Users/khush24shah/Desktop/Main/IITGN/SEM - 2/ML/assignment-4-ml-team-students-ensemble/wandb/run-20240415_200111-s0xd22fb</code>"
      ],
      "text/plain": [
       "<IPython.core.display.HTML object>"
      ]
     },
     "metadata": {},
     "output_type": "display_data"
    },
    {
     "data": {
      "text/html": [
       "Syncing run <strong><a href='https://wandb.ai/khush24shah/Assignment%204/runs/s0xd22fb' target=\"_blank\">lsh_n100_d100</a></strong> to <a href='https://wandb.ai/khush24shah/Assignment%204' target=\"_blank\">Weights & Biases</a> (<a href='https://wandb.me/run' target=\"_blank\">docs</a>)<br/>"
      ],
      "text/plain": [
       "<IPython.core.display.HTML object>"
      ]
     },
     "metadata": {},
     "output_type": "display_data"
    },
    {
     "data": {
      "text/html": [
       " View project at <a href='https://wandb.ai/khush24shah/Assignment%204' target=\"_blank\">https://wandb.ai/khush24shah/Assignment%204</a>"
      ],
      "text/plain": [
       "<IPython.core.display.HTML object>"
      ]
     },
     "metadata": {},
     "output_type": "display_data"
    },
    {
     "data": {
      "text/html": [
       " View run at <a href='https://wandb.ai/khush24shah/Assignment%204/runs/s0xd22fb' target=\"_blank\">https://wandb.ai/khush24shah/Assignment%204/runs/s0xd22fb</a>"
      ],
      "text/plain": [
       "<IPython.core.display.HTML object>"
      ]
     },
     "metadata": {},
     "output_type": "display_data"
    },
    {
     "data": {
      "application/vnd.jupyter.widget-view+json": {
       "model_id": "cd756902fe2b463687cfb28cf19fc2bd",
       "version_major": 2,
       "version_minor": 0
      },
      "text/plain": [
       "VBox(children=(Label(value='0.001 MB of 0.033 MB uploaded\\r'), FloatProgress(value=0.030434782608695653, max=1…"
      ]
     },
     "metadata": {},
     "output_type": "display_data"
    },
    {
     "data": {
      "text/html": [
       "<style>\n",
       "    table.wandb td:nth-child(1) { padding: 0 10px; text-align: left ; width: auto;} td:nth-child(2) {text-align: left ; width: 100%}\n",
       "    .wandb-row { display: flex; flex-direction: row; flex-wrap: wrap; justify-content: flex-start; width: 100% }\n",
       "    .wandb-col { display: flex; flex-direction: column; flex-basis: 100%; flex: 1; padding: 10px; }\n",
       "    </style>\n",
       "<div class=\"wandb-row\"><div class=\"wandb-col\"><h3>Run history:</h3><br/><table class=\"wandb\"><tr><td>d</td><td>▁</td></tr><tr><td>fitting_time</td><td>▁</td></tr><tr><td>memory</td><td>▁</td></tr><tr><td>n</td><td>▁</td></tr><tr><td>pred_time</td><td>▁</td></tr></table><br/></div><div class=\"wandb-col\"><h3>Run summary:</h3><br/><table class=\"wandb\"><tr><td>d</td><td>100</td></tr><tr><td>fitting_time</td><td>0.00014</td></tr><tr><td>memory</td><td>56.0</td></tr><tr><td>method</td><td>lsh</td></tr><tr><td>n</td><td>100</td></tr><tr><td>pred_time</td><td>0.00956</td></tr></table><br/></div></div>"
      ],
      "text/plain": [
       "<IPython.core.display.HTML object>"
      ]
     },
     "metadata": {},
     "output_type": "display_data"
    },
    {
     "data": {
      "text/html": [
       " View run <strong style=\"color:#cdcd00\">lsh_n100_d100</strong> at: <a href='https://wandb.ai/khush24shah/Assignment%204/runs/s0xd22fb' target=\"_blank\">https://wandb.ai/khush24shah/Assignment%204/runs/s0xd22fb</a><br/> View project at: <a href='https://wandb.ai/khush24shah/Assignment%204' target=\"_blank\">https://wandb.ai/khush24shah/Assignment%204</a><br/>Synced 5 W&B file(s), 0 media file(s), 0 artifact file(s) and 0 other file(s)"
      ],
      "text/plain": [
       "<IPython.core.display.HTML object>"
      ]
     },
     "metadata": {},
     "output_type": "display_data"
    },
    {
     "data": {
      "text/html": [
       "Find logs at: <code>./wandb/run-20240415_200111-s0xd22fb/logs</code>"
      ],
      "text/plain": [
       "<IPython.core.display.HTML object>"
      ]
     },
     "metadata": {},
     "output_type": "display_data"
    },
    {
     "data": {
      "application/vnd.jupyter.widget-view+json": {
       "model_id": "1e295623d384413b81be7b912b26cef0",
       "version_major": 2,
       "version_minor": 0
      },
      "text/plain": [
       "VBox(children=(Label(value='Waiting for wandb.init()...\\r'), FloatProgress(value=0.011115862967239485, max=1.0…"
      ]
     },
     "metadata": {},
     "output_type": "display_data"
    },
    {
     "data": {
      "text/html": [
       "Tracking run with wandb version 0.16.6"
      ],
      "text/plain": [
       "<IPython.core.display.HTML object>"
      ]
     },
     "metadata": {},
     "output_type": "display_data"
    },
    {
     "data": {
      "text/html": [
       "Run data is saved locally in <code>/Users/khush24shah/Desktop/Main/IITGN/SEM - 2/ML/assignment-4-ml-team-students-ensemble/wandb/run-20240415_200125-63nye8g5</code>"
      ],
      "text/plain": [
       "<IPython.core.display.HTML object>"
      ]
     },
     "metadata": {},
     "output_type": "display_data"
    },
    {
     "data": {
      "text/html": [
       "Syncing run <strong><a href='https://wandb.ai/khush24shah/Assignment%204/runs/63nye8g5' target=\"_blank\">lsh_n100_d1000</a></strong> to <a href='https://wandb.ai/khush24shah/Assignment%204' target=\"_blank\">Weights & Biases</a> (<a href='https://wandb.me/run' target=\"_blank\">docs</a>)<br/>"
      ],
      "text/plain": [
       "<IPython.core.display.HTML object>"
      ]
     },
     "metadata": {},
     "output_type": "display_data"
    },
    {
     "data": {
      "text/html": [
       " View project at <a href='https://wandb.ai/khush24shah/Assignment%204' target=\"_blank\">https://wandb.ai/khush24shah/Assignment%204</a>"
      ],
      "text/plain": [
       "<IPython.core.display.HTML object>"
      ]
     },
     "metadata": {},
     "output_type": "display_data"
    },
    {
     "data": {
      "text/html": [
       " View run at <a href='https://wandb.ai/khush24shah/Assignment%204/runs/63nye8g5' target=\"_blank\">https://wandb.ai/khush24shah/Assignment%204/runs/63nye8g5</a>"
      ],
      "text/plain": [
       "<IPython.core.display.HTML object>"
      ]
     },
     "metadata": {},
     "output_type": "display_data"
    },
    {
     "data": {
      "application/vnd.jupyter.widget-view+json": {
       "model_id": "2c6b3ab2b8d34dd9a407ac53cae23007",
       "version_major": 2,
       "version_minor": 0
      },
      "text/plain": [
       "VBox(children=(Label(value='0.001 MB of 0.033 MB uploaded\\r'), FloatProgress(value=0.03037931231763831, max=1.…"
      ]
     },
     "metadata": {},
     "output_type": "display_data"
    },
    {
     "data": {
      "text/html": [
       "<style>\n",
       "    table.wandb td:nth-child(1) { padding: 0 10px; text-align: left ; width: auto;} td:nth-child(2) {text-align: left ; width: 100%}\n",
       "    .wandb-row { display: flex; flex-direction: row; flex-wrap: wrap; justify-content: flex-start; width: 100% }\n",
       "    .wandb-col { display: flex; flex-direction: column; flex-basis: 100%; flex: 1; padding: 10px; }\n",
       "    </style>\n",
       "<div class=\"wandb-row\"><div class=\"wandb-col\"><h3>Run history:</h3><br/><table class=\"wandb\"><tr><td>d</td><td>▁</td></tr><tr><td>fitting_time</td><td>▁</td></tr><tr><td>memory</td><td>▁</td></tr><tr><td>n</td><td>▁</td></tr><tr><td>pred_time</td><td>▁</td></tr></table><br/></div><div class=\"wandb-col\"><h3>Run summary:</h3><br/><table class=\"wandb\"><tr><td>d</td><td>1000</td></tr><tr><td>fitting_time</td><td>0.00027</td></tr><tr><td>memory</td><td>56.0</td></tr><tr><td>method</td><td>lsh</td></tr><tr><td>n</td><td>100</td></tr><tr><td>pred_time</td><td>0.01208</td></tr></table><br/></div></div>"
      ],
      "text/plain": [
       "<IPython.core.display.HTML object>"
      ]
     },
     "metadata": {},
     "output_type": "display_data"
    },
    {
     "data": {
      "text/html": [
       " View run <strong style=\"color:#cdcd00\">lsh_n100_d1000</strong> at: <a href='https://wandb.ai/khush24shah/Assignment%204/runs/63nye8g5' target=\"_blank\">https://wandb.ai/khush24shah/Assignment%204/runs/63nye8g5</a><br/> View project at: <a href='https://wandb.ai/khush24shah/Assignment%204' target=\"_blank\">https://wandb.ai/khush24shah/Assignment%204</a><br/>Synced 5 W&B file(s), 0 media file(s), 0 artifact file(s) and 0 other file(s)"
      ],
      "text/plain": [
       "<IPython.core.display.HTML object>"
      ]
     },
     "metadata": {},
     "output_type": "display_data"
    },
    {
     "data": {
      "text/html": [
       "Find logs at: <code>./wandb/run-20240415_200125-63nye8g5/logs</code>"
      ],
      "text/plain": [
       "<IPython.core.display.HTML object>"
      ]
     },
     "metadata": {},
     "output_type": "display_data"
    },
    {
     "data": {
      "application/vnd.jupyter.widget-view+json": {
       "model_id": "7b2902f02edb49cb8b102f70378c2446",
       "version_major": 2,
       "version_minor": 0
      },
      "text/plain": [
       "VBox(children=(Label(value='Waiting for wandb.init()...\\r'), FloatProgress(value=0.011222698611284916, max=1.0…"
      ]
     },
     "metadata": {},
     "output_type": "display_data"
    },
    {
     "data": {
      "text/html": [
       "Tracking run with wandb version 0.16.6"
      ],
      "text/plain": [
       "<IPython.core.display.HTML object>"
      ]
     },
     "metadata": {},
     "output_type": "display_data"
    },
    {
     "data": {
      "text/html": [
       "Run data is saved locally in <code>/Users/khush24shah/Desktop/Main/IITGN/SEM - 2/ML/assignment-4-ml-team-students-ensemble/wandb/run-20240415_200139-8vhq9cfh</code>"
      ],
      "text/plain": [
       "<IPython.core.display.HTML object>"
      ]
     },
     "metadata": {},
     "output_type": "display_data"
    },
    {
     "data": {
      "text/html": [
       "Syncing run <strong><a href='https://wandb.ai/khush24shah/Assignment%204/runs/8vhq9cfh' target=\"_blank\">lsh_n1000_d2</a></strong> to <a href='https://wandb.ai/khush24shah/Assignment%204' target=\"_blank\">Weights & Biases</a> (<a href='https://wandb.me/run' target=\"_blank\">docs</a>)<br/>"
      ],
      "text/plain": [
       "<IPython.core.display.HTML object>"
      ]
     },
     "metadata": {},
     "output_type": "display_data"
    },
    {
     "data": {
      "text/html": [
       " View project at <a href='https://wandb.ai/khush24shah/Assignment%204' target=\"_blank\">https://wandb.ai/khush24shah/Assignment%204</a>"
      ],
      "text/plain": [
       "<IPython.core.display.HTML object>"
      ]
     },
     "metadata": {},
     "output_type": "display_data"
    },
    {
     "data": {
      "text/html": [
       " View run at <a href='https://wandb.ai/khush24shah/Assignment%204/runs/8vhq9cfh' target=\"_blank\">https://wandb.ai/khush24shah/Assignment%204/runs/8vhq9cfh</a>"
      ],
      "text/plain": [
       "<IPython.core.display.HTML object>"
      ]
     },
     "metadata": {},
     "output_type": "display_data"
    },
    {
     "data": {
      "application/vnd.jupyter.widget-view+json": {
       "model_id": "a948aa9cf73a4bf48786c407fbc19388",
       "version_major": 2,
       "version_minor": 0
      },
      "text/plain": [
       "VBox(children=(Label(value='0.001 MB of 0.033 MB uploaded\\r'), FloatProgress(value=0.030436523828594315, max=1…"
      ]
     },
     "metadata": {},
     "output_type": "display_data"
    },
    {
     "data": {
      "text/html": [
       "<style>\n",
       "    table.wandb td:nth-child(1) { padding: 0 10px; text-align: left ; width: auto;} td:nth-child(2) {text-align: left ; width: 100%}\n",
       "    .wandb-row { display: flex; flex-direction: row; flex-wrap: wrap; justify-content: flex-start; width: 100% }\n",
       "    .wandb-col { display: flex; flex-direction: column; flex-basis: 100%; flex: 1; padding: 10px; }\n",
       "    </style>\n",
       "<div class=\"wandb-row\"><div class=\"wandb-col\"><h3>Run history:</h3><br/><table class=\"wandb\"><tr><td>d</td><td>▁</td></tr><tr><td>fitting_time</td><td>▁</td></tr><tr><td>memory</td><td>▁</td></tr><tr><td>n</td><td>▁</td></tr><tr><td>pred_time</td><td>▁</td></tr></table><br/></div><div class=\"wandb-col\"><h3>Run summary:</h3><br/><table class=\"wandb\"><tr><td>d</td><td>2</td></tr><tr><td>fitting_time</td><td>0.00043</td></tr><tr><td>memory</td><td>56.0</td></tr><tr><td>method</td><td>lsh</td></tr><tr><td>n</td><td>1000</td></tr><tr><td>pred_time</td><td>0.10442</td></tr></table><br/></div></div>"
      ],
      "text/plain": [
       "<IPython.core.display.HTML object>"
      ]
     },
     "metadata": {},
     "output_type": "display_data"
    },
    {
     "data": {
      "text/html": [
       " View run <strong style=\"color:#cdcd00\">lsh_n1000_d2</strong> at: <a href='https://wandb.ai/khush24shah/Assignment%204/runs/8vhq9cfh' target=\"_blank\">https://wandb.ai/khush24shah/Assignment%204/runs/8vhq9cfh</a><br/> View project at: <a href='https://wandb.ai/khush24shah/Assignment%204' target=\"_blank\">https://wandb.ai/khush24shah/Assignment%204</a><br/>Synced 5 W&B file(s), 0 media file(s), 0 artifact file(s) and 0 other file(s)"
      ],
      "text/plain": [
       "<IPython.core.display.HTML object>"
      ]
     },
     "metadata": {},
     "output_type": "display_data"
    },
    {
     "data": {
      "text/html": [
       "Find logs at: <code>./wandb/run-20240415_200139-8vhq9cfh/logs</code>"
      ],
      "text/plain": [
       "<IPython.core.display.HTML object>"
      ]
     },
     "metadata": {},
     "output_type": "display_data"
    },
    {
     "data": {
      "application/vnd.jupyter.widget-view+json": {
       "model_id": "19668ebf756141209fec8d4be045d288",
       "version_major": 2,
       "version_minor": 0
      },
      "text/plain": [
       "VBox(children=(Label(value='Waiting for wandb.init()...\\r'), FloatProgress(value=0.011219645366590055, max=1.0…"
      ]
     },
     "metadata": {},
     "output_type": "display_data"
    },
    {
     "data": {
      "text/html": [
       "Tracking run with wandb version 0.16.6"
      ],
      "text/plain": [
       "<IPython.core.display.HTML object>"
      ]
     },
     "metadata": {},
     "output_type": "display_data"
    },
    {
     "data": {
      "text/html": [
       "Run data is saved locally in <code>/Users/khush24shah/Desktop/Main/IITGN/SEM - 2/ML/assignment-4-ml-team-students-ensemble/wandb/run-20240415_200155-mv1gmdai</code>"
      ],
      "text/plain": [
       "<IPython.core.display.HTML object>"
      ]
     },
     "metadata": {},
     "output_type": "display_data"
    },
    {
     "data": {
      "text/html": [
       "Syncing run <strong><a href='https://wandb.ai/khush24shah/Assignment%204/runs/mv1gmdai' target=\"_blank\">lsh_n1000_d10</a></strong> to <a href='https://wandb.ai/khush24shah/Assignment%204' target=\"_blank\">Weights & Biases</a> (<a href='https://wandb.me/run' target=\"_blank\">docs</a>)<br/>"
      ],
      "text/plain": [
       "<IPython.core.display.HTML object>"
      ]
     },
     "metadata": {},
     "output_type": "display_data"
    },
    {
     "data": {
      "text/html": [
       " View project at <a href='https://wandb.ai/khush24shah/Assignment%204' target=\"_blank\">https://wandb.ai/khush24shah/Assignment%204</a>"
      ],
      "text/plain": [
       "<IPython.core.display.HTML object>"
      ]
     },
     "metadata": {},
     "output_type": "display_data"
    },
    {
     "data": {
      "text/html": [
       " View run at <a href='https://wandb.ai/khush24shah/Assignment%204/runs/mv1gmdai' target=\"_blank\">https://wandb.ai/khush24shah/Assignment%204/runs/mv1gmdai</a>"
      ],
      "text/plain": [
       "<IPython.core.display.HTML object>"
      ]
     },
     "metadata": {},
     "output_type": "display_data"
    },
    {
     "data": {
      "application/vnd.jupyter.widget-view+json": {
       "model_id": "149a9af0dfda468b987da6be1a3a0344",
       "version_major": 2,
       "version_minor": 0
      },
      "text/plain": [
       "VBox(children=(Label(value='0.001 MB of 0.033 MB uploaded\\r'), FloatProgress(value=0.03040791807311631, max=1.…"
      ]
     },
     "metadata": {},
     "output_type": "display_data"
    },
    {
     "data": {
      "text/html": [
       "<style>\n",
       "    table.wandb td:nth-child(1) { padding: 0 10px; text-align: left ; width: auto;} td:nth-child(2) {text-align: left ; width: 100%}\n",
       "    .wandb-row { display: flex; flex-direction: row; flex-wrap: wrap; justify-content: flex-start; width: 100% }\n",
       "    .wandb-col { display: flex; flex-direction: column; flex-basis: 100%; flex: 1; padding: 10px; }\n",
       "    </style>\n",
       "<div class=\"wandb-row\"><div class=\"wandb-col\"><h3>Run history:</h3><br/><table class=\"wandb\"><tr><td>d</td><td>▁</td></tr><tr><td>fitting_time</td><td>▁</td></tr><tr><td>memory</td><td>▁</td></tr><tr><td>n</td><td>▁</td></tr><tr><td>pred_time</td><td>▁</td></tr></table><br/></div><div class=\"wandb-col\"><h3>Run summary:</h3><br/><table class=\"wandb\"><tr><td>d</td><td>10</td></tr><tr><td>fitting_time</td><td>0.00042</td></tr><tr><td>memory</td><td>56.0</td></tr><tr><td>method</td><td>lsh</td></tr><tr><td>n</td><td>1000</td></tr><tr><td>pred_time</td><td>0.10699</td></tr></table><br/></div></div>"
      ],
      "text/plain": [
       "<IPython.core.display.HTML object>"
      ]
     },
     "metadata": {},
     "output_type": "display_data"
    },
    {
     "data": {
      "text/html": [
       " View run <strong style=\"color:#cdcd00\">lsh_n1000_d10</strong> at: <a href='https://wandb.ai/khush24shah/Assignment%204/runs/mv1gmdai' target=\"_blank\">https://wandb.ai/khush24shah/Assignment%204/runs/mv1gmdai</a><br/> View project at: <a href='https://wandb.ai/khush24shah/Assignment%204' target=\"_blank\">https://wandb.ai/khush24shah/Assignment%204</a><br/>Synced 5 W&B file(s), 0 media file(s), 0 artifact file(s) and 0 other file(s)"
      ],
      "text/plain": [
       "<IPython.core.display.HTML object>"
      ]
     },
     "metadata": {},
     "output_type": "display_data"
    },
    {
     "data": {
      "text/html": [
       "Find logs at: <code>./wandb/run-20240415_200155-mv1gmdai/logs</code>"
      ],
      "text/plain": [
       "<IPython.core.display.HTML object>"
      ]
     },
     "metadata": {},
     "output_type": "display_data"
    },
    {
     "data": {
      "application/vnd.jupyter.widget-view+json": {
       "model_id": "f46ece254c1840f6968e0fb5e3cb2703",
       "version_major": 2,
       "version_minor": 0
      },
      "text/plain": [
       "VBox(children=(Label(value='Waiting for wandb.init()...\\r'), FloatProgress(value=0.011172133799926895, max=1.0…"
      ]
     },
     "metadata": {},
     "output_type": "display_data"
    },
    {
     "data": {
      "text/html": [
       "Tracking run with wandb version 0.16.6"
      ],
      "text/plain": [
       "<IPython.core.display.HTML object>"
      ]
     },
     "metadata": {},
     "output_type": "display_data"
    },
    {
     "data": {
      "text/html": [
       "Run data is saved locally in <code>/Users/khush24shah/Desktop/Main/IITGN/SEM - 2/ML/assignment-4-ml-team-students-ensemble/wandb/run-20240415_200211-42nrcv6p</code>"
      ],
      "text/plain": [
       "<IPython.core.display.HTML object>"
      ]
     },
     "metadata": {},
     "output_type": "display_data"
    },
    {
     "data": {
      "text/html": [
       "Syncing run <strong><a href='https://wandb.ai/khush24shah/Assignment%204/runs/42nrcv6p' target=\"_blank\">lsh_n1000_d100</a></strong> to <a href='https://wandb.ai/khush24shah/Assignment%204' target=\"_blank\">Weights & Biases</a> (<a href='https://wandb.me/run' target=\"_blank\">docs</a>)<br/>"
      ],
      "text/plain": [
       "<IPython.core.display.HTML object>"
      ]
     },
     "metadata": {},
     "output_type": "display_data"
    },
    {
     "data": {
      "text/html": [
       " View project at <a href='https://wandb.ai/khush24shah/Assignment%204' target=\"_blank\">https://wandb.ai/khush24shah/Assignment%204</a>"
      ],
      "text/plain": [
       "<IPython.core.display.HTML object>"
      ]
     },
     "metadata": {},
     "output_type": "display_data"
    },
    {
     "data": {
      "text/html": [
       " View run at <a href='https://wandb.ai/khush24shah/Assignment%204/runs/42nrcv6p' target=\"_blank\">https://wandb.ai/khush24shah/Assignment%204/runs/42nrcv6p</a>"
      ],
      "text/plain": [
       "<IPython.core.display.HTML object>"
      ]
     },
     "metadata": {},
     "output_type": "display_data"
    },
    {
     "data": {
      "application/vnd.jupyter.widget-view+json": {
       "model_id": "684cc629d6f844c8b4eb3c8fc2db12aa",
       "version_major": 2,
       "version_minor": 0
      },
      "text/plain": [
       "VBox(children=(Label(value='0.001 MB of 0.033 MB uploaded\\r'), FloatProgress(value=0.030436523828594315, max=1…"
      ]
     },
     "metadata": {},
     "output_type": "display_data"
    },
    {
     "data": {
      "text/html": [
       "<style>\n",
       "    table.wandb td:nth-child(1) { padding: 0 10px; text-align: left ; width: auto;} td:nth-child(2) {text-align: left ; width: 100%}\n",
       "    .wandb-row { display: flex; flex-direction: row; flex-wrap: wrap; justify-content: flex-start; width: 100% }\n",
       "    .wandb-col { display: flex; flex-direction: column; flex-basis: 100%; flex: 1; padding: 10px; }\n",
       "    </style>\n",
       "<div class=\"wandb-row\"><div class=\"wandb-col\"><h3>Run history:</h3><br/><table class=\"wandb\"><tr><td>d</td><td>▁</td></tr><tr><td>fitting_time</td><td>▁</td></tr><tr><td>memory</td><td>▁</td></tr><tr><td>n</td><td>▁</td></tr><tr><td>pred_time</td><td>▁</td></tr></table><br/></div><div class=\"wandb-col\"><h3>Run summary:</h3><br/><table class=\"wandb\"><tr><td>d</td><td>100</td></tr><tr><td>fitting_time</td><td>0.00056</td></tr><tr><td>memory</td><td>56.0</td></tr><tr><td>method</td><td>lsh</td></tr><tr><td>n</td><td>1000</td></tr><tr><td>pred_time</td><td>0.12491</td></tr></table><br/></div></div>"
      ],
      "text/plain": [
       "<IPython.core.display.HTML object>"
      ]
     },
     "metadata": {},
     "output_type": "display_data"
    },
    {
     "data": {
      "text/html": [
       " View run <strong style=\"color:#cdcd00\">lsh_n1000_d100</strong> at: <a href='https://wandb.ai/khush24shah/Assignment%204/runs/42nrcv6p' target=\"_blank\">https://wandb.ai/khush24shah/Assignment%204/runs/42nrcv6p</a><br/> View project at: <a href='https://wandb.ai/khush24shah/Assignment%204' target=\"_blank\">https://wandb.ai/khush24shah/Assignment%204</a><br/>Synced 5 W&B file(s), 0 media file(s), 0 artifact file(s) and 0 other file(s)"
      ],
      "text/plain": [
       "<IPython.core.display.HTML object>"
      ]
     },
     "metadata": {},
     "output_type": "display_data"
    },
    {
     "data": {
      "text/html": [
       "Find logs at: <code>./wandb/run-20240415_200211-42nrcv6p/logs</code>"
      ],
      "text/plain": [
       "<IPython.core.display.HTML object>"
      ]
     },
     "metadata": {},
     "output_type": "display_data"
    },
    {
     "data": {
      "application/vnd.jupyter.widget-view+json": {
       "model_id": "7065883c2f5348fda2dc5b78feb8e3a1",
       "version_major": 2,
       "version_minor": 0
      },
      "text/plain": [
       "VBox(children=(Label(value='Waiting for wandb.init()...\\r'), FloatProgress(value=0.011121888888818729, max=1.0…"
      ]
     },
     "metadata": {},
     "output_type": "display_data"
    },
    {
     "data": {
      "text/html": [
       "Tracking run with wandb version 0.16.6"
      ],
      "text/plain": [
       "<IPython.core.display.HTML object>"
      ]
     },
     "metadata": {},
     "output_type": "display_data"
    },
    {
     "data": {
      "text/html": [
       "Run data is saved locally in <code>/Users/khush24shah/Desktop/Main/IITGN/SEM - 2/ML/assignment-4-ml-team-students-ensemble/wandb/run-20240415_200227-tx4keif8</code>"
      ],
      "text/plain": [
       "<IPython.core.display.HTML object>"
      ]
     },
     "metadata": {},
     "output_type": "display_data"
    },
    {
     "data": {
      "text/html": [
       "Syncing run <strong><a href='https://wandb.ai/khush24shah/Assignment%204/runs/tx4keif8' target=\"_blank\">lsh_n1000_d1000</a></strong> to <a href='https://wandb.ai/khush24shah/Assignment%204' target=\"_blank\">Weights & Biases</a> (<a href='https://wandb.me/run' target=\"_blank\">docs</a>)<br/>"
      ],
      "text/plain": [
       "<IPython.core.display.HTML object>"
      ]
     },
     "metadata": {},
     "output_type": "display_data"
    },
    {
     "data": {
      "text/html": [
       " View project at <a href='https://wandb.ai/khush24shah/Assignment%204' target=\"_blank\">https://wandb.ai/khush24shah/Assignment%204</a>"
      ],
      "text/plain": [
       "<IPython.core.display.HTML object>"
      ]
     },
     "metadata": {},
     "output_type": "display_data"
    },
    {
     "data": {
      "text/html": [
       " View run at <a href='https://wandb.ai/khush24shah/Assignment%204/runs/tx4keif8' target=\"_blank\">https://wandb.ai/khush24shah/Assignment%204/runs/tx4keif8</a>"
      ],
      "text/plain": [
       "<IPython.core.display.HTML object>"
      ]
     },
     "metadata": {},
     "output_type": "display_data"
    },
    {
     "data": {
      "application/vnd.jupyter.widget-view+json": {
       "model_id": "ca53bb35e1f545e2a7b05209fa43cae2",
       "version_major": 2,
       "version_minor": 0
      },
      "text/plain": [
       "VBox(children=(Label(value='0.033 MB of 0.033 MB uploaded\\r'), FloatProgress(value=0.9934490946019395, max=1.0…"
      ]
     },
     "metadata": {},
     "output_type": "display_data"
    },
    {
     "data": {
      "text/html": [
       "<style>\n",
       "    table.wandb td:nth-child(1) { padding: 0 10px; text-align: left ; width: auto;} td:nth-child(2) {text-align: left ; width: 100%}\n",
       "    .wandb-row { display: flex; flex-direction: row; flex-wrap: wrap; justify-content: flex-start; width: 100% }\n",
       "    .wandb-col { display: flex; flex-direction: column; flex-basis: 100%; flex: 1; padding: 10px; }\n",
       "    </style>\n",
       "<div class=\"wandb-row\"><div class=\"wandb-col\"><h3>Run history:</h3><br/><table class=\"wandb\"><tr><td>d</td><td>▁</td></tr><tr><td>fitting_time</td><td>▁</td></tr><tr><td>memory</td><td>▁</td></tr><tr><td>n</td><td>▁</td></tr><tr><td>pred_time</td><td>▁</td></tr></table><br/></div><div class=\"wandb-col\"><h3>Run summary:</h3><br/><table class=\"wandb\"><tr><td>d</td><td>1000</td></tr><tr><td>fitting_time</td><td>0.00942</td></tr><tr><td>memory</td><td>56.0</td></tr><tr><td>method</td><td>lsh</td></tr><tr><td>n</td><td>1000</td></tr><tr><td>pred_time</td><td>0.52023</td></tr></table><br/></div></div>"
      ],
      "text/plain": [
       "<IPython.core.display.HTML object>"
      ]
     },
     "metadata": {},
     "output_type": "display_data"
    },
    {
     "data": {
      "text/html": [
       " View run <strong style=\"color:#cdcd00\">lsh_n1000_d1000</strong> at: <a href='https://wandb.ai/khush24shah/Assignment%204/runs/tx4keif8' target=\"_blank\">https://wandb.ai/khush24shah/Assignment%204/runs/tx4keif8</a><br/> View project at: <a href='https://wandb.ai/khush24shah/Assignment%204' target=\"_blank\">https://wandb.ai/khush24shah/Assignment%204</a><br/>Synced 5 W&B file(s), 0 media file(s), 0 artifact file(s) and 0 other file(s)"
      ],
      "text/plain": [
       "<IPython.core.display.HTML object>"
      ]
     },
     "metadata": {},
     "output_type": "display_data"
    },
    {
     "data": {
      "text/html": [
       "Find logs at: <code>./wandb/run-20240415_200227-tx4keif8/logs</code>"
      ],
      "text/plain": [
       "<IPython.core.display.HTML object>"
      ]
     },
     "metadata": {},
     "output_type": "display_data"
    },
    {
     "data": {
      "application/vnd.jupyter.widget-view+json": {
       "model_id": "2cab802ce4cf4efa9656c4fd4abf849f",
       "version_major": 2,
       "version_minor": 0
      },
      "text/plain": [
       "VBox(children=(Label(value='Waiting for wandb.init()...\\r'), FloatProgress(value=0.01121478472228369, max=1.0)…"
      ]
     },
     "metadata": {},
     "output_type": "display_data"
    },
    {
     "data": {
      "text/html": [
       "Tracking run with wandb version 0.16.6"
      ],
      "text/plain": [
       "<IPython.core.display.HTML object>"
      ]
     },
     "metadata": {},
     "output_type": "display_data"
    },
    {
     "data": {
      "text/html": [
       "Run data is saved locally in <code>/Users/khush24shah/Desktop/Main/IITGN/SEM - 2/ML/assignment-4-ml-team-students-ensemble/wandb/run-20240415_200246-y9rovltc</code>"
      ],
      "text/plain": [
       "<IPython.core.display.HTML object>"
      ]
     },
     "metadata": {},
     "output_type": "display_data"
    },
    {
     "data": {
      "text/html": [
       "Syncing run <strong><a href='https://wandb.ai/khush24shah/Assignment%204/runs/y9rovltc' target=\"_blank\">lsh_n1000_d2</a></strong> to <a href='https://wandb.ai/khush24shah/Assignment%204' target=\"_blank\">Weights & Biases</a> (<a href='https://wandb.me/run' target=\"_blank\">docs</a>)<br/>"
      ],
      "text/plain": [
       "<IPython.core.display.HTML object>"
      ]
     },
     "metadata": {},
     "output_type": "display_data"
    },
    {
     "data": {
      "text/html": [
       " View project at <a href='https://wandb.ai/khush24shah/Assignment%204' target=\"_blank\">https://wandb.ai/khush24shah/Assignment%204</a>"
      ],
      "text/plain": [
       "<IPython.core.display.HTML object>"
      ]
     },
     "metadata": {},
     "output_type": "display_data"
    },
    {
     "data": {
      "text/html": [
       " View run at <a href='https://wandb.ai/khush24shah/Assignment%204/runs/y9rovltc' target=\"_blank\">https://wandb.ai/khush24shah/Assignment%204/runs/y9rovltc</a>"
      ],
      "text/plain": [
       "<IPython.core.display.HTML object>"
      ]
     },
     "metadata": {},
     "output_type": "display_data"
    },
    {
     "data": {
      "application/vnd.jupyter.widget-view+json": {
       "model_id": "20ec2a8ab3af4f879bb44351c57b0107",
       "version_major": 2,
       "version_minor": 0
      },
      "text/plain": [
       "VBox(children=(Label(value='0.001 MB of 0.033 MB uploaded\\r'), FloatProgress(value=0.03040791807311631, max=1.…"
      ]
     },
     "metadata": {},
     "output_type": "display_data"
    },
    {
     "data": {
      "text/html": [
       "<style>\n",
       "    table.wandb td:nth-child(1) { padding: 0 10px; text-align: left ; width: auto;} td:nth-child(2) {text-align: left ; width: 100%}\n",
       "    .wandb-row { display: flex; flex-direction: row; flex-wrap: wrap; justify-content: flex-start; width: 100% }\n",
       "    .wandb-col { display: flex; flex-direction: column; flex-basis: 100%; flex: 1; padding: 10px; }\n",
       "    </style>\n",
       "<div class=\"wandb-row\"><div class=\"wandb-col\"><h3>Run history:</h3><br/><table class=\"wandb\"><tr><td>d</td><td>▁</td></tr><tr><td>fitting_time</td><td>▁</td></tr><tr><td>memory</td><td>▁</td></tr><tr><td>n</td><td>▁</td></tr><tr><td>pred_time</td><td>▁</td></tr></table><br/></div><div class=\"wandb-col\"><h3>Run summary:</h3><br/><table class=\"wandb\"><tr><td>d</td><td>2</td></tr><tr><td>fitting_time</td><td>0.00041</td></tr><tr><td>memory</td><td>56.0</td></tr><tr><td>method</td><td>lsh</td></tr><tr><td>n</td><td>1000</td></tr><tr><td>pred_time</td><td>0.10587</td></tr></table><br/></div></div>"
      ],
      "text/plain": [
       "<IPython.core.display.HTML object>"
      ]
     },
     "metadata": {},
     "output_type": "display_data"
    },
    {
     "data": {
      "text/html": [
       " View run <strong style=\"color:#cdcd00\">lsh_n1000_d2</strong> at: <a href='https://wandb.ai/khush24shah/Assignment%204/runs/y9rovltc' target=\"_blank\">https://wandb.ai/khush24shah/Assignment%204/runs/y9rovltc</a><br/> View project at: <a href='https://wandb.ai/khush24shah/Assignment%204' target=\"_blank\">https://wandb.ai/khush24shah/Assignment%204</a><br/>Synced 5 W&B file(s), 0 media file(s), 0 artifact file(s) and 0 other file(s)"
      ],
      "text/plain": [
       "<IPython.core.display.HTML object>"
      ]
     },
     "metadata": {},
     "output_type": "display_data"
    },
    {
     "data": {
      "text/html": [
       "Find logs at: <code>./wandb/run-20240415_200246-y9rovltc/logs</code>"
      ],
      "text/plain": [
       "<IPython.core.display.HTML object>"
      ]
     },
     "metadata": {},
     "output_type": "display_data"
    },
    {
     "data": {
      "application/vnd.jupyter.widget-view+json": {
       "model_id": "c1c54b39810d4e0e942785ae45f40276",
       "version_major": 2,
       "version_minor": 0
      },
      "text/plain": [
       "VBox(children=(Label(value='Waiting for wandb.init()...\\r'), FloatProgress(value=0.01113699954455822, max=1.0)…"
      ]
     },
     "metadata": {},
     "output_type": "display_data"
    },
    {
     "data": {
      "text/html": [
       "Tracking run with wandb version 0.16.6"
      ],
      "text/plain": [
       "<IPython.core.display.HTML object>"
      ]
     },
     "metadata": {},
     "output_type": "display_data"
    },
    {
     "data": {
      "text/html": [
       "Run data is saved locally in <code>/Users/khush24shah/Desktop/Main/IITGN/SEM - 2/ML/assignment-4-ml-team-students-ensemble/wandb/run-20240415_200302-aj1fboo6</code>"
      ],
      "text/plain": [
       "<IPython.core.display.HTML object>"
      ]
     },
     "metadata": {},
     "output_type": "display_data"
    },
    {
     "data": {
      "text/html": [
       "Syncing run <strong><a href='https://wandb.ai/khush24shah/Assignment%204/runs/aj1fboo6' target=\"_blank\">lsh_n1000_d10</a></strong> to <a href='https://wandb.ai/khush24shah/Assignment%204' target=\"_blank\">Weights & Biases</a> (<a href='https://wandb.me/run' target=\"_blank\">docs</a>)<br/>"
      ],
      "text/plain": [
       "<IPython.core.display.HTML object>"
      ]
     },
     "metadata": {},
     "output_type": "display_data"
    },
    {
     "data": {
      "text/html": [
       " View project at <a href='https://wandb.ai/khush24shah/Assignment%204' target=\"_blank\">https://wandb.ai/khush24shah/Assignment%204</a>"
      ],
      "text/plain": [
       "<IPython.core.display.HTML object>"
      ]
     },
     "metadata": {},
     "output_type": "display_data"
    },
    {
     "data": {
      "text/html": [
       " View run at <a href='https://wandb.ai/khush24shah/Assignment%204/runs/aj1fboo6' target=\"_blank\">https://wandb.ai/khush24shah/Assignment%204/runs/aj1fboo6</a>"
      ],
      "text/plain": [
       "<IPython.core.display.HTML object>"
      ]
     },
     "metadata": {},
     "output_type": "display_data"
    },
    {
     "data": {
      "application/vnd.jupyter.widget-view+json": {
       "model_id": "333f72efdea64d33b043eb90d72dfe14",
       "version_major": 2,
       "version_minor": 0
      },
      "text/plain": [
       "VBox(children=(Label(value='0.001 MB of 0.033 MB uploaded\\r'), FloatProgress(value=0.030410527821484765, max=1…"
      ]
     },
     "metadata": {},
     "output_type": "display_data"
    },
    {
     "data": {
      "text/html": [
       "<style>\n",
       "    table.wandb td:nth-child(1) { padding: 0 10px; text-align: left ; width: auto;} td:nth-child(2) {text-align: left ; width: 100%}\n",
       "    .wandb-row { display: flex; flex-direction: row; flex-wrap: wrap; justify-content: flex-start; width: 100% }\n",
       "    .wandb-col { display: flex; flex-direction: column; flex-basis: 100%; flex: 1; padding: 10px; }\n",
       "    </style>\n",
       "<div class=\"wandb-row\"><div class=\"wandb-col\"><h3>Run history:</h3><br/><table class=\"wandb\"><tr><td>d</td><td>▁</td></tr><tr><td>fitting_time</td><td>▁</td></tr><tr><td>memory</td><td>▁</td></tr><tr><td>n</td><td>▁</td></tr><tr><td>pred_time</td><td>▁</td></tr></table><br/></div><div class=\"wandb-col\"><h3>Run summary:</h3><br/><table class=\"wandb\"><tr><td>d</td><td>10</td></tr><tr><td>fitting_time</td><td>0.00041</td></tr><tr><td>memory</td><td>56.0</td></tr><tr><td>method</td><td>lsh</td></tr><tr><td>n</td><td>1000</td></tr><tr><td>pred_time</td><td>0.10724</td></tr></table><br/></div></div>"
      ],
      "text/plain": [
       "<IPython.core.display.HTML object>"
      ]
     },
     "metadata": {},
     "output_type": "display_data"
    },
    {
     "data": {
      "text/html": [
       " View run <strong style=\"color:#cdcd00\">lsh_n1000_d10</strong> at: <a href='https://wandb.ai/khush24shah/Assignment%204/runs/aj1fboo6' target=\"_blank\">https://wandb.ai/khush24shah/Assignment%204/runs/aj1fboo6</a><br/> View project at: <a href='https://wandb.ai/khush24shah/Assignment%204' target=\"_blank\">https://wandb.ai/khush24shah/Assignment%204</a><br/>Synced 5 W&B file(s), 0 media file(s), 0 artifact file(s) and 0 other file(s)"
      ],
      "text/plain": [
       "<IPython.core.display.HTML object>"
      ]
     },
     "metadata": {},
     "output_type": "display_data"
    },
    {
     "data": {
      "text/html": [
       "Find logs at: <code>./wandb/run-20240415_200302-aj1fboo6/logs</code>"
      ],
      "text/plain": [
       "<IPython.core.display.HTML object>"
      ]
     },
     "metadata": {},
     "output_type": "display_data"
    },
    {
     "data": {
      "application/vnd.jupyter.widget-view+json": {
       "model_id": "5900e4df9cea4b8aabe8d1012eef5c32",
       "version_major": 2,
       "version_minor": 0
      },
      "text/plain": [
       "VBox(children=(Label(value='Waiting for wandb.init()...\\r'), FloatProgress(value=0.011115068055611724, max=1.0…"
      ]
     },
     "metadata": {},
     "output_type": "display_data"
    },
    {
     "data": {
      "text/html": [
       "Tracking run with wandb version 0.16.6"
      ],
      "text/plain": [
       "<IPython.core.display.HTML object>"
      ]
     },
     "metadata": {},
     "output_type": "display_data"
    },
    {
     "data": {
      "text/html": [
       "Run data is saved locally in <code>/Users/khush24shah/Desktop/Main/IITGN/SEM - 2/ML/assignment-4-ml-team-students-ensemble/wandb/run-20240415_200317-dlhcfewt</code>"
      ],
      "text/plain": [
       "<IPython.core.display.HTML object>"
      ]
     },
     "metadata": {},
     "output_type": "display_data"
    },
    {
     "data": {
      "text/html": [
       "Syncing run <strong><a href='https://wandb.ai/khush24shah/Assignment%204/runs/dlhcfewt' target=\"_blank\">lsh_n1000_d100</a></strong> to <a href='https://wandb.ai/khush24shah/Assignment%204' target=\"_blank\">Weights & Biases</a> (<a href='https://wandb.me/run' target=\"_blank\">docs</a>)<br/>"
      ],
      "text/plain": [
       "<IPython.core.display.HTML object>"
      ]
     },
     "metadata": {},
     "output_type": "display_data"
    },
    {
     "data": {
      "text/html": [
       " View project at <a href='https://wandb.ai/khush24shah/Assignment%204' target=\"_blank\">https://wandb.ai/khush24shah/Assignment%204</a>"
      ],
      "text/plain": [
       "<IPython.core.display.HTML object>"
      ]
     },
     "metadata": {},
     "output_type": "display_data"
    },
    {
     "data": {
      "text/html": [
       " View run at <a href='https://wandb.ai/khush24shah/Assignment%204/runs/dlhcfewt' target=\"_blank\">https://wandb.ai/khush24shah/Assignment%204/runs/dlhcfewt</a>"
      ],
      "text/plain": [
       "<IPython.core.display.HTML object>"
      ]
     },
     "metadata": {},
     "output_type": "display_data"
    },
    {
     "data": {
      "application/vnd.jupyter.widget-view+json": {
       "model_id": "33651ad01367421190ae1ee8ba8d242b",
       "version_major": 2,
       "version_minor": 0
      },
      "text/plain": [
       "VBox(children=(Label(value='0.001 MB of 0.001 MB uploaded\\r'), FloatProgress(value=1.0, max=1.0)))"
      ]
     },
     "metadata": {},
     "output_type": "display_data"
    },
    {
     "data": {
      "text/html": [
       "<style>\n",
       "    table.wandb td:nth-child(1) { padding: 0 10px; text-align: left ; width: auto;} td:nth-child(2) {text-align: left ; width: 100%}\n",
       "    .wandb-row { display: flex; flex-direction: row; flex-wrap: wrap; justify-content: flex-start; width: 100% }\n",
       "    .wandb-col { display: flex; flex-direction: column; flex-basis: 100%; flex: 1; padding: 10px; }\n",
       "    </style>\n",
       "<div class=\"wandb-row\"><div class=\"wandb-col\"><h3>Run history:</h3><br/><table class=\"wandb\"><tr><td>d</td><td>▁</td></tr><tr><td>fitting_time</td><td>▁</td></tr><tr><td>memory</td><td>▁</td></tr><tr><td>n</td><td>▁</td></tr><tr><td>pred_time</td><td>▁</td></tr></table><br/></div><div class=\"wandb-col\"><h3>Run summary:</h3><br/><table class=\"wandb\"><tr><td>d</td><td>100</td></tr><tr><td>fitting_time</td><td>0.00057</td></tr><tr><td>memory</td><td>56.0</td></tr><tr><td>method</td><td>lsh</td></tr><tr><td>n</td><td>1000</td></tr><tr><td>pred_time</td><td>0.13256</td></tr></table><br/></div></div>"
      ],
      "text/plain": [
       "<IPython.core.display.HTML object>"
      ]
     },
     "metadata": {},
     "output_type": "display_data"
    },
    {
     "data": {
      "text/html": [
       " View run <strong style=\"color:#cdcd00\">lsh_n1000_d100</strong> at: <a href='https://wandb.ai/khush24shah/Assignment%204/runs/dlhcfewt' target=\"_blank\">https://wandb.ai/khush24shah/Assignment%204/runs/dlhcfewt</a><br/> View project at: <a href='https://wandb.ai/khush24shah/Assignment%204' target=\"_blank\">https://wandb.ai/khush24shah/Assignment%204</a><br/>Synced 5 W&B file(s), 0 media file(s), 0 artifact file(s) and 0 other file(s)"
      ],
      "text/plain": [
       "<IPython.core.display.HTML object>"
      ]
     },
     "metadata": {},
     "output_type": "display_data"
    },
    {
     "data": {
      "text/html": [
       "Find logs at: <code>./wandb/run-20240415_200317-dlhcfewt/logs</code>"
      ],
      "text/plain": [
       "<IPython.core.display.HTML object>"
      ]
     },
     "metadata": {},
     "output_type": "display_data"
    },
    {
     "data": {
      "application/vnd.jupyter.widget-view+json": {
       "model_id": "af28cb3457494d2f843ce59335d5f61a",
       "version_major": 2,
       "version_minor": 0
      },
      "text/plain": [
       "VBox(children=(Label(value='Waiting for wandb.init()...\\r'), FloatProgress(value=0.011130075456134769, max=1.0…"
      ]
     },
     "metadata": {},
     "output_type": "display_data"
    },
    {
     "data": {
      "text/html": [
       "Tracking run with wandb version 0.16.6"
      ],
      "text/plain": [
       "<IPython.core.display.HTML object>"
      ]
     },
     "metadata": {},
     "output_type": "display_data"
    },
    {
     "data": {
      "text/html": [
       "Run data is saved locally in <code>/Users/khush24shah/Desktop/Main/IITGN/SEM - 2/ML/assignment-4-ml-team-students-ensemble/wandb/run-20240415_200333-nb5w6l76</code>"
      ],
      "text/plain": [
       "<IPython.core.display.HTML object>"
      ]
     },
     "metadata": {},
     "output_type": "display_data"
    },
    {
     "data": {
      "text/html": [
       "Syncing run <strong><a href='https://wandb.ai/khush24shah/Assignment%204/runs/nb5w6l76' target=\"_blank\">lsh_n1000_d1000</a></strong> to <a href='https://wandb.ai/khush24shah/Assignment%204' target=\"_blank\">Weights & Biases</a> (<a href='https://wandb.me/run' target=\"_blank\">docs</a>)<br/>"
      ],
      "text/plain": [
       "<IPython.core.display.HTML object>"
      ]
     },
     "metadata": {},
     "output_type": "display_data"
    },
    {
     "data": {
      "text/html": [
       " View project at <a href='https://wandb.ai/khush24shah/Assignment%204' target=\"_blank\">https://wandb.ai/khush24shah/Assignment%204</a>"
      ],
      "text/plain": [
       "<IPython.core.display.HTML object>"
      ]
     },
     "metadata": {},
     "output_type": "display_data"
    },
    {
     "data": {
      "text/html": [
       " View run at <a href='https://wandb.ai/khush24shah/Assignment%204/runs/nb5w6l76' target=\"_blank\">https://wandb.ai/khush24shah/Assignment%204/runs/nb5w6l76</a>"
      ],
      "text/plain": [
       "<IPython.core.display.HTML object>"
      ]
     },
     "metadata": {},
     "output_type": "display_data"
    },
    {
     "data": {
      "application/vnd.jupyter.widget-view+json": {
       "model_id": "4495344a70964a5899589f6cc10657d8",
       "version_major": 2,
       "version_minor": 0
      },
      "text/plain": [
       "VBox(children=(Label(value='0.010 MB of 0.033 MB uploaded\\r'), FloatProgress(value=0.30862537548276353, max=1.…"
      ]
     },
     "metadata": {},
     "output_type": "display_data"
    },
    {
     "data": {
      "text/html": [
       "<style>\n",
       "    table.wandb td:nth-child(1) { padding: 0 10px; text-align: left ; width: auto;} td:nth-child(2) {text-align: left ; width: 100%}\n",
       "    .wandb-row { display: flex; flex-direction: row; flex-wrap: wrap; justify-content: flex-start; width: 100% }\n",
       "    .wandb-col { display: flex; flex-direction: column; flex-basis: 100%; flex: 1; padding: 10px; }\n",
       "    </style>\n",
       "<div class=\"wandb-row\"><div class=\"wandb-col\"><h3>Run history:</h3><br/><table class=\"wandb\"><tr><td>d</td><td>▁</td></tr><tr><td>fitting_time</td><td>▁</td></tr><tr><td>memory</td><td>▁</td></tr><tr><td>n</td><td>▁</td></tr><tr><td>pred_time</td><td>▁</td></tr></table><br/></div><div class=\"wandb-col\"><h3>Run summary:</h3><br/><table class=\"wandb\"><tr><td>d</td><td>1000</td></tr><tr><td>fitting_time</td><td>0.01551</td></tr><tr><td>memory</td><td>56.0</td></tr><tr><td>method</td><td>lsh</td></tr><tr><td>n</td><td>1000</td></tr><tr><td>pred_time</td><td>0.53335</td></tr></table><br/></div></div>"
      ],
      "text/plain": [
       "<IPython.core.display.HTML object>"
      ]
     },
     "metadata": {},
     "output_type": "display_data"
    },
    {
     "data": {
      "text/html": [
       " View run <strong style=\"color:#cdcd00\">lsh_n1000_d1000</strong> at: <a href='https://wandb.ai/khush24shah/Assignment%204/runs/nb5w6l76' target=\"_blank\">https://wandb.ai/khush24shah/Assignment%204/runs/nb5w6l76</a><br/> View project at: <a href='https://wandb.ai/khush24shah/Assignment%204' target=\"_blank\">https://wandb.ai/khush24shah/Assignment%204</a><br/>Synced 5 W&B file(s), 0 media file(s), 0 artifact file(s) and 0 other file(s)"
      ],
      "text/plain": [
       "<IPython.core.display.HTML object>"
      ]
     },
     "metadata": {},
     "output_type": "display_data"
    },
    {
     "data": {
      "text/html": [
       "Find logs at: <code>./wandb/run-20240415_200333-nb5w6l76/logs</code>"
      ],
      "text/plain": [
       "<IPython.core.display.HTML object>"
      ]
     },
     "metadata": {},
     "output_type": "display_data"
    }
   ],
   "source": [
    "for method in methods:\n",
    "    for n in ns:\n",
    "        for d in ds:\n",
    "            fitting_times = []\n",
    "            pred_times = []\n",
    "            memories = []\n",
    "            wandb.init(project=\"Assignment 4\", name=f\"{method}_n{n}_d{d}\")\n",
    "            \n",
    "            for run in range(10):\n",
    "                fitting_time, pred_time, memory = test_method(method, n=n, d=d)\n",
    "                fitting_times.append(fitting_time)\n",
    "                pred_times.append(pred_time)\n",
    "                memories.append(memory)\n",
    "            fitting_time = np.mean(fitting_times)\n",
    "            pred_time = np.mean(pred_times)\n",
    "            memory = np.mean(memories)\n",
    "            wandb.log({\"method\": method, \"n\": n, \"d\": d, \"fitting_time\": fitting_time, \"pred_time\": pred_time, \"memory\": memory})\n",
    "            wandb.finish()"
   ]
  }
 ],
 "metadata": {
  "kernelspec": {
   "display_name": "base",
   "language": "python",
   "name": "python3"
  },
  "language_info": {
   "codemirror_mode": {
    "name": "ipython",
    "version": 3
   },
   "file_extension": ".py",
   "mimetype": "text/x-python",
   "name": "python",
   "nbconvert_exporter": "python",
   "pygments_lexer": "ipython3",
   "version": "3.11.6"
  }
 },
 "nbformat": 4,
 "nbformat_minor": 2
}
